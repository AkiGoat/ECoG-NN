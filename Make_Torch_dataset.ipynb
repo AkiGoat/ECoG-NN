{
 "cells": [
  {
   "cell_type": "code",
   "execution_count": 1,
   "metadata": {},
   "outputs": [],
   "source": [
    "import random\n",
    "import os.path\n",
    "import gzip\n",
    "import pickle\n",
    "import os\n",
    "import numpy as np\n",
    "import matplotlib.pyplot as plt\n",
    "from sklearn.model_selection import train_test_split\n",
    "%matplotlib inline\n",
    "import torch\n",
    "from torch.utils.data import Dataset, DataLoader, TensorDataset\n",
    "import torch.nn as nn\n",
    "import torch.nn.functional as F\n",
    "import torch.optim as optim\n",
    "from torch.autograd import Variable\n",
    "from torchvision import transforms\n",
    "import pandas as pd\n",
    "import numpy as np\n",
    "import os"
   ]
  },
  {
   "cell_type": "code",
   "execution_count": 2,
   "metadata": {},
   "outputs": [],
   "source": [
    "dataset_dir = 'C:/Users/Hyde/Projects/Jupyter Projects/data/Origin/ECoG_each_sound'\n",
    "freq_list = [700,800,900,1000,1100,1200,1300,1400,1500,1600]\n",
    "data_file = dataset_dir + \"/sound_data_new.pkl\"\n",
    "with open(data_file, 'rb') as f:\n",
    "    dataset = pickle.load(f)"
   ]
  },
  {
   "cell_type": "code",
   "execution_count": 3,
   "metadata": {},
   "outputs": [
    {
     "data": {
      "text/plain": [
       "1"
      ]
     },
     "execution_count": 3,
     "metadata": {},
     "output_type": "execute_result"
    }
   ],
   "source": [
    "sample = [dataset[700]]\n",
    "len(sample)"
   ]
  },
  {
   "cell_type": "code",
   "execution_count": 4,
   "metadata": {},
   "outputs": [
    {
     "data": {
      "text/plain": [
       "[<matplotlib.lines.Line2D at 0x254006148c8>]"
      ]
     },
     "execution_count": 4,
     "metadata": {},
     "output_type": "execute_result"
    },
    {
     "data": {
      "image/png": "[encoded data removed]",
      "text/plain": [
       "<Figure size 432x288 with 2 Axes>"
      ]
     },
     "metadata": {
      "needs_background": "light"
     },
     "output_type": "display_data"
    }
   ],
   "source": [
    "fig=plt.figure()\n",
    "ax1 = fig.add_subplot(2,1,1)\n",
    "ax2 = fig.add_subplot(2,1,2)\n",
    "\n",
    "ch = 0\n",
    "tmp = sample[0].reshape(96,100,125)\n",
    "ax1.plot(tmp[0,0,:])\n",
    "ax2.plot(tmp[1,0,:])"
   ]
  },
  {
   "cell_type": "code",
   "execution_count": 5,
   "metadata": {},
   "outputs": [
    {
     "name": "stdout",
     "output_type": "stream",
     "text": [
      "(96, 100, 125)\n",
      "(96, 100, 124)\n"
     ]
    }
   ],
   "source": [
    "sample700 = dataset[700].reshape(96,100,125).astype(np.float32)\n",
    "print(sample700.shape)\n",
    "print(sample700[:,:,0:124].shape)"
   ]
  },
  {
   "cell_type": "code",
   "execution_count": 16,
   "metadata": {},
   "outputs": [
    {
     "name": "stdout",
     "output_type": "stream",
     "text": [
      "10\n",
      "700\n",
      "(96, 100, 125)\n",
      "(100, 12000)\n",
      "700\n",
      "800\n",
      "(96, 100, 125)\n",
      "(100, 12000)\n",
      "900\n",
      "(96, 100, 125)\n",
      "(100, 12000)\n",
      "1000\n",
      "(96, 100, 125)\n",
      "(100, 12000)\n",
      "1100\n",
      "(96, 100, 125)\n",
      "(100, 12000)\n",
      "1200\n",
      "(96, 100, 125)\n",
      "(100, 12000)\n",
      "1300\n",
      "(96, 100, 125)\n",
      "(100, 12000)\n",
      "1400\n",
      "(96, 100, 125)\n",
      "(100, 12000)\n",
      "1500\n",
      "(96, 100, 125)\n",
      "(100, 12000)\n",
      "1600\n",
      "(96, 100, 125)\n",
      "(100, 12000)\n"
     ]
    }
   ],
   "source": [
    "print(len(dataset))\n",
    "whole_train_data = []\n",
    "label_train_data = []\n",
    "whole_test_data = []\n",
    "label_test_data = []\n",
    "\n",
    "#sample_num = 100\n",
    "#ch_num = 96\n",
    "#data_length = 125\n",
    "label_num = len(freq_list)\n",
    "\n",
    "n_datapoint = 125\n",
    "n_channel = 96 #ecog.shape[0]\n",
    "n_epoch = 100 #int(ecog.shape[1] / n_datapoint);\n",
    "\n",
    "for key in freq_list:\n",
    "    print(key)\n",
    "    print(dataset[key].shape)\n",
    "#    tmp = dataset[key].reshape(96,100,125)\n",
    "#    tmp = tmp[:,:,0:124]\n",
    "#    ecog = tmp.reshape(96,-1)\n",
    "    ecog = dataset[key].reshape(96,-1)\n",
    "    ecog_data = ecog[0, :].reshape(n_epoch, n_datapoint)\n",
    "    for ch in range (1, n_channel):\n",
    "        ecog_data = np.append(ecog_data, ecog[ch, :].reshape(n_epoch, n_datapoint), axis=1)\n",
    "\n",
    "    print(ecog_data.shape)\n",
    "    ecog_train_data = ecog_data[0:int(n_epoch*0.8)]\n",
    "    ecog_test_data = ecog_data[int(n_epoch*0.8):int(n_epoch)]\n",
    "    \n",
    "    if key == 700:\n",
    "        print(key)\n",
    "        whole_train_data = ecog_train_data.astype(np.float32)\n",
    "        whole_test_data = ecog_test_data.astype(np.float32)\n",
    "    else:\n",
    "        whole_train_data = np.append(whole_train_data, ecog_train_data.astype(np.float32), axis=0)\n",
    "        whole_test_data = np.append(whole_test_data, ecog_test_data.astype(np.float32), axis=0)\n",
    "        \n",
    "    label_train_data = np.append(label_train_data, np.ones(int(n_epoch*0.8))*freq_list.index(key))\n",
    "    label_test_data = np.append(label_test_data, np.ones(int(n_epoch*0.2))*freq_list.index(key))\n",
    "\n",
    "#whole_data = whole_data.reshape(ch_num,sample_num,data_length,label_num)\n",
    "#label_data = label_data.reshape(label_num,sample_num)"
   ]
  },
  {
   "cell_type": "code",
   "execution_count": 17,
   "metadata": {},
   "outputs": [
    {
     "name": "stdout",
     "output_type": "stream",
     "text": [
      "<class 'numpy.ndarray'>\n",
      "(800, 96, 125)\n",
      "(200, 96, 125)\n"
     ]
    }
   ],
   "source": [
    "ecog_train_data = whole_train_data.reshape(800,96,125)\n",
    "ecog_test_data = whole_test_data.reshape(200,96,125)\n",
    "print(type(ecog_train_data))\n",
    "print(ecog_train_data.shape)\n",
    "print(ecog_test_data.shape)"
   ]
  },
  {
   "cell_type": "code",
   "execution_count": 18,
   "metadata": {},
   "outputs": [],
   "source": [
    "mel = np.load('data/mel60_bi.npy').reshape(1000, 384)\n",
    "mel_train_data = []\n",
    "mel_test_data = []\n",
    "for i in range(1000):\n",
    "    if i%100 < 80:\n",
    "        mel_train_data.append(mel[i])\n",
    "    else:\n",
    "        mel_test_data.append(mel[i])"
   ]
  },
  {
   "cell_type": "code",
   "execution_count": 19,
   "metadata": {},
   "outputs": [
    {
     "name": "stdout",
     "output_type": "stream",
     "text": [
      "384\n"
     ]
    }
   ],
   "source": [
    "print(np.size(mel, 1))"
   ]
  },
  {
   "cell_type": "code",
   "execution_count": 20,
   "metadata": {
    "scrolled": true
   },
   "outputs": [
    {
     "name": "stdout",
     "output_type": "stream",
     "text": [
      "800\n"
     ]
    }
   ],
   "source": [
    "print(np.size(mel_train_data, 0))"
   ]
  },
  {
   "cell_type": "code",
   "execution_count": 21,
   "metadata": {},
   "outputs": [],
   "source": [
    "mel_train_data = np.array(mel_train_data)\n",
    "mel_test_data = np.array(mel_test_data)"
   ]
  },
  {
   "cell_type": "code",
   "execution_count": 22,
   "metadata": {},
   "outputs": [
    {
     "name": "stdout",
     "output_type": "stream",
     "text": [
      "<class 'torch.Tensor'> <class 'torch.Tensor'> <class 'torch.Tensor'> <class 'torch.Tensor'>\n"
     ]
    }
   ],
   "source": [
    "ecog_train_data = torch.from_numpy(ecog_train_data)\n",
    "# type(whole_train_data)\n",
    "mel_train_data = torch.from_numpy(mel_train_data)\n",
    "ecog_test_data = torch.from_numpy(ecog_test_data)\n",
    "mel_test_data = torch.from_numpy(mel_test_data)\n",
    "# whole_train_data = whole_train_data.astype(np.double)\n",
    "# whole_test_data = whole_test_data.astype(np.double)\n",
    "# label_train_data = label_train_data.astype(np.double)\n",
    "# label_test_data = label_test_data.astype(np.double)\n",
    "print(type(ecog_train_data), type(ecog_test_data), type(mel_train_data), type(mel_test_data))"
   ]
  },
  {
   "cell_type": "code",
   "execution_count": 23,
   "metadata": {},
   "outputs": [],
   "source": [
    "from torch.utils.data import Dataset"
   ]
  },
  {
   "cell_type": "code",
   "execution_count": 24,
   "metadata": {},
   "outputs": [],
   "source": [
    "final_train_data = TensorDataset(ecog_train_data, mel_train_data)\n",
    "final_test_data = TensorDataset(ecog_test_data, mel_test_data)"
   ]
  },
  {
   "cell_type": "code",
   "execution_count": 25,
   "metadata": {},
   "outputs": [
    {
     "name": "stdout",
     "output_type": "stream",
     "text": [
      "C:/Users/Hyde/Projects/Jupyter Projects/data/ecog_mel60_bi_dataset.pkl\n",
      "Creating pickle file ...\n",
      "Done!\n"
     ]
    }
   ],
   "source": [
    "save_file = \"C:/Users/Hyde/Projects/Jupyter Projects/data/ecog_mel60_bi_dataset.pkl\"\n",
    "print(save_file)\n",
    "print(\"Creating pickle file ...\")\n",
    "with open(save_file, 'wb') as f:\n",
    "    pickle.dump([final_train_data,final_test_data], f, -1)\n",
    "print(\"Done!\")"
   ]
  },
  {
   "cell_type": "code",
   "execution_count": 2,
   "metadata": {},
   "outputs": [
    {
     "data": {
      "text/plain": [
       "8.0"
      ]
     },
     "execution_count": 2,
     "metadata": {},
     "output_type": "execute_result"
    }
   ],
   "source": [
    "96000/96/125"
   ]
  }
 ],
 "metadata": {
  "kernelspec": {
   "display_name": "Python 3",
   "language": "python",
   "name": "python3"
  },
  "language_info": {
   "codemirror_mode": {
    "name": "ipython",
    "version": 3
   },
   "file_extension": ".py",
   "mimetype": "text/x-python",
   "name": "python",
   "nbconvert_exporter": "python",
   "pygments_lexer": "ipython3",
   "version": "3.7.6"
  }
 },
 "nbformat": 4,
 "nbformat_minor": 2
}
