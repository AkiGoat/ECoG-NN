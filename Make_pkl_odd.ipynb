{
 "cells": [
  {
   "cell_type": "code",
   "execution_count": 1,
   "metadata": {},
   "outputs": [],
   "source": [
    "import os.path\n",
    "import gzip\n",
    "import pickle\n",
    "import os\n",
    "import numpy as np"
   ]
  },
  {
   "cell_type": "code",
   "execution_count": 8,
   "metadata": {},
   "outputs": [],
   "source": [
    "dataset_dir = 'D:/Jupyter Projects/data/Marmoset/Oddball/withafterICA/'\n",
    "\n",
    "freq_list = [1, 2]\n",
    "pre_name = \"ECoGICA_ODD\""
   ]
  },
  {
   "cell_type": "code",
   "execution_count": 9,
   "metadata": {},
   "outputs": [],
   "source": [
    "save_file = dataset_dir + \"sound_data_odd.pkl\""
   ]
  },
  {
   "cell_type": "code",
   "execution_count": 4,
   "metadata": {},
   "outputs": [
    {
     "data": {
      "text/plain": [
       "1"
      ]
     },
     "execution_count": 4,
     "metadata": {},
     "output_type": "execute_result"
    }
   ],
   "source": [
    "freq_list[0]"
   ]
  },
  {
   "cell_type": "code",
   "execution_count": 11,
   "metadata": {},
   "outputs": [],
   "source": [
    "dataset = {}\n",
    "\n",
    "num_freq = freq_list[0]\n",
    "file_name = dataset_dir + pre_name + str(num_freq)+'.txt'\n",
    "\n",
    "with open(file_name) as file:\n",
    "    lines = []\n",
    "    for line in file:\n",
    "        data = line.rstrip().split(\"\\t\")\n",
    "        data[data==' ']='0'\n",
    "        lines.append(data)\n",
    "    arr_lines = np.array(lines, dtype='float32')\n",
    "    ecog = arr_lines[1:,1:]\n",
    "    ch_max = ecog.max(axis=1)\n",
    "    ch_min = ecog.min(axis=1)\n",
    "    ecog_norm = []\n",
    "    for i in range(96):\n",
    "        ecog_norm = np.append(ecog_norm, np.array([(ecog[i,:].T-ch_min[i])/(ch_max[i]-ch_min[i])]))\n",
    "    ecog_norm = ecog_norm.reshape(96,900,125)\n",
    "    dataset[num_freq] = ecog_norm\n",
    "\n",
    "num_freq = freq_list[1]\n",
    "file_name = dataset_dir + pre_name + str(num_freq)+'.txt'\n",
    "\n",
    "with open(file_name) as file:\n",
    "    lines = []\n",
    "    for line in file:\n",
    "        data = line.rstrip().split(\"\\t\")\n",
    "        data[data==' ']='0'\n",
    "        lines.append(data)\n",
    "    arr_lines = np.array(lines, dtype='float32')\n",
    "    ecog = arr_lines[1:,1:]\n",
    "    ch_max = ecog.max(axis=1)\n",
    "    ch_min = ecog.min(axis=1)\n",
    "    ecog_norm = []\n",
    "    for i in range(96):\n",
    "        ecog_norm = np.append(ecog_norm, np.array([(ecog[i,:].T-ch_min[i])/(ch_max[i]-ch_min[i])]))\n",
    "    ecog_norm = ecog_norm.reshape(96,100,125)\n",
    "    dataset[num_freq] = ecog_norm\n"
   ]
  },
  {
   "cell_type": "code",
   "execution_count": 12,
   "metadata": {},
   "outputs": [
    {
     "name": "stdout",
     "output_type": "stream",
     "text": [
      "Creating pickle file ...\n",
      "Done!\n"
     ]
    }
   ],
   "source": [
    "print(\"Creating pickle file ...\")\n",
    "with open(save_file, 'wb') as f:\n",
    "    pickle.dump(dataset, f, -1)\n",
    "print(\"Done!\")"
   ]
  }
 ],
 "metadata": {
  "kernelspec": {
   "display_name": "Python 3",
   "language": "python",
   "name": "python3"
  },
  "language_info": {
   "codemirror_mode": {
    "name": "ipython",
    "version": 3
   },
   "file_extension": ".py",
   "mimetype": "text/x-python",
   "name": "python",
   "nbconvert_exporter": "python",
   "pygments_lexer": "ipython3",
   "version": "3.6.8"
  }
 },
 "nbformat": 4,
 "nbformat_minor": 2
}
