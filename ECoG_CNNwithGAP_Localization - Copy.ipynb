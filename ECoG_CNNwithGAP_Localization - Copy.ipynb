{
 "cells": [
  {
   "cell_type": "code",
   "execution_count": 1,
   "metadata": {},
   "outputs": [],
   "source": [
    "import torch\n",
    "from torch.utils.data import Dataset, DataLoader\n",
    "import torch.nn as nn\n",
    "import torch.nn.functional as F\n",
    "import torch.optim as optim\n",
    "from torch.autograd import Variable\n",
    "from torchvision import transforms\n",
    "import pandas as pd\n",
    "import numpy as np\n",
    "import os\n",
    "import pickle\n",
    "import io\n",
    "from PIL import Image \n",
    "import cv2\n",
    "import pdb\n",
    "import matplotlib.pyplot as plt\n",
    "%matplotlib inline"
   ]
  },
  {
   "cell_type": "code",
   "execution_count": 2,
   "metadata": {},
   "outputs": [],
   "source": [
    "NUM_EPOCH = 30\n",
    "NUM_CLASSES = 10\n",
    "BATCH_SIZE = 100\n",
    "LEARNING_RATE = 0.001"
   ]
  },
  {
   "cell_type": "code",
   "execution_count": 3,
   "metadata": {},
   "outputs": [],
   "source": [
    "data_file = 'data/sound_dataset_96_125_d2.pkl'\n",
    "with open(data_file, 'rb') as f:\n",
    "    dataset = pickle.load(f)"
   ]
  },
  {
   "cell_type": "code",
   "execution_count": 4,
   "metadata": {},
   "outputs": [],
   "source": [
    "train_loader = torch.utils.data.DataLoader(dataset=dataset[0],\n",
    "                                           batch_size=BATCH_SIZE, \n",
    "                                           shuffle=True)\n",
    "\n",
    "test_loader = torch.utils.data.DataLoader(dataset=dataset[1],\n",
    "                                          batch_size=BATCH_SIZE, \n",
    "                                          shuffle=True)"
   ]
  },
  {
   "cell_type": "code",
   "execution_count": 5,
   "metadata": {},
   "outputs": [],
   "source": [
    "class Net(nn.Module):\n",
    "    \n",
    "    def __init__(self):\n",
    "        super(Net, self).__init__()\n",
    "        self.conv1 = nn.Conv2d(1, 5, kernel_size=3, padding=1)\n",
    "        self.conv2 = nn.Conv2d(5, 10, kernel_size=3, padding=1)\n",
    "#         self.mp = nn.MaxPool2d(3)\n",
    "        self.gap = nn.AvgPool2d(1)\n",
    "        self.fc = nn.Linear(120000, 10)\n",
    "        \n",
    "    def forward(self, x):\n",
    "#         x = x.view(1, 1, 96, 125)\n",
    "        x = torch.unsqueeze(x, 1)\n",
    "        in_size = x.size(0)\n",
    "        x1 = F.relu(self.conv1(x))\n",
    "        x2 = F.relu(self.conv2(x1))\n",
    "        x3 = self.gap(x2)\n",
    "        x4 = x3.view(in_size, -1)\n",
    "        x5 = F.log_softmax(self.fc(x4))\n",
    "        return x5"
   ]
  },
  {
   "cell_type": "code",
   "execution_count": 6,
   "metadata": {},
   "outputs": [],
   "source": [
    "# model = Net()\n",
    "# # model.load_state_dict(torch.load('CNN_GAP_dict.pkl'))\n",
    "# # criterion = nn.CrossEntropyLoss()\n",
    "# # optimizer = torch.optim.Adam(model.parameters(), lr=LEARNING_RATE)\n",
    "# model.eval()\n",
    "model = Net()\n",
    "criterion = nn.CrossEntropyLoss()\n",
    "optimizer = torch.optim.Adam(model.parameters(), lr=LEARNING_RATE)"
   ]
  },
  {
   "cell_type": "code",
   "execution_count": 181,
   "metadata": {},
   "outputs": [],
   "source": [
    "# for parma in model.parameters():\n",
    "#     parma.requires_grad = False"
   ]
  },
  {
   "cell_type": "code",
   "execution_count": 111,
   "metadata": {},
   "outputs": [],
   "source": [
    "# model.fc = nn.Linear(31, 10)"
   ]
  },
  {
   "cell_type": "code",
   "execution_count": 7,
   "metadata": {
    "scrolled": false
   },
   "outputs": [
    {
     "name": "stderr",
     "output_type": "stream",
     "text": [
      "C:\\Users\\Hyde\\anaconda3\\lib\\site-packages\\ipykernel_launcher.py:19: UserWarning: Implicit dimension choice for log_softmax has been deprecated. Change the call to include dim=X as an argument.\n"
     ]
    },
    {
     "name": "stdout",
     "output_type": "stream",
     "text": [
      "Epoch [1/30], Loss: 2.3102\n"
     ]
    },
    {
     "name": "stderr",
     "output_type": "stream",
     "text": [
      "C:\\Users\\Hyde\\anaconda3\\lib\\site-packages\\torch\\nn\\_reduction.py:43: UserWarning: size_average and reduce args will be deprecated, please use reduction='sum' instead.\n",
      "  warnings.warn(warning.format(ret))\n"
     ]
    },
    {
     "name": "stdout",
     "output_type": "stream",
     "text": [
      "\n",
      "Test set: Average loss: 2.8957, Accuracy: 40/200 (20%)\n",
      "\n",
      "Epoch [2/30], Loss: 2.8945\n",
      "\n",
      "Test set: Average loss: 2.2641, Accuracy: 20/200 (10%)\n",
      "\n",
      "Epoch [3/30], Loss: 2.2082\n",
      "\n",
      "Test set: Average loss: 2.0962, Accuracy: 61/200 (30%)\n",
      "\n",
      "Epoch [4/30], Loss: 2.0950\n",
      "\n",
      "Test set: Average loss: 1.8459, Accuracy: 146/200 (73%)\n",
      "\n",
      "Epoch [5/30], Loss: 1.8194\n",
      "\n",
      "Test set: Average loss: 1.6066, Accuracy: 192/200 (96%)\n",
      "\n",
      "Epoch [6/30], Loss: 1.6116\n",
      "\n",
      "Test set: Average loss: 1.3592, Accuracy: 193/200 (96%)\n",
      "\n",
      "Epoch [7/30], Loss: 1.2954\n",
      "\n",
      "Test set: Average loss: 1.0480, Accuracy: 197/200 (98%)\n",
      "\n",
      "Epoch [8/30], Loss: 0.9507\n",
      "\n",
      "Test set: Average loss: 0.5530, Accuracy: 200/200 (100%)\n",
      "\n",
      "Epoch [9/30], Loss: 0.4877\n",
      "\n",
      "Test set: Average loss: 0.1477, Accuracy: 200/200 (100%)\n",
      "\n",
      "Epoch [10/30], Loss: 0.1177\n",
      "\n",
      "Test set: Average loss: 0.0158, Accuracy: 200/200 (100%)\n",
      "\n",
      "Epoch [11/30], Loss: 0.0097\n",
      "\n",
      "Test set: Average loss: 0.0025, Accuracy: 200/200 (100%)\n",
      "\n",
      "Epoch [12/30], Loss: 0.0011\n",
      "\n",
      "Test set: Average loss: 0.0008, Accuracy: 200/200 (100%)\n",
      "\n",
      "Epoch [13/30], Loss: 0.0003\n",
      "\n",
      "Test set: Average loss: 0.0003, Accuracy: 200/200 (100%)\n",
      "\n",
      "Epoch [14/30], Loss: 0.0001\n",
      "\n",
      "Test set: Average loss: 0.0002, Accuracy: 200/200 (100%)\n",
      "\n",
      "Epoch [15/30], Loss: 0.0001\n",
      "\n",
      "Test set: Average loss: 0.0002, Accuracy: 200/200 (100%)\n",
      "\n",
      "Epoch [16/30], Loss: 0.0000\n",
      "\n",
      "Test set: Average loss: 0.0002, Accuracy: 200/200 (100%)\n",
      "\n",
      "Epoch [17/30], Loss: 0.0001\n",
      "\n",
      "Test set: Average loss: 0.0002, Accuracy: 200/200 (100%)\n",
      "\n",
      "Epoch [18/30], Loss: 0.0001\n",
      "\n",
      "Test set: Average loss: 0.0001, Accuracy: 200/200 (100%)\n",
      "\n",
      "Epoch [19/30], Loss: 0.0001\n",
      "\n",
      "Test set: Average loss: 0.0001, Accuracy: 200/200 (100%)\n",
      "\n",
      "Epoch [20/30], Loss: 0.0000\n",
      "\n",
      "Test set: Average loss: 0.0001, Accuracy: 200/200 (100%)\n",
      "\n",
      "Epoch [21/30], Loss: 0.0000\n",
      "\n",
      "Test set: Average loss: 0.0001, Accuracy: 200/200 (100%)\n",
      "\n",
      "Epoch [22/30], Loss: 0.0000\n",
      "\n",
      "Test set: Average loss: 0.0001, Accuracy: 200/200 (100%)\n",
      "\n",
      "Epoch [23/30], Loss: 0.0000\n",
      "\n",
      "Test set: Average loss: 0.0001, Accuracy: 200/200 (100%)\n",
      "\n",
      "Epoch [24/30], Loss: 0.0000\n",
      "\n",
      "Test set: Average loss: 0.0001, Accuracy: 200/200 (100%)\n",
      "\n",
      "Epoch [25/30], Loss: 0.0000\n",
      "\n",
      "Test set: Average loss: 0.0001, Accuracy: 200/200 (100%)\n",
      "\n",
      "Epoch [26/30], Loss: 0.0000\n",
      "\n",
      "Test set: Average loss: 0.0001, Accuracy: 200/200 (100%)\n",
      "\n",
      "Epoch [27/30], Loss: 0.0000\n",
      "\n",
      "Test set: Average loss: 0.0001, Accuracy: 200/200 (100%)\n",
      "\n",
      "Epoch [28/30], Loss: 0.0000\n",
      "\n",
      "Test set: Average loss: 0.0001, Accuracy: 200/200 (100%)\n",
      "\n",
      "Epoch [29/30], Loss: 0.0000\n",
      "\n",
      "Test set: Average loss: 0.0001, Accuracy: 200/200 (100%)\n",
      "\n",
      "Epoch [30/30], Loss: 0.0000\n",
      "\n",
      "Test set: Average loss: 0.0001, Accuracy: 200/200 (100%)\n",
      "\n"
     ]
    }
   ],
   "source": [
    "# Train the model\n",
    "total_step = len(train_loader)\n",
    "train_loss_list = []\n",
    "test_loss_list = []\n",
    "test_accuracy_list = []\n",
    "\n",
    "for epoch in range(NUM_EPOCH):\n",
    "    model.train()\n",
    "    for i, (images, labels) in enumerate(train_loader):\n",
    "#         images = images.to(device)\n",
    "#         labels = labels.to(device)\n",
    "        \n",
    "        # Forward pass\n",
    "#         outputs = model(images).double()\n",
    "#         labels = labels.long()\n",
    "        outputs = model(images)\n",
    "        labels = labels.long()\n",
    "        loss = criterion(outputs, labels)\n",
    "        \n",
    "        # Backward and optimize\n",
    "        optimizer.zero_grad()\n",
    "        loss.backward()\n",
    "        optimizer.step()\n",
    "        \n",
    "        if (i) % 100 == 0:\n",
    "            train_loss_list.append(loss.item())\n",
    "            print ('Epoch [{}/{}], Loss: {:.4f}' \n",
    "                   .format(epoch+1, NUM_EPOCH, loss.item()))\n",
    "#             model.eval()  # eval mode (batchnorm uses moving mean/variance instead of mini-batch mean/variance)\n",
    "#             with torch.no_grad():\n",
    "#                 correct = 0\n",
    "#                 total = 0\n",
    "#                 for images, labels in test_loader:\n",
    "#                     images = images.to(device)\n",
    "#                     labels = labels.to(device)\n",
    "#                     outputs = model(images)\n",
    "#                     _, predicted = torch.max(outputs.data, 1)\n",
    "#                     total += labels.size(0)\n",
    "#                     correct += (predicted == labels).sum().item()\n",
    "\n",
    "#                 print('Test Accuracy of the model on the 250 test images: {} %'.format(100 * correct / total))\n",
    "    model.eval()\n",
    "    test_loss = 0\n",
    "    correct = 0\n",
    "    for data, target in test_loader:\n",
    "#         data, target = Variable(data, volatile=True), Variable(target)\n",
    "#         data = data.to(device)\n",
    "#         target = target.to(device)\n",
    "        output = model(data).double()\n",
    "        # sum up batch loss\n",
    "        target = target.long()\n",
    "        test_loss += F.nll_loss(output, target, size_average=False).data\n",
    "        # get the index of the max log-probability\n",
    "        pred = output.data.max(1, keepdim=True)[1]\n",
    "        correct += pred.eq(target.data.view_as(pred)).sum()\n",
    "\n",
    "    test_loss /= len(test_loader.dataset)\n",
    "    test_loss_list.append(test_loss.item())\n",
    "    test_accuracy_list.append((100. * correct / len(test_loader.dataset)).item())\n",
    "    print('\\nTest set: Average loss: {:.4f}, Accuracy: {}/{} ({:.0f}%)\\n'.format(\n",
    "        test_loss, correct, len(test_loader.dataset),\n",
    "        100. * correct / len(test_loader.dataset)))\n",
    "#             print ('Epoch [{}/{}], Step [{}/{}], Loss: {:.4f}' \n",
    "#                    .format(epoch+1, NUM_EPOCH, i+1, total_step, loss.item()))\n"
   ]
  },
  {
   "cell_type": "code",
   "execution_count": 8,
   "metadata": {
    "scrolled": true
   },
   "outputs": [
    {
     "data": {
      "text/plain": [
       "<torch.utils.hooks.RemovableHandle at 0x277fd465b88>"
      ]
     },
     "execution_count": 8,
     "metadata": {},
     "output_type": "execute_result"
    }
   ],
   "source": [
    "finalconv_name = 'conv2'\n",
    "features_blobs = []\n",
    "def hook_feature(module, input, output):\n",
    "    features_blobs.append(output.data.numpy())\n",
    "\n",
    "model._modules.get(finalconv_name).register_forward_hook(hook_feature)\n"
   ]
  },
  {
   "cell_type": "code",
   "execution_count": 9,
   "metadata": {},
   "outputs": [
    {
     "name": "stdout",
     "output_type": "stream",
     "text": [
      "120000\n"
     ]
    }
   ],
   "source": [
    "params = list(model.parameters())\n",
    "weight_softmax = np.squeeze(params[-2].data.numpy()).T\n",
    "\n",
    "print(np.size(weight_softmax, 0))"
   ]
  },
  {
   "cell_type": "code",
   "execution_count": 10,
   "metadata": {},
   "outputs": [],
   "source": [
    "def returnCAM(feature_conv, weight_softmax, class_idx):\n",
    "    # generate the class activation maps upsample to 96x125\n",
    "    size_upsample = (96, 125)\n",
    "    bz, nc, h, w = feature_conv.shape\n",
    "    output_cam = []\n",
    "    for idx in class_idx:\n",
    "        cam = weight_softmax[idx].dot(feature_conv.reshape((nc, h*w)))\n",
    "        cam = cam.reshape(h, w)\n",
    "        cam = cam - np.min(cam)\n",
    "        cam_img = cam / np.max(cam)\n",
    "        cam_img = np.uint8(255 * cam_img)\n",
    "        output_cam.append(cv2.resize(cam_img, size_upsample))\n",
    "    return output_cam"
   ]
  },
  {
   "cell_type": "code",
   "execution_count": 212,
   "metadata": {},
   "outputs": [],
   "source": [
    "data_file = 'data/sound_dataset_96_125_d2.pkl'\n",
    "with open(data_file, 'rb') as f:\n",
    "    dataset = pickle.load(f)"
   ]
  },
  {
   "cell_type": "code",
   "execution_count": 31,
   "metadata": {},
   "outputs": [
    {
     "data": {
      "text/plain": [
       "array([[[0.7141378 ],\n",
       "        [0.6893581 ],\n",
       "        [0.6665263 ],\n",
       "        ...,\n",
       "        [0.5861727 ],\n",
       "        [0.57465845],\n",
       "        [0.5665306 ]],\n",
       "\n",
       "       [[0.5867637 ],\n",
       "        [0.5542305 ],\n",
       "        [0.5196481 ],\n",
       "        ...,\n",
       "        [0.5402085 ],\n",
       "        [0.5457056 ],\n",
       "        [0.5439322 ]],\n",
       "\n",
       "       [[0.51035774],\n",
       "        [0.4691942 ],\n",
       "        [0.42497307],\n",
       "        ...,\n",
       "        [0.5162708 ],\n",
       "        [0.54921925],\n",
       "        [0.5442511 ]],\n",
       "\n",
       "       ...,\n",
       "\n",
       "       [[0.5665852 ],\n",
       "        [0.5405313 ],\n",
       "        [0.4757648 ],\n",
       "        ...,\n",
       "        [0.4839237 ],\n",
       "        [0.44744217],\n",
       "        [0.40874943]],\n",
       "\n",
       "       [[0.56802183],\n",
       "        [0.5165374 ],\n",
       "        [0.43559805],\n",
       "        ...,\n",
       "        [0.4458218 ],\n",
       "        [0.40951112],\n",
       "        [0.35982916]],\n",
       "\n",
       "       [[0.557683  ],\n",
       "        [0.49736586],\n",
       "        [0.42879504],\n",
       "        ...,\n",
       "        [0.4606673 ],\n",
       "        [0.39808485],\n",
       "        [0.34707963]]], dtype=float32)"
      ]
     },
     "execution_count": 31,
     "metadata": {},
     "output_type": "execute_result"
    }
   ],
   "source": [
    "img = dataset[1][21]\n",
    "img_arr = np.asarray([t.numpy() for t in img])\n",
    "img = Variable(torch.from_numpy(img_arr[0])).view(1,96,125)\n",
    "# img = Variable(img).view(1,1,96,125)\n",
    "Img = torch.squeeze(img,dim = 0).numpy().reshape(96,125,1)\n",
    "Img"
   ]
  },
  {
   "cell_type": "code",
   "execution_count": 13,
   "metadata": {},
   "outputs": [],
   "source": [
    "def get_features(pretrained_model, x, layers = [1,2]):\n",
    "    net1 = nn.Sequential(*list(pretrained_model.children())[:layers[0]])\n",
    "    out1 = net1(x) \n",
    "    net2 = nn.Sequential(*list(pretrained_model.children())[layers[0]:layers[1]])\n",
    "    out2 = net2(out1)\n",
    "    return out1, out2"
   ]
  },
  {
   "cell_type": "code",
   "execution_count": 14,
   "metadata": {},
   "outputs": [],
   "source": [
    "output1,output2 = get_features(model,img)"
   ]
  },
  {
   "cell_type": "code",
   "execution_count": 15,
   "metadata": {},
   "outputs": [
    {
     "data": {
      "text/plain": [
       "torch.Size([1, 10, 96, 125])"
      ]
     },
     "execution_count": 15,
     "metadata": {},
     "output_type": "execute_result"
    }
   ],
   "source": [
    "output2.size()"
   ]
  },
  {
   "cell_type": "code",
   "execution_count": 20,
   "metadata": {},
   "outputs": [
    {
     "name": "stderr",
     "output_type": "stream",
     "text": [
      "C:\\Users\\Hyde\\anaconda3\\lib\\site-packages\\ipykernel_launcher.py:19: UserWarning: Implicit dimension choice for log_softmax has been deprecated. Change the call to include dim=X as an argument.\n"
     ]
    }
   ],
   "source": [
    "logit = model(img)"
   ]
  },
  {
   "cell_type": "code",
   "execution_count": 21,
   "metadata": {},
   "outputs": [
    {
     "name": "stdout",
     "output_type": "stream",
     "text": [
      "[9.9982518e-01 6.2957944e-05 3.6666774e-05 3.3126365e-05 1.5802339e-05\n",
      " 1.3955947e-05 8.6272494e-06 3.1458414e-06 3.1516896e-07 2.9364540e-07] [1 0 3 8 5 7 2 6 4 9]\n"
     ]
    }
   ],
   "source": [
    "h_x = F.softmax(logit, dim=1).data.squeeze()\n",
    "probs, idx = h_x.sort(0, True)\n",
    "probs = probs.numpy()\n",
    "idx = idx.numpy()\n",
    "print(probs, idx)"
   ]
  },
  {
   "cell_type": "code",
   "execution_count": 22,
   "metadata": {},
   "outputs": [],
   "source": [
    "CAMs = returnCAM(features_blobs[0], weight_softmax, [idx[0]])"
   ]
  },
  {
   "cell_type": "code",
   "execution_count": 28,
   "metadata": {},
   "outputs": [
    {
     "data": {
      "text/plain": [
       "True"
      ]
     },
     "execution_count": 28,
     "metadata": {},
     "output_type": "execute_result"
    }
   ],
   "source": [
    "# print('output CAM.jpg for the top1 prediction: %s'%classes[idx[0]])\n",
    "img = cv2.imread('test.jpg')\n",
    "height = 96\n",
    "width = 125\n",
    "heatmap = cv2.applyColorMap(cv2.resize(CAMs[0],(width, height)), cv2.COLORMAP_JET)\n",
    "result = heatmap *0.7 + Img*0.5 \n",
    "cv2.imwrite('CAM.jpg', result)\n"
   ]
  },
  {
   "cell_type": "code",
   "execution_count": 29,
   "metadata": {
    "scrolled": true
   },
   "outputs": [
    {
     "name": "stdout",
     "output_type": "stream",
     "text": [
      "3\n"
     ]
    },
    {
     "data": {
      "image/png": "[encoded data removed]",
      "text/plain": [
       "<Figure size 432x288 with 1 Axes>"
      ]
     },
     "metadata": {
      "needs_background": "light"
     },
     "output_type": "display_data"
    }
   ],
   "source": [
    "%matplotlib inline \n",
    "import matplotlib.pyplot as plt\n",
    "import matplotlib.image as mpimg\n",
    "im = Image.open('CAM.jpg')\n",
    "# im.show() \n",
    "img = np.array(im)      # image类 转 numpy\n",
    "print(np.size(img, 2))\n",
    "# img = img[:,:,0]        #第1通道\n",
    "img=Image.fromarray(img) # numpy 转 image类\n",
    "# img.show()\n",
    "plt.imshow(img, interpolation='nearest')\n",
    "plt.show()"
   ]
  }
 ],
 "metadata": {
  "kernelspec": {
   "display_name": "Python 3",
   "language": "python",
   "name": "python3"
  },
  "language_info": {
   "codemirror_mode": {
    "name": "ipython",
    "version": 3
   },
   "file_extension": ".py",
   "mimetype": "text/x-python",
   "name": "python",
   "nbconvert_exporter": "python",
   "pygments_lexer": "ipython3",
   "version": "3.7.6"
  }
 },
 "nbformat": 4,
 "nbformat_minor": 4
}
