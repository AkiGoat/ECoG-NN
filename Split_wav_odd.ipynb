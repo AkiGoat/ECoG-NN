{
 "cells": [
  {
   "cell_type": "code",
   "execution_count": 2,
   "metadata": {},
   "outputs": [
    {
     "name": "stderr",
     "output_type": "stream",
     "text": [
      "C:\\Users\\Hyde\\anaconda3\\lib\\site-packages\\pydub\\utils.py:170: RuntimeWarning: Couldn't find ffmpeg or avconv - defaulting to ffmpeg, but may not work\n",
      "  warn(\"Couldn't find ffmpeg or avconv - defaulting to ffmpeg, but may not work\", RuntimeWarning)\n"
     ]
    }
   ],
   "source": [
    "from pydub import AudioSegment\n",
    "import pandas as pd\n",
    "import numpy as np"
   ]
  },
  {
   "cell_type": "code",
   "execution_count": 2,
   "metadata": {},
   "outputs": [],
   "source": [
    "wav_file = AudioSegment.from_file(file='data/sound_rec.wav')"
   ]
  },
  {
   "cell_type": "code",
   "execution_count": 11,
   "metadata": {},
   "outputs": [
    {
     "name": "stdout",
     "output_type": "stream",
     "text": [
      "           0  1       2\n",
      "0     508.78  1    0.00\n",
      "1     509.28  1    0.50\n",
      "2     509.78  1    1.00\n",
      "3     510.29  1    1.51\n",
      "4     510.79  1    2.01\n",
      "..       ... ..     ...\n",
      "995  1009.30  1  500.52\n",
      "996  1009.80  1  501.02\n",
      "997  1010.30  1  501.52\n",
      "998  1010.80  2  502.02\n",
      "999  1011.30  1  502.52\n",
      "\n",
      "[1000 rows x 3 columns]\n",
      "[ 508780  509280  509780  510290  510790  511290  511790  512299  512799\n",
      "  513299  513809  514309  514809  515320  515820  516320  516820  517330\n",
      "  517830  518330  518840  519340  519840  520350  520850  521350  521850\n",
      "  522360  522860  523360  523870  524370  524870  525380  525880  526380\n",
      "  526880  527390  527890  528390  528900  529400  529900  530400  530910\n",
      "  531410  531910  532420  532920  533420  533930  534430  534930  535430\n",
      "  535940  536440  536940  537450  537950  538450  538960  539460  539960\n",
      "  540470  540970  541470  541970  542480  542980  543480  543990  544490\n",
      "  544990  545500  546000  546500  547000  547510  548010  548510  549020\n",
      "  549520  550020  550520  551030  551530  552030  552540  553040  553540\n",
      "  554050  554550  555050  555550  556060  556560  557060  557570  558070\n",
      "  558570  559080  559580  560080  560590  561090  561590  562090  562600\n",
      "  563100  563600  564110  564610  565110  565620  566120  566620  567120\n",
      "  567630  568130  568630  569140  569640  570140  570640  571150  571650\n",
      "  572150  572660  573160  573660  574170  574670  575170  575670  576180\n",
      "  576680  577180  577690  578190  578690  579200  579700  580200  580710\n",
      "  581210  581710  582210  582720  583220  583720  584230  584730  585230\n",
      "  585740  586240  586740  587240  587750  588250  588750  589260  589760\n",
      "  590260  590760  591270  591770  592270  592780  593280  593780  594290\n",
      "  594790  595290  595790  596300  596800  597300  597810  598310  598810\n",
      "  599320  599820  600320  600830  601330  601830  602330  602840  603340\n",
      "  603840  604350  604850  605350  605860  606360  606860  607360  607870\n",
      "  608370  608870  609380  609880  610380  610880  611390  611890  612390\n",
      "  612900  613400  613900  614410  614910  615410  615910  616420  616920\n",
      "  617420  617930  618430  618930  619440  619940  620440  620950  621450\n",
      "  621950  622450  622960  623460  623960  624470  624970  625470  625980\n",
      "  626480  626980  627480  627990  628490  628990  629500  630000  630500\n",
      "  631000  631510  632010  632510  633020  633520  634020  634530  635030\n",
      "  635530  636030  636540  637040  637540  638050  638550  639050  639560\n",
      "  640060  640560  641070  641570  642070  642570  643080  643580  644080\n",
      "  644590  645090  645590  646100  646600  647100  647600  648110  648610\n",
      "  649110  649620  650120  650620  651120  651630  652130  652630  653140\n",
      "  653640  654140  654650  655150  655650  656150  656660  657160  657660\n",
      "  658170  658670  659170  659680  660180  660680  661180  661690  662190\n",
      "  662690  663200  663700  664200  664710  665210  665710  666220  666720\n",
      "  667220  667720  668230  668730  669230  669740  670240  670740  671250\n",
      "  671750  672250  672750  673260  673760  674260  674770  675270  675770\n",
      "  676270  676780  677280  677780  678290  678790  679290  679800  680300\n",
      "  680800  681300  681810  682310  682810  683320  683820  684320  684830\n",
      "  685330  685830  686340  686840  687340  687840  688350  688850  689350\n",
      "  689860  690360  690860  691370  691870  692370  692870  693380  693880\n",
      "  694380  694890  695390  695890  696390  696900  697400  697900  698410\n",
      "  698910  699410  699920  700420  700920  701420  701930  702430  702930\n",
      "  703440  703940  704440  704950  705450  705950  706460  706960  707460\n",
      "  707960  708470  708970  709470  709980  710480  710980  711490  711990\n",
      "  712490  712990  713500  714000  714500  715010  715510  716010  716510\n",
      "  717020  717520  718020  718530  719030  719530  720040  720540  721040\n",
      "  721540  722050  722550  723050  723560  724060  724560  725070  725570\n",
      "  726070  726580  727080  727580  728080  728590  729090  729590  730100\n",
      "  730600  731100  731610  732110  732610  733110  733620  734120  734620\n",
      "  735130  735630  736130  736630  737140  737640  738140  738650  739150\n",
      "  739650  740160  740660  741160  741660  742170  742670  743170  743680\n",
      "  744180  744680  745190  745690  746190  746700  747200  747700  748200\n",
      "  748710  749210  749710  750220  750720  751220  751730  752230  752730\n",
      "  753230  753740  754240  754740  755250  755750  756250  756750  757260\n",
      "  757760  758260  758770  759270  759770  760280  760780  761280  761780\n",
      "  762290  762790  763290  763800  764300  764800  765310  765810  766310\n",
      "  766820  767320  767820  768320  768830  769330  769830  770340  770840\n",
      "  771340  771850  772350  772850  773350  773860  774360  774860  775370\n",
      "  775870  776370  776880  777380  777880  778380  778890  779390  779890\n",
      "  780400  780900  781400  781900  782410  782910  783410  783920  784420\n",
      "  784920  785430  785930  786430  786930  787440  787940  788440  788950\n",
      "  789450  789950  790460  790960  791460  791970  792470  792970  793470\n",
      "  793980  794480  794980  795490  795990  796490  797000  797500  798000\n",
      "  798500  799010  799510  800010  800520  801020  801520  802020  802530\n",
      "  803030  803530  804040  804540  805040  805550  806050  806550  807050\n",
      "  807560  808060  808560  809070  809570  810070  810580  811080  811580\n",
      "  812090  812590  813090  813590  814100  814600  815100  815610  816110\n",
      "  816610  817120  817620  818120  818620  819130  819630  820130  820640\n",
      "  821140  821640  822140  822650  823150  823650  824160  824660  825160\n",
      "  825670  826170  826670  827170  827680  828180  828680  829190  829690\n",
      "  830190  830700  831200  831700  832210  832710  833210  833710  834220\n",
      "  834720  835220  835730  836230  836730  837240  837740  838240  838740\n",
      "  839250  839750  840250  840760  841260  841760  842260  842770  843270\n",
      "  843770  844280  844780  845280  845790  846290  846790  847290  847800\n",
      "  848300  848800  849310  849810  850310  850820  851320  851820  852330\n",
      "  852830  853330  853830  854340  854840  855340  855850  856350  856850\n",
      "  857360  857860  858360  858860  859370  859870  860370  860880  861380\n",
      "  861880  862380  862890  863390  863890  864400  864900  865400  865910\n",
      "  866410  866910  867410  867920  868420  868920  869430  869930  870430\n",
      "  870940  871440  871940  872450  872950  873450  873950  874460  874960\n",
      "  875460  875970  876470  876970  877480  877980  878480  878980  879490\n",
      "  879990  880490  881000  881500  882000  882500  883010  883510  884010\n",
      "  884520  885020  885520  886030  886530  887030  887530  888040  888540\n",
      "  889040  889550  890050  890550  891060  891560  892060  892570  893070\n",
      "  893570  894070  894580  895080  895580  896090  896590  897090  897600\n",
      "  898100  898600  899100  899610  900110  900610  901120  901620  902120\n",
      "  902620  903130  903630  904130  904640  905140  905640  906150  906650\n",
      "  907150  907650  908160  908660  909160  909670  910170  910670  911180\n",
      "  911680  912180  912680  913190  913690  914190  914700  915200  915700\n",
      "  916210  916710  917210  917720  918220  918720  919220  919730  920230\n",
      "  920730  921240  921740  922240  922750  923250  923750  924250  924760\n",
      "  925260  925760  926270  926770  927270  927770  928280  928780  929280\n",
      "  929790  930290  930790  931300  931800  932300  932800  933310  933810\n",
      "  934310  934820  935320  935820  936330  936830  937330  937840  938340\n",
      "  938840  939340  939850  940350  940850  941360  941860  942360  942870\n",
      "  943370  943870  944370  944880  945380  945880  946390  946890  947390\n",
      "  947890  948400  948900  949400  949910  950410  950910  951420  951920\n",
      "  952420  952920  953430  953930  954430  954940  955440  955940  956450\n",
      "  956950  957450  957960  958460  958960  959460  959970  960470  960970\n",
      "  961480  961980  962480  962990  963490  963990  964490  965000  965500\n",
      "  966000  966510  967010  967510  968010  968520  969020  969520  970030\n",
      "  970530  971030  971540  972040  972540  973040  973550  974050  974550\n",
      "  975060  975560  976060  976570  977070  977570  978080  978580  979080\n",
      "  979580  980090  980590  981090  981600  982100  982600  983110  983610\n",
      "  984110  984610  985120  985620  986120  986630  987130  987630  988130\n",
      "  988640  989140  989640  990150  990650  991150  991660  992160  992660\n",
      "  993160  993670  994170  994670  995180  995680  996180  996690  997190\n",
      "  997690  998200  998700  999200  999700 1000200 1000700 1001200 1001700\n",
      " 1002200 1002700 1003200 1003700 1004200 1004700 1005200 1005700 1006200\n",
      " 1006700 1007200 1007800 1008300 1008800 1009300 1009800 1010300 1010800\n",
      " 1011300]\n"
     ]
    }
   ],
   "source": [
    "Events_odd = pd.read_csv('C:/Users/Hyde/Projects/KYLab/Marmoset 2/Oddball/sound_oddb_only_tirg.csv',  header=None)\n",
    "print(Events_odd)\n",
    "Events_odd[0] = Events_odd[0]*1000\n",
    "latency = Events_odd[0].values.astype(int)\n",
    "print(latency)"
   ]
  },
  {
   "cell_type": "code",
   "execution_count": 12,
   "metadata": {},
   "outputs": [],
   "source": [
    "wav_slice = []\n",
    "for i in latency:\n",
    "    wav_slice.append(wav_file[i+7:i+60])"
   ]
  },
  {
   "cell_type": "code",
   "execution_count": 13,
   "metadata": {},
   "outputs": [
    {
     "name": "stdout",
     "output_type": "stream",
     "text": [
      "<pydub.audio_segment.AudioSegment object at 0x000001E8A86E73C8>\n"
     ]
    }
   ],
   "source": [
    "print(wav_slice[0])"
   ]
  },
  {
   "cell_type": "code",
   "execution_count": 14,
   "metadata": {},
   "outputs": [
    {
     "data": {
      "text/plain": [
       "<_io.BufferedRandom name='wav_0.wav'>"
      ]
     },
     "execution_count": 14,
     "metadata": {},
     "output_type": "execute_result"
    }
   ],
   "source": [
    "wav_slice[0].export('wav_0.wav', format='wav')"
   ]
  },
  {
   "cell_type": "code",
   "execution_count": 16,
   "metadata": {},
   "outputs": [],
   "source": [
    "file = 'data/wavs60_odd/'\n",
    "for ii in range(1000):\n",
    "    wav_slice[ii].export(file+'wav60_'+str(ii)+'.wav', format='wav')"
   ]
  },
  {
   "cell_type": "code",
   "execution_count": 17,
   "metadata": {},
   "outputs": [],
   "source": [
    "types = Events_odd[1].values.astype(int)\n",
    "# print(types)\n",
    "wav_slice_t0 = []\n",
    "wav_slice_t1 = []\n",
    "\n",
    "for iii in range(0,1000):\n",
    "    if types[iii] == 1:\n",
    "        wav_slice_t0.append(wav_slice[iii])\n",
    "    elif types[iii] == 2:\n",
    "        wav_slice_t1.append(wav_slice[iii])"
   ]
  },
  {
   "cell_type": "code",
   "execution_count": 19,
   "metadata": {},
   "outputs": [
    {
     "name": "stdout",
     "output_type": "stream",
     "text": [
      "100\n"
     ]
    }
   ],
   "source": [
    "print(len(wav_slice_t1))"
   ]
  },
  {
   "cell_type": "code",
   "execution_count": 20,
   "metadata": {},
   "outputs": [],
   "source": [
    "wav_slice_obt = wav_slice_t0+wav_slice_t1"
   ]
  },
  {
   "cell_type": "code",
   "execution_count": 21,
   "metadata": {},
   "outputs": [],
   "source": [
    "file_1 = 'data/wavs60_odd_obt/'\n",
    "for iiiii in range(1000):\n",
    "    wav_slice_obt[iiiii].export(file_1+'wav60_'+str(iiiii)+'.wav', format='wav')"
   ]
  },
  {
   "cell_type": "code",
   "execution_count": 3,
   "metadata": {},
   "outputs": [],
   "source": [
    "import librosa"
   ]
  },
  {
   "cell_type": "code",
   "execution_count": 44,
   "metadata": {},
   "outputs": [],
   "source": [
    "example_audio_file = 'data/wavs60_odd_obt/wav60_900.wav'\n",
    "# y_test, sr_test = librosa.load(librosa.util.example_audio_file())\n",
    "# spec_bw = librosa.feature.spectral_bandwidth(y=y_test, sr=sr_test)\n",
    "# cent = librosa.feature.spectral_centroid(y=y_test, sr=sr_test)\n",
    "# rolloff = librosa.feature.spectral_rolloff(y=y_test, sr=sr_test, roll_percent=0.9)\n"
   ]
  },
  {
   "cell_type": "code",
   "execution_count": 4,
   "metadata": {},
   "outputs": [],
   "source": [
    "import matplotlib.pyplot as plt\n",
    "%matplotlib inline"
   ]
  },
  {
   "cell_type": "code",
   "execution_count": 54,
   "metadata": {},
   "outputs": [
    {
     "data": {
      "text/plain": [
       "[<matplotlib.lines.Line2D at 0x1e8b4adeb08>]"
      ]
     },
     "execution_count": 54,
     "metadata": {},
     "output_type": "execute_result"
    },
    {
     "data": {
      "image/png": "[encoded data removed]",
      "text/plain": [
       "<Figure size 432x288 with 1 Axes>"
      ]
     },
     "metadata": {
      "needs_background": "light"
     },
     "output_type": "display_data"
    }
   ],
   "source": [
    "fig=plt.figure()\n",
    "ax1 = fig.add_subplot(2,1,1)\n",
    "ax1.plot(rolloff[0])"
   ]
  },
  {
   "cell_type": "code",
   "execution_count": 45,
   "metadata": {},
   "outputs": [
    {
     "name": "stdout",
     "output_type": "stream",
     "text": [
      "111\n"
     ]
    },
    {
     "data": {
      "text/plain": [
       "1200.0"
      ]
     },
     "execution_count": 45,
     "metadata": {},
     "output_type": "execute_result"
    }
   ],
   "source": [
    "import librosa\n",
    "import numpy as np\n",
    "import matplotlib.pyplot as plt\n",
    "\n",
    "\n",
    "file = example_audio_file\n",
    "# load the file\n",
    "y, sr = librosa.load(file)\n",
    "# short time fourier transform\n",
    "# (n_fft and hop length determine frequency/time resolution)\n",
    "n_fft = 2048\n",
    "S = librosa.stft(y, n_fft=n_fft, hop_length=n_fft//2)\n",
    "# convert to db\n",
    "# (for your CNN you might want to skip this and rather ensure zero mean and unit variance)\n",
    "D = librosa.amplitude_to_db(np.abs(S), ref=np.max)\n",
    "# average over file\n",
    "D_AVG = np.mean(D, axis=1)\n",
    "\n",
    "# plt.bar(np.arange(D_AVG.shape[0]), D_AVG)\n",
    "# x_ticks_positions = [n for n in range(0, n_fft // 2, n_fft // 16)]\n",
    "# x_ticks_labels = [str(sr / 1024 * n) + 'Hz' for n in x_ticks_positions]\n",
    "# plt.xticks(x_ticks_positions, x_ticks_labels)\n",
    "# plt.xlabel('Frequency')\n",
    "# plt.ylabel('dB')\n",
    "# plt.show()\n",
    "\n",
    "# np.max(D_AVG)\n",
    "n = np.where(D_AVG == np.max(D_AVG))\n",
    "print(n[0][0])\n",
    "fq = sr / 2048 * n[0][0]\n",
    "\n",
    "round(fq/10)*10"
   ]
  },
  {
   "cell_type": "code",
   "execution_count": 10,
   "metadata": {},
   "outputs": [
    {
     "name": "stdout",
     "output_type": "stream",
     "text": [
      "spectrogram size (513, 2647)\n",
      "freq (Hz) 129.19921875\n",
      "time (s) 0.02820861678004535\n",
      "amplitude 4.3650975\n"
     ]
    }
   ],
   "source": [
    "# filename = librosa.util.example_audio_file()\n",
    "\n",
    "y, sr = librosa.load(librosa.util.example_audio_file())\n",
    "n_fft = 1024\n",
    "hop_length = 512\n",
    "\n",
    "spec = np.abs(librosa.core.stft(y, n_fft=n_fft, hop_length=hop_length))\n",
    "freqs = librosa.core.fft_frequencies(n_fft=n_fft)\n",
    "times = librosa.core.frames_to_time(spec[0], sr=sr, n_fft=n_fft, hop_length=hop_length)\n",
    "\n",
    "print('spectrogram size', spec.shape)\n",
    "\n",
    "fft_bin = 6\n",
    "time_idx = 1000\n",
    "\n",
    "print('freq (Hz)', freqs[fft_bin])\n",
    "print('time (s)', times[time_idx])\n",
    "print('amplitude', spec[fft_bin, time_idx])"
   ]
  }
 ],
 "metadata": {
  "kernelspec": {
   "display_name": "Python 3",
   "language": "python",
   "name": "python3"
  },
  "language_info": {
   "codemirror_mode": {
    "name": "ipython",
    "version": 3
   },
   "file_extension": ".py",
   "mimetype": "text/x-python",
   "name": "python",
   "nbconvert_exporter": "python",
   "pygments_lexer": "ipython3",
   "version": "3.7.6"
  }
 },
 "nbformat": 4,
 "nbformat_minor": 4
}
