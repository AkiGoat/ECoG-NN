{
 "cells": [
  {
   "cell_type": "markdown",
   "metadata": {},
   "source": [
    "- import libraries"
   ]
  },
  {
   "cell_type": "code",
   "execution_count": 1,
   "metadata": {},
   "outputs": [],
   "source": [
    "import os\n",
    "import numpy as np\n",
    "import torch\n",
    "from torch.utils.data import Dataset, DataLoader, TensorDataset\n",
    "import torch.nn as nn\n",
    "import torch.nn.functional as F\n",
    "import torch.optim as optim\n",
    "from torch.autograd import Variable\n",
    "from torchvision import transforms\n",
    "import pandas as pd\n",
    "import numpy as np\n",
    "import matplotlib.pyplot as plt\n",
    "%matplotlib inline\n",
    "import pickle"
   ]
  },
  {
   "cell_type": "markdown",
   "metadata": {},
   "source": [
    "- read ecog data"
   ]
  },
  {
   "cell_type": "code",
   "execution_count": 2,
   "metadata": {},
   "outputs": [
    {
     "name": "stderr",
     "output_type": "stream",
     "text": [
      "C:\\Users\\Hyde\\anaconda3\\lib\\site-packages\\IPython\\core\\interactiveshell.py:3063: DtypeWarning: Columns (0) have mixed types.Specify dtype option on import or set low_memory=False.\n",
      "  interactivity=interactivity, compiler=compiler, result=result)\n"
     ]
    }
   ],
   "source": [
    "dataset_dir = 'data/Origin/withoutICA/ECoGICA_'\n",
    "freq_list = [700,800,900,1000,1100,1200,1300,1400,1500,1600]\n",
    "data_file_num = []\n",
    "column_list=[]\n",
    "for i in range(1, 12501):\n",
    "    column_list.append(i)\n",
    "for ii in range(10):\n",
    "    data_file_num.append(0)\n",
    "# print(data_file_num)\n",
    "for iii in range(10):\n",
    "    data_file = dataset_dir + str(freq_list[iii]) + '.txt'\n",
    "    data_np=pd.read_csv(data_file, sep='\\t', header=None).loc[1: , column_list].to_numpy()\n",
    "    data_np_sp = data_np.reshape(100, 96, 125).astype(np.float32)\n",
    "    data_file_num[iii] = data_np_sp"
   ]
  },
  {
   "cell_type": "code",
   "execution_count": 3,
   "metadata": {
    "scrolled": false
   },
   "outputs": [
    {
     "name": "stdout",
     "output_type": "stream",
     "text": [
      "125\n",
      "-1505.7513\n"
     ]
    },
    {
     "data": {
      "text/plain": [
       "[<matplotlib.lines.Line2D at 0x14f9eed4148>]"
      ]
     },
     "execution_count": 3,
     "metadata": {},
     "output_type": "execute_result"
    },
    {
     "data": {
      "image/png": "[encoded data removed]",
      "text/plain": [
       "<Figure size 432x288 with 1 Axes>"
      ]
     },
     "metadata": {
      "needs_background": "light"
     },
     "output_type": "display_data"
    }
   ],
   "source": [
    "print(np.size(data_file_num[0][0][0]))\n",
    "print(data_file_num[0][0][0].min())\n",
    "fig=plt.figure()\n",
    "ax1 = fig.add_subplot(2,1,1)\n",
    "ax1.plot(data_file_num[0][0][0])"
   ]
  },
  {
   "cell_type": "markdown",
   "metadata": {},
   "source": [
    "- Max-min normalization"
   ]
  },
  {
   "cell_type": "code",
   "execution_count": 4,
   "metadata": {},
   "outputs": [],
   "source": [
    "for j in range(10):\n",
    "    for jj in range(100):\n",
    "        for jjj in range(96):\n",
    "            ecog_ch = data_file_num[j][jj][jjj]\n",
    "            ch_max = ecog_ch.max()\n",
    "            ch_min = ecog_ch.min()\n",
    "            ecog_norm = []\n",
    "            for jjjj in range(125):\n",
    "                ecog_norm.append((ecog_ch[jjjj]-ch_min)/(ch_max-ch_min))\n",
    "            data_file_num[j][jj][jjj] = ecog_norm"
   ]
  },
  {
   "cell_type": "code",
   "execution_count": 6,
   "metadata": {
    "scrolled": true
   },
   "outputs": [
    {
     "name": "stdout",
     "output_type": "stream",
     "text": [
      "[0.02156463 0.24615367 0.467743   0.67579275 0.79709524 0.79165614\n",
      " 0.7716046  0.78502905 0.8066572  0.8184588  0.7865212  0.723272\n",
      " 0.6765702  0.63361406 0.5719684  0.5116981  0.45740628 0.43163356\n",
      " 0.4640453  0.5051603  0.531077   0.49355718 0.27338082 0.09284618\n",
      " 0.30901223 0.6886878  0.8386978  0.84822285 0.8602985  0.82517594\n",
      " 0.7615912  0.7164727  0.67799795 0.63412154 0.58359283 0.5389789\n",
      " 0.50398815 0.48675266 0.52043915 0.57468003 0.5752693  0.53032595\n",
      " 0.48706388 0.43578786 0.3295664  0.189543   0.17478345 0.35824394\n",
      " 0.54306644 0.5947937  0.61225635 0.6295591  0.6104096  0.5866751\n",
      " 0.57157904 0.5731552  0.5726908  0.53042006 0.52652276 0.56652373\n",
      " 0.5288003  0.47672236 0.46806452 0.35794407 0.14981586 0.01428763\n",
      " 0.         0.04462745 0.09230716 0.14469256 0.21896625 0.28767318\n",
      " 0.3504918  0.43678388 0.52447444 0.5851514  0.6353779  0.69848317\n",
      " 0.75669646 0.77423584 0.77444875 0.76522917 0.6678549  0.52002174\n",
      " 0.48298076 0.5401458  0.5606485  0.56077576 0.60097325 0.64218736\n",
      " 0.6414518  0.6172465  0.5859502  0.5319189  0.4673148  0.42922848\n",
      " 0.41022462 0.38872227 0.36780912 0.3584839  0.38763565 0.436641\n",
      " 0.4278981  0.3519938  0.26468697 0.26454222 0.48598063 0.83360666\n",
      " 1.         0.92726684 0.7981817  0.6973427  0.6343214  0.61815536\n",
      " 0.60890263 0.56607383 0.5038138  0.46687084 0.44857493 0.39451498\n",
      " 0.32213002 0.28202167 0.27927393 0.32650334 0.40100926]\n"
     ]
    },
    {
     "data": {
      "text/plain": [
       "[<matplotlib.lines.Line2D at 0x14f9f486688>]"
      ]
     },
     "execution_count": 6,
     "metadata": {},
     "output_type": "execute_result"
    },
    {
     "data": {
      "image/png": "[encoded data removed]",
      "text/plain": [
       "<Figure size 432x288 with 1 Axes>"
      ]
     },
     "metadata": {
      "needs_background": "light"
     },
     "output_type": "display_data"
    }
   ],
   "source": [
    "print(data_file_num[0][0][0])\n",
    "fig=plt.figure()\n",
    "ax1 = fig.add_subplot(2,1,1)\n",
    "ax1.plot(data_file_num[0][0][0])"
   ]
  },
  {
   "cell_type": "code",
   "execution_count": 7,
   "metadata": {},
   "outputs": [],
   "source": [
    "whole_train_data = []\n",
    "label_train_data = []\n",
    "whole_test_data = []\n",
    "label_test_data = []\n",
    "\n",
    "label_num = 10\n",
    "n_epoch = 100\n",
    "\n",
    "for k in range(10):\n",
    "    for kk in range(80):\n",
    "        whole_train_data.append(data_file_num[k][kk])\n",
    "        label_train_data.append(k)\n",
    "\n",
    "for kkk in range(10):\n",
    "    for kkkk in range(20):\n",
    "        whole_test_data.append(data_file_num[kkk][80+kkkk])\n",
    "        label_test_data.append(kkk)"
   ]
  },
  {
   "cell_type": "code",
   "execution_count": 8,
   "metadata": {},
   "outputs": [],
   "source": [
    "whole_train_data = np.array(whole_train_data)\n",
    "whole_test_data = np.array(whole_test_data)\n",
    "label_train_data = np.array(label_train_data)\n",
    "label_test_data = np.array(label_test_data)"
   ]
  },
  {
   "cell_type": "code",
   "execution_count": 10,
   "metadata": {
    "scrolled": true
   },
   "outputs": [
    {
     "data": {
      "text/plain": [
       "array([0.76869756, 0.78936166, 0.8163007 , 0.8275392 , 0.8578121 ,\n",
       "       0.86537045, 0.7765418 , 0.69769585, 0.69336224, 0.6425213 ,\n",
       "       0.5312524 , 0.46529767, 0.45787665, 0.43279436, 0.3308816 ,\n",
       "       0.21425615, 0.16296883, 0.1381918 , 0.12808241, 0.16086818,\n",
       "       0.2173734 , 0.32076517, 0.45819572, 0.53421205, 0.5906321 ,\n",
       "       0.7582864 , 0.959136  , 1.        , 0.9283875 , 0.8889723 ,\n",
       "       0.8134523 , 0.6750816 , 0.5836299 , 0.5177705 , 0.46283418,\n",
       "       0.46205148, 0.43866235, 0.3961579 , 0.41556716, 0.4149892 ,\n",
       "       0.36519477, 0.3684914 , 0.39683175, 0.44875464, 0.6510913 ,\n",
       "       0.8934757 , 0.9557475 , 0.8503439 , 0.6180042 , 0.3453917 ,\n",
       "       0.18529196, 0.06769766, 0.00921379, 0.14542754, 0.2969011 ,\n",
       "       0.33243328, 0.3013857 , 0.20418751, 0.17762807, 0.22294359,\n",
       "       0.24382772, 0.38337058, 0.4518964 , 0.23948562, 0.17732467,\n",
       "       0.34497833, 0.33974537, 0.25194192, 0.29629508, 0.4491335 ,\n",
       "       0.70091003, 0.82779765, 0.6959537 , 0.62400526, 0.66601795,\n",
       "       0.56540155, 0.42015114, 0.36689532, 0.33812606, 0.35532278,\n",
       "       0.36702505, 0.33460033, 0.37172666, 0.36784783, 0.230896  ,\n",
       "       0.15518498, 0.14708307, 0.09541605, 0.07838762, 0.14347646,\n",
       "       0.22798683, 0.2884251 , 0.38435552, 0.47251278, 0.36556435,\n",
       "       0.2837136 , 0.48490763, 0.6066636 , 0.51864874, 0.52066636,\n",
       "       0.5204493 , 0.4056004 , 0.3532345 , 0.32550067, 0.1700369 ,\n",
       "       0.02029002, 0.0615029 , 0.12275414, 0.13999148, 0.35522458,\n",
       "       0.4973297 , 0.34652367, 0.42163005, 0.6642609 , 0.5795131 ,\n",
       "       0.44524443, 0.5092033 , 0.5619619 , 0.47028026, 0.19646616,\n",
       "       0.        , 0.05826433, 0.06930093, 0.00516261, 0.08094477],\n",
       "      dtype=float32)"
      ]
     },
     "execution_count": 10,
     "metadata": {},
     "output_type": "execute_result"
    }
   ],
   "source": [
    "whole_train_data[199][95]"
   ]
  },
  {
   "cell_type": "code",
   "execution_count": 11,
   "metadata": {},
   "outputs": [],
   "source": [
    "whole_train_data = torch.from_numpy(whole_train_data)\n",
    "label_train_data = torch.from_numpy(label_train_data)\n",
    "whole_test_data = torch.from_numpy(whole_test_data)\n",
    "label_test_data = torch.from_numpy(label_test_data)"
   ]
  },
  {
   "cell_type": "code",
   "execution_count": 12,
   "metadata": {},
   "outputs": [],
   "source": [
    "final_train_data = TensorDataset(whole_train_data, label_train_data)\n",
    "final_test_data = TensorDataset(whole_test_data, label_test_data)"
   ]
  },
  {
   "cell_type": "code",
   "execution_count": 13,
   "metadata": {},
   "outputs": [
    {
     "name": "stdout",
     "output_type": "stream",
     "text": [
      "data/dataset_96_125_final.pkl\n",
      "Creating pickle file ...\n",
      "Done!\n"
     ]
    },
    {
     "name": "stderr",
     "output_type": "stream",
     "text": [
      "C:\\Users\\Hyde\\anaconda3\\lib\\site-packages\\torch\\storage.py:34: FutureWarning: pickle support for Storage will be removed in 1.5. Use `torch.save` instead\n",
      "  warnings.warn(\"pickle support for Storage will be removed in 1.5. Use `torch.save` instead\", FutureWarning)\n"
     ]
    }
   ],
   "source": [
    "save_file = 'data/dataset_96_125_final.pkl'\n",
    "print(save_file)\n",
    "print(\"Creating pickle file ...\")\n",
    "with open(save_file, 'wb') as f:\n",
    "    pickle.dump([final_train_data,final_test_data], f, -1)\n",
    "print(\"Done!\")"
   ]
  }
 ],
 "metadata": {
  "kernelspec": {
   "display_name": "Python 3",
   "language": "python",
   "name": "python3"
  },
  "language_info": {
   "codemirror_mode": {
    "name": "ipython",
    "version": 3
   },
   "file_extension": ".py",
   "mimetype": "text/x-python",
   "name": "python",
   "nbconvert_exporter": "python",
   "pygments_lexer": "ipython3",
   "version": "3.7.6"
  }
 },
 "nbformat": 4,
 "nbformat_minor": 4
}
