{
 "cells": [
  {
   "cell_type": "code",
   "execution_count": 1,
   "metadata": {},
   "outputs": [
    {
     "name": "stderr",
     "output_type": "stream",
     "text": [
      "C:\\Users\\Hyde\\anaconda3\\lib\\site-packages\\pydub\\utils.py:170: RuntimeWarning: Couldn't find ffmpeg or avconv - defaulting to ffmpeg, but may not work\n",
      "  warn(\"Couldn't find ffmpeg or avconv - defaulting to ffmpeg, but may not work\", RuntimeWarning)\n"
     ]
    }
   ],
   "source": [
    "from pydub import AudioSegment\n",
    "import pandas as pd\n",
    "import numpy as np"
   ]
  },
  {
   "cell_type": "code",
   "execution_count": 2,
   "metadata": {},
   "outputs": [],
   "source": [
    "wav_file = AudioSegment.from_file(file='data/sound_rec.wav')"
   ]
  },
  {
   "cell_type": "code",
   "execution_count": 3,
   "metadata": {
    "scrolled": true
   },
   "outputs": [
    {
     "name": "stdout",
     "output_type": "stream",
     "text": [
      "1021760\n"
     ]
    }
   ],
   "source": [
    "print(len(wav_file))"
   ]
  },
  {
   "cell_type": "code",
   "execution_count": 4,
   "metadata": {},
   "outputs": [
    {
     "name": "stdout",
     "output_type": "stream",
     "text": [
      "     number   latency  type  init_index  init_time  urevent\n",
      "0       1.0    5778.0  10.0         1.0      5.777      1.0\n",
      "1       2.0    6281.0   8.0         2.0      6.280      2.0\n",
      "2       3.0    6784.0   4.0         3.0      6.783      3.0\n",
      "3       4.0    7287.0   1.0         4.0      7.286      4.0\n",
      "4       5.0    7790.0   5.0         5.0      7.789      5.0\n",
      "..      ...       ...   ...         ...        ...      ...\n",
      "995   996.0  506261.0   1.0       996.0    506.260    996.0\n",
      "996   997.0  506761.0   8.0       997.0    506.760    997.0\n",
      "997   998.0  507271.0   6.0       998.0    507.270    998.0\n",
      "998   999.0  507771.0   9.0       999.0    507.770    999.0\n",
      "999  1000.0  508271.0   2.0      1000.0    508.270   1000.0\n",
      "\n",
      "[1000 rows x 6 columns]\n",
      "[  5778   6281   6784   7287   7790   8293   8796   9299   9802  10305\n",
      "  10808  11311  11814  12317  12820  13323  13826  14329  14832  15335\n",
      "  15838  16341  16844  17347  17850  18353  18856  19359  19862  20365\n",
      "  20868  21371  21874  22377  22880  23383  23886  24389  24892  25395\n",
      "  25898  26401  26904  27407  27910  28413  28916  29419  29922  30425\n",
      "  30928  31431  31934  32437  32940  33443  33946  34449  34952  35455\n",
      "  35958  36461  36964  37467  37970  38473  38976  39479  39982  40485\n",
      "  40988  41491  41994  42497  43000  43503  44006  44509  45012  45515\n",
      "  46018  46521  47024  47527  48030  48533  49036  49539  50042  50545\n",
      "  51048  51551  52054  52557  53060  53563  54066  54569  55072  55575\n",
      "  56078  56581  57084  57587  58090  58593  59096  59599  60102  60605\n",
      "  61108  61611  62114  62617  63120  63623  64126  64629  65132  65635\n",
      "  66138  66641  67144  67647  68150  68653  69156  69659  70162  70665\n",
      "  71168  71671  72174  72677  73180  73683  74186  74689  75192  75695\n",
      "  76198  76701  77204  77707  78210  78713  79216  79719  80222  80725\n",
      "  81228  81731  82234  82737  83240  83743  84246  84749  85252  85755\n",
      "  86258  86761  87264  87767  88270  88773  89276  89779  90282  90785\n",
      "  91288  91791  92294  92797  93300  93803  94306  94809  95312  95815\n",
      "  96318  96821  97324  97827  98330  98833  99336  99839 100341 100841\n",
      " 101351 101851 102351 102861 103361 103861 104361 104871 105371 105871\n",
      " 106381 106881 107381 107891 108391 108891 109391 109901 110401 110901\n",
      " 111411 111911 112411 112921 113421 113921 114421 114931 115431 115931\n",
      " 116441 116941 117441 117951 118451 118951 119451 119961 120461 120961\n",
      " 121471 121971 122471 122981 123481 123981 124481 124991 125491 125991\n",
      " 126501 127001 127501 128011 128511 129011 129511 130021 130521 131021\n",
      " 131531 132031 132531 133041 133541 134041 134541 135051 135551 136051\n",
      " 136561 137061 137561 138071 138571 139071 139571 140081 140581 141081\n",
      " 141591 142091 142591 143101 143601 144101 144601 145111 145611 146111\n",
      " 146621 147121 147621 148131 148631 149131 149631 150141 150641 151141\n",
      " 151651 152151 152651 153161 153661 154161 154661 155171 155671 156171\n",
      " 156681 157181 157681 158191 158691 159191 159691 160201 160701 161201\n",
      " 161711 162211 162711 163221 163721 164221 164721 165231 165731 166231\n",
      " 166741 167241 167741 168251 168751 169251 169751 170261 170761 171261\n",
      " 171771 172271 172771 173281 173781 174281 174781 175291 175791 176291\n",
      " 176801 177301 177801 178311 178811 179311 179811 180321 180821 181321\n",
      " 181831 182331 182831 183341 183841 184341 184841 185351 185851 186351\n",
      " 186861 187361 187861 188371 188871 189371 189881 190381 190881 191381\n",
      " 191891 192391 192891 193401 193901 194401 194911 195411 195911 196411\n",
      " 196921 197421 197921 198431 198931 199431 199931 200441 200941 201441\n",
      " 201951 202451 202951 203461 203961 204461 204961 205471 205971 206471\n",
      " 206981 207481 207981 208491 208991 209491 209991 210501 211001 211501\n",
      " 212011 212511 213011 213521 214021 214521 215021 215531 216031 216531\n",
      " 217041 217541 218041 218551 219051 219551 220051 220561 221061 221561\n",
      " 222071 222571 223071 223581 224081 224581 225081 225591 226091 226591\n",
      " 227101 227601 228101 228611 229111 229611 230111 230621 231121 231621\n",
      " 232131 232631 233131 233641 234141 234641 235141 235651 236151 236651\n",
      " 237161 237661 238161 238671 239171 239671 240171 240681 241181 241681\n",
      " 242191 242691 243191 243701 244201 244701 245201 245711 246211 246711\n",
      " 247221 247721 248221 248731 249231 249731 250231 250741 251241 251741\n",
      " 252251 252751 253251 253761 254261 254761 255261 255771 256271 256771\n",
      " 257281 257781 258281 258791 259291 259791 260301 260801 261301 261801\n",
      " 262311 262811 263311 263821 264321 264821 265321 265831 266331 266831\n",
      " 267341 267841 268341 268851 269351 269851 270351 270861 271361 271861\n",
      " 272371 272871 273371 273881 274381 274881 275381 275891 276391 276891\n",
      " 277401 277901 278401 278911 279411 279911 280411 280921 281421 281921\n",
      " 282431 282931 283431 283941 284441 284941 285441 285951 286451 286951\n",
      " 287461 287961 288461 288971 289471 289971 290471 290981 291481 291981\n",
      " 292491 292991 293491 294001 294501 295001 295501 296011 296511 297011\n",
      " 297521 298021 298521 299031 299531 300031 300531 301041 301541 302041\n",
      " 302551 303051 303551 304061 304561 305061 305561 306071 306571 307071\n",
      " 307581 308081 308581 309091 309591 310091 310591 311101 311601 312101\n",
      " 312611 313111 313611 314121 314621 315121 315621 316131 316631 317131\n",
      " 317641 318141 318641 319151 319651 320151 320651 321161 321661 322161\n",
      " 322671 323171 323671 324181 324681 325181 325691 326191 326691 327191\n",
      " 327701 328201 328701 329211 329711 330211 330711 331221 331721 332221\n",
      " 332731 333231 333731 334241 334741 335241 335751 336251 336751 337251\n",
      " 337761 338261 338761 339271 339771 340271 340771 341281 341781 342281\n",
      " 342791 343291 343791 344301 344801 345301 345811 346311 346811 347311\n",
      " 347821 348321 348821 349331 349831 350331 350831 351341 351841 352341\n",
      " 352851 353351 353851 354361 354861 355361 355871 356371 356871 357371\n",
      " 357881 358381 358881 359391 359891 360391 360891 361401 361901 362401\n",
      " 362911 363411 363911 364421 364921 365421 365931 366431 366931 367431\n",
      " 367941 368441 368941 369451 369951 370451 370951 371461 371961 372461\n",
      " 372971 373471 373971 374481 374981 375481 375991 376491 376991 377491\n",
      " 378001 378501 379001 379511 380011 380511 381011 381521 382021 382521\n",
      " 383031 383531 384031 384541 385041 385541 386051 386551 387051 387551\n",
      " 388061 388561 389061 389571 390071 390571 391071 391581 392081 392581\n",
      " 393091 393591 394091 394601 395101 395601 396101 396611 397111 397611\n",
      " 398121 398621 399121 399631 400131 400631 401131 401641 402141 402641\n",
      " 403151 403651 404151 404661 405161 405661 406161 406671 407171 407671\n",
      " 408181 408681 409181 409691 410191 410691 411191 411701 412201 412701\n",
      " 413211 413711 414211 414721 415221 415721 416221 416731 417231 417731\n",
      " 418241 418741 419241 419751 420251 420751 421251 421761 422261 422761\n",
      " 423271 423771 424271 424781 425281 425781 426281 426791 427291 427791\n",
      " 428301 428801 429301 429811 430311 430811 431311 431821 432321 432821\n",
      " 433331 433831 434331 434841 435341 435841 436341 436851 437351 437851\n",
      " 438361 438861 439361 439871 440371 440871 441381 441881 442381 442881\n",
      " 443391 443891 444391 444901 445401 445901 446401 446911 447411 447911\n",
      " 448421 448921 449421 449931 450431 450931 451441 451941 452441 452941\n",
      " 453451 453951 454451 454961 455461 455961 456461 456971 457471 457971\n",
      " 458481 458981 459481 459991 460491 460991 461501 462001 462501 463001\n",
      " 463511 464011 464511 465021 465521 466021 466521 467031 467531 468031\n",
      " 468541 469041 469541 470051 470551 471051 471561 472061 472561 473061\n",
      " 473571 474071 474571 475081 475581 476081 476581 477091 477591 478091\n",
      " 478601 479101 479601 480111 480611 481111 481621 482121 482621 483121\n",
      " 483631 484131 484631 485141 485641 486141 486641 487151 487651 488151\n",
      " 488661 489161 489661 490171 490671 491171 491681 492181 492681 493181\n",
      " 493691 494191 494691 495201 495701 496201 496701 497211 497711 498211\n",
      " 498721 499221 499721 500231 500731 501231 501741 502241 502741 503241\n",
      " 503751 504251 504751 505261 505761 506261 506761 507271 507771 508271]\n"
     ]
    }
   ],
   "source": [
    "Events = pd.read_csv('KY-Jupyter Projects/events.csv', sep='\\t')\n",
    "print(Events)\n",
    "latency = Events['latency'].values.astype(int)\n",
    "# latency.dtype = 'int'\n",
    "print(latency)"
   ]
  },
  {
   "cell_type": "code",
   "execution_count": 5,
   "metadata": {},
   "outputs": [],
   "source": [
    "wav_slice = []\n",
    "for i in latency:\n",
    "    wav_slice.append(wav_file[i+7:i+60])"
   ]
  },
  {
   "cell_type": "code",
   "execution_count": 23,
   "metadata": {},
   "outputs": [
    {
     "name": "stdout",
     "output_type": "stream",
     "text": [
      "<pydub.audio_segment.AudioSegment object at 0x0000017F1B5BA608>\n"
     ]
    }
   ],
   "source": [
    "print(wav_slice[0])"
   ]
  },
  {
   "cell_type": "code",
   "execution_count": 24,
   "metadata": {},
   "outputs": [
    {
     "data": {
      "text/plain": [
       "<_io.BufferedRandom name='wav_0.wav'>"
      ]
     },
     "execution_count": 24,
     "metadata": {},
     "output_type": "execute_result"
    }
   ],
   "source": [
    "wav_slice[0].export('wav_0.wav', format='wav')"
   ]
  },
  {
   "cell_type": "code",
   "execution_count": 7,
   "metadata": {},
   "outputs": [],
   "source": [
    "file = 'data/wavs60/'\n",
    "for ii in range(1000):\n",
    "    wav_slice[ii].export(file+'wav60_'+str(ii)+'.wav', format='wav')"
   ]
  },
  {
   "cell_type": "code",
   "execution_count": 8,
   "metadata": {
    "scrolled": true
   },
   "outputs": [],
   "source": [
    "types = Events['type'].values.astype(int)\n",
    "# print(types)\n",
    "wav_slice_t0 = []\n",
    "wav_slice_t1 = []\n",
    "wav_slice_t2 = []\n",
    "wav_slice_t3 = []\n",
    "wav_slice_t4 = []\n",
    "wav_slice_t5 = []\n",
    "wav_slice_t6 = []\n",
    "wav_slice_t7 = []\n",
    "wav_slice_t8 = []\n",
    "wav_slice_t9 = []\n",
    "for iii in range(0,1000):\n",
    "    if types[iii] == 1:\n",
    "        wav_slice_t0.append(wav_slice[iii])\n",
    "    elif types[iii] == 2:\n",
    "        wav_slice_t1.append(wav_slice[iii])\n",
    "    elif types[iii] == 3:\n",
    "        wav_slice_t2.append(wav_slice[iii])\n",
    "    elif types[iii] == 4:\n",
    "        wav_slice_t3.append(wav_slice[iii])\n",
    "    elif types[iii] == 5:\n",
    "        wav_slice_t4.append(wav_slice[iii])\n",
    "    elif types[iii] == 6:\n",
    "        wav_slice_t5.append(wav_slice[iii])\n",
    "    elif types[iii] == 7:\n",
    "        wav_slice_t6.append(wav_slice[iii])\n",
    "    elif types[iii] == 8:\n",
    "        wav_slice_t7.append(wav_slice[iii])\n",
    "    elif types[iii] == 9:\n",
    "        wav_slice_t8.append(wav_slice[iii])\n",
    "    elif types[iii] == 10:\n",
    "        wav_slice_t9.append(wav_slice[iii])"
   ]
  },
  {
   "cell_type": "code",
   "execution_count": 9,
   "metadata": {
    "scrolled": true
   },
   "outputs": [
    {
     "name": "stdout",
     "output_type": "stream",
     "text": [
      "100\n"
     ]
    }
   ],
   "source": [
    "print(len(wav_slice_t9))"
   ]
  },
  {
   "cell_type": "code",
   "execution_count": 10,
   "metadata": {},
   "outputs": [],
   "source": [
    "wav_slice_obt = wav_slice_t0+wav_slice_t1+wav_slice_t2+wav_slice_t3+wav_slice_t4+wav_slice_t5+wav_slice_t6+wav_slice_t7+wav_slice_t8+wav_slice_t9"
   ]
  },
  {
   "cell_type": "code",
   "execution_count": 42,
   "metadata": {
    "scrolled": true
   },
   "outputs": [
    {
     "name": "stdout",
     "output_type": "stream",
     "text": [
      "[<pydub.audio_segment.AudioSegment object at 0x0000017F1B5BA408>, <pydub.audio_segment.AudioSegment object at 0x0000017F1B5BAB88>, <pydub.audio_segment.AudioSegment object at 0x0000017F1B5BADC8>, <pydub.audio_segment.AudioSegment object at 0x0000017F1B600048>, <pydub.audio_segment.AudioSegment object at 0x0000017F1B600488>, <pydub.audio_segment.AudioSegment object at 0x0000017F1B600548>, <pydub.audio_segment.AudioSegment object at 0x0000017F1B6008C8>, <pydub.audio_segment.AudioSegment object at 0x0000017F1B600A88>, <pydub.audio_segment.AudioSegment object at 0x0000017F1B600E88>, <pydub.audio_segment.AudioSegment object at 0x0000017F1B600F48>, <pydub.audio_segment.AudioSegment object at 0x0000017F1B603208>, <pydub.audio_segment.AudioSegment object at 0x0000017F1B603588>, <pydub.audio_segment.AudioSegment object at 0x0000017F1B603808>, <pydub.audio_segment.AudioSegment object at 0x0000017F1B603A88>, <pydub.audio_segment.AudioSegment object at 0x0000017F1B603C88>, <pydub.audio_segment.AudioSegment object at 0x0000017F1B58AFC8>, <pydub.audio_segment.AudioSegment object at 0x0000017F1B597088>, <pydub.audio_segment.AudioSegment object at 0x0000017F1B608148>, <pydub.audio_segment.AudioSegment object at 0x0000017F1B6083C8>, <pydub.audio_segment.AudioSegment object at 0x0000017F1B608548>, <pydub.audio_segment.AudioSegment object at 0x0000017F1B6088C8>, <pydub.audio_segment.AudioSegment object at 0x0000017F1B608A48>, <pydub.audio_segment.AudioSegment object at 0x0000017F1B608E08>, <pydub.audio_segment.AudioSegment object at 0x0000017F1B60D0C8>, <pydub.audio_segment.AudioSegment object at 0x0000017F1B60D308>, <pydub.audio_segment.AudioSegment object at 0x0000017F1B60D608>, <pydub.audio_segment.AudioSegment object at 0x0000017F1B60D788>, <pydub.audio_segment.AudioSegment object at 0x0000017F1B60D948>, <pydub.audio_segment.AudioSegment object at 0x0000017F1B60DD48>, <pydub.audio_segment.AudioSegment object at 0x0000017F1B60D088>, <pydub.audio_segment.AudioSegment object at 0x0000017F1B6130C8>, <pydub.audio_segment.AudioSegment object at 0x0000017F1B613348>, <pydub.audio_segment.AudioSegment object at 0x0000017F1B613788>, <pydub.audio_segment.AudioSegment object at 0x0000017F1B613908>, <pydub.audio_segment.AudioSegment object at 0x0000017F1B613C48>, <pydub.audio_segment.AudioSegment object at 0x0000017F1B613F48>, <pydub.audio_segment.AudioSegment object at 0x0000017F1B6170C8>, <pydub.audio_segment.AudioSegment object at 0x0000017F1B6172C8>, <pydub.audio_segment.AudioSegment object at 0x0000017F1B6175C8>, <pydub.audio_segment.AudioSegment object at 0x0000017F1B617788>, <pydub.audio_segment.AudioSegment object at 0x0000017F1B617B08>, <pydub.audio_segment.AudioSegment object at 0x0000017F1B617D88>, <pydub.audio_segment.AudioSegment object at 0x0000017F1B617F08>, <pydub.audio_segment.AudioSegment object at 0x0000017F1B61C1C8>, <pydub.audio_segment.AudioSegment object at 0x0000017F1B61C688>, <pydub.audio_segment.AudioSegment object at 0x0000017F1B61C808>, <pydub.audio_segment.AudioSegment object at 0x0000017F1B61CA88>, <pydub.audio_segment.AudioSegment object at 0x0000017F1B61CD48>, <pydub.audio_segment.AudioSegment object at 0x0000017F1B61CFC8>, <pydub.audio_segment.AudioSegment object at 0x0000017F1B6212C8>, <pydub.audio_segment.AudioSegment object at 0x0000017F1B621488>, <pydub.audio_segment.AudioSegment object at 0x0000017F1B621708>, <pydub.audio_segment.AudioSegment object at 0x0000017F1B621888>, <pydub.audio_segment.AudioSegment object at 0x0000017F1B621B88>, <pydub.audio_segment.AudioSegment object at 0x0000017F1B621D88>, <pydub.audio_segment.AudioSegment object at 0x0000017F1B6270C8>, <pydub.audio_segment.AudioSegment object at 0x0000017F1B6273C8>, <pydub.audio_segment.AudioSegment object at 0x0000017F1B627648>, <pydub.audio_segment.AudioSegment object at 0x0000017F1B627848>, <pydub.audio_segment.AudioSegment object at 0x0000017F1B627C48>, <pydub.audio_segment.AudioSegment object at 0x0000017F1B627F08>, <pydub.audio_segment.AudioSegment object at 0x0000017F1B62B108>, <pydub.audio_segment.AudioSegment object at 0x0000017F1B62B248>, <pydub.audio_segment.AudioSegment object at 0x0000017F1B62B588>, <pydub.audio_segment.AudioSegment object at 0x0000017F1B62B7C8>, <pydub.audio_segment.AudioSegment object at 0x0000017F1B62BB48>, <pydub.audio_segment.AudioSegment object at 0x0000017F1B62BD48>, <pydub.audio_segment.AudioSegment object at 0x0000017F1B62BE88>, <pydub.audio_segment.AudioSegment object at 0x0000017F1B630208>, <pydub.audio_segment.AudioSegment object at 0x0000017F1B6304C8>, <pydub.audio_segment.AudioSegment object at 0x0000017F1B630848>, <pydub.audio_segment.AudioSegment object at 0x0000017F1B630A48>, <pydub.audio_segment.AudioSegment object at 0x0000017F1B630C88>, <pydub.audio_segment.AudioSegment object at 0x0000017F1B630DC8>, <pydub.audio_segment.AudioSegment object at 0x0000017F1B6362C8>, <pydub.audio_segment.AudioSegment object at 0x0000017F1B636508>, <pydub.audio_segment.AudioSegment object at 0x0000017F1B6365C8>, <pydub.audio_segment.AudioSegment object at 0x0000017F1B636948>, <pydub.audio_segment.AudioSegment object at 0x0000017F1B636AC8>, <pydub.audio_segment.AudioSegment object at 0x0000017F1B636D08>, <pydub.audio_segment.AudioSegment object at 0x0000017F1B63B188>, <pydub.audio_segment.AudioSegment object at 0x0000017F1B63B308>, <pydub.audio_segment.AudioSegment object at 0x0000017F1B63B608>, <pydub.audio_segment.AudioSegment object at 0x0000017F1B63B808>, <pydub.audio_segment.AudioSegment object at 0x0000017F1B63BA88>, <pydub.audio_segment.AudioSegment object at 0x0000017F1B63BC88>, <pydub.audio_segment.AudioSegment object at 0x0000017F1B63F108>, <pydub.audio_segment.AudioSegment object at 0x0000017F1B63F348>, <pydub.audio_segment.AudioSegment object at 0x0000017F1B63F448>, <pydub.audio_segment.AudioSegment object at 0x0000017F1B63F848>, <pydub.audio_segment.AudioSegment object at 0x0000017F1B63F988>, <pydub.audio_segment.AudioSegment object at 0x0000017F1B63FC88>, <pydub.audio_segment.AudioSegment object at 0x0000017F1B63FD88>, <pydub.audio_segment.AudioSegment object at 0x0000017F1B6441C8>, <pydub.audio_segment.AudioSegment object at 0x0000017F1B6444C8>, <pydub.audio_segment.AudioSegment object at 0x0000017F1B6445C8>, <pydub.audio_segment.AudioSegment object at 0x0000017F1B644948>, <pydub.audio_segment.AudioSegment object at 0x0000017F1B644BC8>, <pydub.audio_segment.AudioSegment object at 0x0000017F1B644F08>, <pydub.audio_segment.AudioSegment object at 0x0000017F1B64A0C8>, <pydub.audio_segment.AudioSegment object at 0x0000017F1B5BAA48>, <pydub.audio_segment.AudioSegment object at 0x0000017F1B5BAA08>, <pydub.audio_segment.AudioSegment object at 0x0000017F1B5BAF08>, <pydub.audio_segment.AudioSegment object at 0x0000017F1B6001C8>, <pydub.audio_segment.AudioSegment object at 0x0000017F1B600308>, <pydub.audio_segment.AudioSegment object at 0x0000017F1B600648>, <pydub.audio_segment.AudioSegment object at 0x0000017F1B600908>, <pydub.audio_segment.AudioSegment object at 0x0000017F1B600AC8>, <pydub.audio_segment.AudioSegment object at 0x0000017F1B600E48>, <pydub.audio_segment.AudioSegment object at 0x0000017F1B6030C8>, <pydub.audio_segment.AudioSegment object at 0x0000017F1B603308>, <pydub.audio_segment.AudioSegment object at 0x0000017F1B603488>, <pydub.audio_segment.AudioSegment object at 0x0000017F1B603748>, <pydub.audio_segment.AudioSegment object at 0x0000017F1B603B88>, <pydub.audio_segment.AudioSegment object at 0x0000017F1B603DC8>, <pydub.audio_segment.AudioSegment object at 0x0000017F1B58A9C8>, <pydub.audio_segment.AudioSegment object at 0x0000017F1B5977C8>, <pydub.audio_segment.AudioSegment object at 0x0000017F1B603F88>, <pydub.audio_segment.AudioSegment object at 0x0000017F1B608248>, <pydub.audio_segment.AudioSegment object at 0x0000017F1B608508>, <pydub.audio_segment.AudioSegment object at 0x0000017F1B608988>, <pydub.audio_segment.AudioSegment object at 0x0000017F1B608BC8>, <pydub.audio_segment.AudioSegment object at 0x0000017F1B608C88>, <pydub.audio_segment.AudioSegment object at 0x0000017F1B608F88>, <pydub.audio_segment.AudioSegment object at 0x0000017F1B60D288>, <pydub.audio_segment.AudioSegment object at 0x0000017F1B60D448>, <pydub.audio_segment.AudioSegment object at 0x0000017F1B60D708>, <pydub.audio_segment.AudioSegment object at 0x0000017F1B60DAC8>, <pydub.audio_segment.AudioSegment object at 0x0000017F1B60DD08>, <pydub.audio_segment.AudioSegment object at 0x0000017F1B60DE48>, <pydub.audio_segment.AudioSegment object at 0x0000017F1B6131C8>, <pydub.audio_segment.AudioSegment object at 0x0000017F1B6133C8>, <pydub.audio_segment.AudioSegment object at 0x0000017F1B613688>, <pydub.audio_segment.AudioSegment object at 0x0000017F1B613948>, <pydub.audio_segment.AudioSegment object at 0x0000017F1B613C08>, <pydub.audio_segment.AudioSegment object at 0x0000017F1B613D88>, <pydub.audio_segment.AudioSegment object at 0x0000017F1B617148>, <pydub.audio_segment.AudioSegment object at 0x0000017F1B617488>, <pydub.audio_segment.AudioSegment object at 0x0000017F1B617748>, <pydub.audio_segment.AudioSegment object at 0x0000017F1B617988>, <pydub.audio_segment.AudioSegment object at 0x0000017F1B617A08>, <pydub.audio_segment.AudioSegment object at 0x0000017F1B617E88>, <pydub.audio_segment.AudioSegment object at 0x0000017F1B61C0C8>, <pydub.audio_segment.AudioSegment object at 0x0000017F1B61C288>, <pydub.audio_segment.AudioSegment object at 0x0000017F1B61C5C8>, <pydub.audio_segment.AudioSegment object at 0x0000017F1B61C748>, <pydub.audio_segment.AudioSegment object at 0x0000017F1B61C9C8>, <pydub.audio_segment.AudioSegment object at 0x0000017F1B61CCC8>, <pydub.audio_segment.AudioSegment object at 0x0000017F1B61CF08>, <pydub.audio_segment.AudioSegment object at 0x0000017F1B621108>, <pydub.audio_segment.AudioSegment object at 0x0000017F1B6214C8>, <pydub.audio_segment.AudioSegment object at 0x0000017F1B621648>, <pydub.audio_segment.AudioSegment object at 0x0000017F1B621A48>, <pydub.audio_segment.AudioSegment object at 0x0000017F1B621C08>, <pydub.audio_segment.AudioSegment object at 0x0000017F1B621F48>, <pydub.audio_segment.AudioSegment object at 0x0000017F1B627248>, <pydub.audio_segment.AudioSegment object at 0x0000017F1B6274C8>, <pydub.audio_segment.AudioSegment object at 0x0000017F1B627788>, <pydub.audio_segment.AudioSegment object at 0x0000017F1B6279C8>, <pydub.audio_segment.AudioSegment object at 0x0000017F1B627C08>, <pydub.audio_segment.AudioSegment object at 0x0000017F1B627D88>, <pydub.audio_segment.AudioSegment object at 0x0000017F1B62B1C8>, <pydub.audio_segment.AudioSegment object at 0x0000017F1B62B308>, <pydub.audio_segment.AudioSegment object at 0x0000017F1B62B4C8>, <pydub.audio_segment.AudioSegment object at 0x0000017F1B62B848>, <pydub.audio_segment.AudioSegment object at 0x0000017F1B62BB08>, <pydub.audio_segment.AudioSegment object at 0x0000017F1B62BC88>, <pydub.audio_segment.AudioSegment object at 0x0000017F1B62B048>, <pydub.audio_segment.AudioSegment object at 0x0000017F1B630188>, <pydub.audio_segment.AudioSegment object at 0x0000017F1B630508>, <pydub.audio_segment.AudioSegment object at 0x0000017F1B630748>, <pydub.audio_segment.AudioSegment object at 0x0000017F1B630908>, <pydub.audio_segment.AudioSegment object at 0x0000017F1B630D48>, <pydub.audio_segment.AudioSegment object at 0x0000017F1B630EC8>, <pydub.audio_segment.AudioSegment object at 0x0000017F1B636088>, <pydub.audio_segment.AudioSegment object at 0x0000017F1B636548>, <pydub.audio_segment.AudioSegment object at 0x0000017F1B636708>, <pydub.audio_segment.AudioSegment object at 0x0000017F1B636888>, <pydub.audio_segment.AudioSegment object at 0x0000017F1B636CC8>, <pydub.audio_segment.AudioSegment object at 0x0000017F1B636D48>, <pydub.audio_segment.AudioSegment object at 0x0000017F1B63B148>, <pydub.audio_segment.AudioSegment object at 0x0000017F1B63B408>, <pydub.audio_segment.AudioSegment object at 0x0000017F1B63B4C8>, <pydub.audio_segment.AudioSegment object at 0x0000017F1B63B7C8>, <pydub.audio_segment.AudioSegment object at 0x0000017F1B63BA48>, <pydub.audio_segment.AudioSegment object at 0x0000017F1B63BE08>, <pydub.audio_segment.AudioSegment object at 0x0000017F1B63F0C8>, <pydub.audio_segment.AudioSegment object at 0x0000017F1B63F188>, <pydub.audio_segment.AudioSegment object at 0x0000017F1B63F588>, <pydub.audio_segment.AudioSegment object at 0x0000017F1B63F708>, <pydub.audio_segment.AudioSegment object at 0x0000017F1B63F8C8>, <pydub.audio_segment.AudioSegment object at 0x0000017F1B63FCC8>, <pydub.audio_segment.AudioSegment object at 0x0000017F1B63FE08>, <pydub.audio_segment.AudioSegment object at 0x0000017F1B644288>, <pydub.audio_segment.AudioSegment object at 0x0000017F1B644488>, <pydub.audio_segment.AudioSegment object at 0x0000017F1B644588>, <pydub.audio_segment.AudioSegment object at 0x0000017F1B644988>, <pydub.audio_segment.AudioSegment object at 0x0000017F1B644B48>, <pydub.audio_segment.AudioSegment object at 0x0000017F1B644E08>, <pydub.audio_segment.AudioSegment object at 0x0000017F1B64A1C8>, <pydub.audio_segment.AudioSegment object at 0x0000017F1B5BA9C8>, <pydub.audio_segment.AudioSegment object at 0x0000017F1B5BAC88>, <pydub.audio_segment.AudioSegment object at 0x0000017F1B5BAF48>, <pydub.audio_segment.AudioSegment object at 0x0000017F1B5BA948>, <pydub.audio_segment.AudioSegment object at 0x0000017F1B6003C8>, <pydub.audio_segment.AudioSegment object at 0x0000017F1B600508>, <pydub.audio_segment.AudioSegment object at 0x0000017F1B600888>, <pydub.audio_segment.AudioSegment object at 0x0000017F1B600C08>, <pydub.audio_segment.AudioSegment object at 0x0000017F1B600DC8>, <pydub.audio_segment.AudioSegment object at 0x0000017F1B600FC8>, <pydub.audio_segment.AudioSegment object at 0x0000017F1B603408>, <pydub.audio_segment.AudioSegment object at 0x0000017F1B603688>, <pydub.audio_segment.AudioSegment object at 0x0000017F1B603848>, <pydub.audio_segment.AudioSegment object at 0x0000017F1B6039C8>, <pydub.audio_segment.AudioSegment object at 0x0000017F1B603D48>, <pydub.audio_segment.AudioSegment object at 0x0000017F19370708>, <pydub.audio_segment.AudioSegment object at 0x0000017F1B5972C8>, <pydub.audio_segment.AudioSegment object at 0x0000017F1B6080C8>, <pydub.audio_segment.AudioSegment object at 0x0000017F1B6082C8>, <pydub.audio_segment.AudioSegment object at 0x0000017F1B608688>, <pydub.audio_segment.AudioSegment object at 0x0000017F1B608948>, <pydub.audio_segment.AudioSegment object at 0x0000017F1B608A88>, <pydub.audio_segment.AudioSegment object at 0x0000017F1B608E48>, <pydub.audio_segment.AudioSegment object at 0x0000017F1B608EC8>, <pydub.audio_segment.AudioSegment object at 0x0000017F1B60D2C8>, <pydub.audio_segment.AudioSegment object at 0x0000017F1B60D648>, <pydub.audio_segment.AudioSegment object at 0x0000017F1B60D7C8>, <pydub.audio_segment.AudioSegment object at 0x0000017F1B60DA08>, <pydub.audio_segment.AudioSegment object at 0x0000017F1B60DDC8>, <pydub.audio_segment.AudioSegment object at 0x0000017F1B60DE08>, <pydub.audio_segment.AudioSegment object at 0x0000017F1B613308>, <pydub.audio_segment.AudioSegment object at 0x0000017F1B613548>, <pydub.audio_segment.AudioSegment object at 0x0000017F1B6136C8>, <pydub.audio_segment.AudioSegment object at 0x0000017F1B613888>, <pydub.audio_segment.AudioSegment object at 0x0000017F1B613CC8>, <pydub.audio_segment.AudioSegment object at 0x0000017F1B613EC8>, <pydub.audio_segment.AudioSegment object at 0x0000017F1B617188>, <pydub.audio_segment.AudioSegment object at 0x0000017F1B6173C8>, <pydub.audio_segment.AudioSegment object at 0x0000017F1B617548>, <pydub.audio_segment.AudioSegment object at 0x0000017F1B617908>, <pydub.audio_segment.AudioSegment object at 0x0000017F1B617B48>, <pydub.audio_segment.AudioSegment object at 0x0000017F1B617D48>, <pydub.audio_segment.AudioSegment object at 0x0000017F1B61C148>, <pydub.audio_segment.AudioSegment object at 0x0000017F1B61C408>, <pydub.audio_segment.AudioSegment object at 0x0000017F1B61C488>, <pydub.audio_segment.AudioSegment object at 0x0000017F1B61C8C8>, <pydub.audio_segment.AudioSegment object at 0x0000017F1B61CAC8>, <pydub.audio_segment.AudioSegment object at 0x0000017F1B61CC48>, <pydub.audio_segment.AudioSegment object at 0x0000017F1B61CF48>, <pydub.audio_segment.AudioSegment object at 0x0000017F1B621188>, <pydub.audio_segment.AudioSegment object at 0x0000017F1B6215C8>, <pydub.audio_segment.AudioSegment object at 0x0000017F1B621608>, <pydub.audio_segment.AudioSegment object at 0x0000017F1B621AC8>, <pydub.audio_segment.AudioSegment object at 0x0000017F1B621C48>, <pydub.audio_segment.AudioSegment object at 0x0000017F1B621EC8>, <pydub.audio_segment.AudioSegment object at 0x0000017F1B6271C8>, <pydub.audio_segment.AudioSegment object at 0x0000017F1B6272C8>, <pydub.audio_segment.AudioSegment object at 0x0000017F1B6275C8>, <pydub.audio_segment.AudioSegment object at 0x0000017F1B627888>, <pydub.audio_segment.AudioSegment object at 0x0000017F1B627A88>, <pydub.audio_segment.AudioSegment object at 0x0000017F1B627E48>, <pydub.audio_segment.AudioSegment object at 0x0000017F1B62B148>, <pydub.audio_segment.AudioSegment object at 0x0000017F1B62B2C8>, <pydub.audio_segment.AudioSegment object at 0x0000017F1B62B548>, <pydub.audio_segment.AudioSegment object at 0x0000017F1B62B908>, <pydub.audio_segment.AudioSegment object at 0x0000017F1B62BA08>, <pydub.audio_segment.AudioSegment object at 0x0000017F1B62BC08>, <pydub.audio_segment.AudioSegment object at 0x0000017F1B6300C8>, <pydub.audio_segment.AudioSegment object at 0x0000017F1B630388>, <pydub.audio_segment.AudioSegment object at 0x0000017F1B630608>, <pydub.audio_segment.AudioSegment object at 0x0000017F1B630788>, <pydub.audio_segment.AudioSegment object at 0x0000017F1B630AC8>, <pydub.audio_segment.AudioSegment object at 0x0000017F1B630B48>, <pydub.audio_segment.AudioSegment object at 0x0000017F1B630E08>, <pydub.audio_segment.AudioSegment object at 0x0000017F1B636188>, <pydub.audio_segment.AudioSegment object at 0x0000017F1B636348>, <pydub.audio_segment.AudioSegment object at 0x0000017F1B636788>, <pydub.audio_segment.AudioSegment object at 0x0000017F1B636988>, <pydub.audio_segment.AudioSegment object at 0x0000017F1B636B08>, <pydub.audio_segment.AudioSegment object at 0x0000017F1B636EC8>, <pydub.audio_segment.AudioSegment object at 0x0000017F1B63B088>, <pydub.audio_segment.AudioSegment object at 0x0000017F1B63B348>, <pydub.audio_segment.AudioSegment object at 0x0000017F1B63B708>, <pydub.audio_segment.AudioSegment object at 0x0000017F1B63B8C8>, <pydub.audio_segment.AudioSegment object at 0x0000017F1B63BB48>, <pydub.audio_segment.AudioSegment object at 0x0000017F1B63BC48>, <pydub.audio_segment.AudioSegment object at 0x0000017F1B63BEC8>, <pydub.audio_segment.AudioSegment object at 0x0000017F1B63F3C8>, <pydub.audio_segment.AudioSegment object at 0x0000017F1B63F608>, <pydub.audio_segment.AudioSegment object at 0x0000017F1B63F808>, <pydub.audio_segment.AudioSegment object at 0x0000017F1B63FA48>, <pydub.audio_segment.AudioSegment object at 0x0000017F1B63FC08>, <pydub.audio_segment.AudioSegment object at 0x0000017F1B63FF08>, <pydub.audio_segment.AudioSegment object at 0x0000017F1B644108>, <pydub.audio_segment.AudioSegment object at 0x0000017F1B644508>, <pydub.audio_segment.AudioSegment object at 0x0000017F1B644688>, <pydub.audio_segment.AudioSegment object at 0x0000017F1B6447C8>, <pydub.audio_segment.AudioSegment object at 0x0000017F1B644C88>, <pydub.audio_segment.AudioSegment object at 0x0000017F1B644EC8>, <pydub.audio_segment.AudioSegment object at 0x0000017F1B644F48>, <pydub.audio_segment.AudioSegment object at 0x0000017F1B5BA7C8>, <pydub.audio_segment.AudioSegment object at 0x0000017F1B5BAC48>, <pydub.audio_segment.AudioSegment object at 0x0000017F1B5BAD48>, <pydub.audio_segment.AudioSegment object at 0x0000017F1B5BAFC8>, <pydub.audio_segment.AudioSegment object at 0x0000017F1B600388>, <pydub.audio_segment.AudioSegment object at 0x0000017F1B600708>, <pydub.audio_segment.AudioSegment object at 0x0000017F1B600808>, <pydub.audio_segment.AudioSegment object at 0x0000017F1B600B88>, <pydub.audio_segment.AudioSegment object at 0x0000017F1B600EC8>, <pydub.audio_segment.AudioSegment object at 0x0000017F1B603108>, <pydub.audio_segment.AudioSegment object at 0x0000017F1B603348>, <pydub.audio_segment.AudioSegment object at 0x0000017F1B603448>, <pydub.audio_segment.AudioSegment object at 0x0000017F1B6037C8>, <pydub.audio_segment.AudioSegment object at 0x0000017F1B603948>, <pydub.audio_segment.AudioSegment object at 0x0000017F1B603C48>, <pydub.audio_segment.AudioSegment object at 0x0000017F1B58A7C8>, <pydub.audio_segment.AudioSegment object at 0x0000017F1B597508>, <pydub.audio_segment.AudioSegment object at 0x0000017F1B6081C8>, <pydub.audio_segment.AudioSegment object at 0x0000017F1B608388>, <pydub.audio_segment.AudioSegment object at 0x0000017F1B6084C8>, <pydub.audio_segment.AudioSegment object at 0x0000017F1B608888>, <pydub.audio_segment.AudioSegment object at 0x0000017F1B608AC8>, <pydub.audio_segment.AudioSegment object at 0x0000017F1B608CC8>, <pydub.audio_segment.AudioSegment object at 0x0000017F1B608048>, <pydub.audio_segment.AudioSegment object at 0x0000017F1B60D248>, <pydub.audio_segment.AudioSegment object at 0x0000017F1B60D4C8>, <pydub.audio_segment.AudioSegment object at 0x0000017F1B60D748>, <pydub.audio_segment.AudioSegment object at 0x0000017F1B60DB48>, <pydub.audio_segment.AudioSegment object at 0x0000017F1B60DBC8>, <pydub.audio_segment.AudioSegment object at 0x0000017F1B60DF08>, <pydub.audio_segment.AudioSegment object at 0x0000017F1B613108>, <pydub.audio_segment.AudioSegment object at 0x0000017F1B613508>, <pydub.audio_segment.AudioSegment object at 0x0000017F1B613648>, <pydub.audio_segment.AudioSegment object at 0x0000017F1B613A88>, <pydub.audio_segment.AudioSegment object at 0x0000017F1B613BC8>, <pydub.audio_segment.AudioSegment object at 0x0000017F1B613E48>, <pydub.audio_segment.AudioSegment object at 0x0000017F1B617208>, <pydub.audio_segment.AudioSegment object at 0x0000017F1B617448>, <pydub.audio_segment.AudioSegment object at 0x0000017F1B617588>, <pydub.audio_segment.AudioSegment object at 0x0000017F1B6177C8>, <pydub.audio_segment.AudioSegment object at 0x0000017F1B617AC8>, <pydub.audio_segment.AudioSegment object at 0x0000017F1B617E48>, <pydub.audio_segment.AudioSegment object at 0x0000017F1B61C108>, <pydub.audio_segment.AudioSegment object at 0x0000017F1B61C308>, <pydub.audio_segment.AudioSegment object at 0x0000017F1B61C4C8>, <pydub.audio_segment.AudioSegment object at 0x0000017F1B61C788>, <pydub.audio_segment.AudioSegment object at 0x0000017F1B61CB88>, <pydub.audio_segment.AudioSegment object at 0x0000017F1B61CC88>, <pydub.audio_segment.AudioSegment object at 0x0000017F1B621048>, <pydub.audio_segment.AudioSegment object at 0x0000017F1B621208>, <pydub.audio_segment.AudioSegment object at 0x0000017F1B621448>, <pydub.audio_segment.AudioSegment object at 0x0000017F1B6217C8>, <pydub.audio_segment.AudioSegment object at 0x0000017F1B6218C8>, <pydub.audio_segment.AudioSegment object at 0x0000017F1B621B08>, <pydub.audio_segment.AudioSegment object at 0x0000017F1B621DC8>, <pydub.audio_segment.AudioSegment object at 0x0000017F1B627288>, <pydub.audio_segment.AudioSegment object at 0x0000017F1B627408>, <pydub.audio_segment.AudioSegment object at 0x0000017F1B627588>, <pydub.audio_segment.AudioSegment object at 0x0000017F1B627988>, <pydub.audio_segment.AudioSegment object at 0x0000017F1B627BC8>, <pydub.audio_segment.AudioSegment object at 0x0000017F1B627D08>, <pydub.audio_segment.AudioSegment object at 0x0000017F1B62B188>, <pydub.audio_segment.AudioSegment object at 0x0000017F1B62B208>, <pydub.audio_segment.AudioSegment object at 0x0000017F1B62B688>, <pydub.audio_segment.AudioSegment object at 0x0000017F1B62B888>, <pydub.audio_segment.AudioSegment object at 0x0000017F1B62BBC8>, <pydub.audio_segment.AudioSegment object at 0x0000017F1B62BCC8>, <pydub.audio_segment.AudioSegment object at 0x0000017F1B62BF48>, <pydub.audio_segment.AudioSegment object at 0x0000017F1B6301C8>, <pydub.audio_segment.AudioSegment object at 0x0000017F1B630548>, <pydub.audio_segment.AudioSegment object at 0x0000017F1B6307C8>, <pydub.audio_segment.AudioSegment object at 0x0000017F1B630A88>, <pydub.audio_segment.AudioSegment object at 0x0000017F1B630D08>, <pydub.audio_segment.AudioSegment object at 0x0000017F1B630E48>, <pydub.audio_segment.AudioSegment object at 0x0000017F1B636248>, <pydub.audio_segment.AudioSegment object at 0x0000017F1B636308>, <pydub.audio_segment.AudioSegment object at 0x0000017F1B6366C8>, <pydub.audio_segment.AudioSegment object at 0x0000017F1B636A08>, <pydub.audio_segment.AudioSegment object at 0x0000017F1B636C88>, <pydub.audio_segment.AudioSegment object at 0x0000017F1B636E48>, <pydub.audio_segment.AudioSegment object at 0x0000017F1B63B0C8>, <pydub.audio_segment.AudioSegment object at 0x0000017F1B63B388>, <pydub.audio_segment.AudioSegment object at 0x0000017F1B63B6C8>, <pydub.audio_segment.AudioSegment object at 0x0000017F1B63B948>, <pydub.audio_segment.AudioSegment object at 0x0000017F1B63BA08>, <pydub.audio_segment.AudioSegment object at 0x0000017F1B63BD08>, <pydub.audio_segment.AudioSegment object at 0x0000017F1B63B048>, <pydub.audio_segment.AudioSegment object at 0x0000017F1B63F1C8>, <pydub.audio_segment.AudioSegment object at 0x0000017F1B63F4C8>, <pydub.audio_segment.AudioSegment object at 0x0000017F1B63F6C8>, <pydub.audio_segment.AudioSegment object at 0x0000017F1B63F888>, <pydub.audio_segment.AudioSegment object at 0x0000017F1B63FD08>, <pydub.audio_segment.AudioSegment object at 0x0000017F1B63FE48>, <pydub.audio_segment.AudioSegment object at 0x0000017F1B644188>, <pydub.audio_segment.AudioSegment object at 0x0000017F1B6443C8>, <pydub.audio_segment.AudioSegment object at 0x0000017F1B644648>, <pydub.audio_segment.AudioSegment object at 0x0000017F1B644888>, <pydub.audio_segment.AudioSegment object at 0x0000017F1B644A88>, <pydub.audio_segment.AudioSegment object at 0x0000017F1B644D88>, <pydub.audio_segment.AudioSegment object at 0x0000017F1B644048>, <pydub.audio_segment.AudioSegment object at 0x0000017F1B5BA988>, <pydub.audio_segment.AudioSegment object at 0x0000017F1B5BABC8>, <pydub.audio_segment.AudioSegment object at 0x0000017F1B5BAE48>, <pydub.audio_segment.AudioSegment object at 0x0000017F1B600188>, <pydub.audio_segment.AudioSegment object at 0x0000017F1B600448>, <pydub.audio_segment.AudioSegment object at 0x0000017F1B6006C8>, <pydub.audio_segment.AudioSegment object at 0x0000017F1B6009C8>, <pydub.audio_segment.AudioSegment object at 0x0000017F1B600B08>, <pydub.audio_segment.AudioSegment object at 0x0000017F1B600C88>, <pydub.audio_segment.AudioSegment object at 0x0000017F1B600F08>, <pydub.audio_segment.AudioSegment object at 0x0000017F1B603248>, <pydub.audio_segment.AudioSegment object at 0x0000017F1B603548>, <pydub.audio_segment.AudioSegment object at 0x0000017F1B603788>, <pydub.audio_segment.AudioSegment object at 0x0000017F1B603B08>, <pydub.audio_segment.AudioSegment object at 0x0000017F1B603CC8>, <pydub.audio_segment.AudioSegment object at 0x0000017F19292D08>, <pydub.audio_segment.AudioSegment object at 0x0000017F1B603EC8>, <pydub.audio_segment.AudioSegment object at 0x0000017F1B608088>, <pydub.audio_segment.AudioSegment object at 0x0000017F1B608308>, <pydub.audio_segment.AudioSegment object at 0x0000017F1B608608>, <pydub.audio_segment.AudioSegment object at 0x0000017F1B608908>, <pydub.audio_segment.AudioSegment object at 0x0000017F1B608C08>, <pydub.audio_segment.AudioSegment object at 0x0000017F1B608D48>, <pydub.audio_segment.AudioSegment object at 0x0000017F1B60D108>, <pydub.audio_segment.AudioSegment object at 0x0000017F1B60D188>, <pydub.audio_segment.AudioSegment object at 0x0000017F1B60D548>, <pydub.audio_segment.AudioSegment object at 0x0000017F1B60D6C8>, <pydub.audio_segment.AudioSegment object at 0x0000017F1B60DA48>, <pydub.audio_segment.AudioSegment object at 0x0000017F1B60DC88>, <pydub.audio_segment.AudioSegment object at 0x0000017F1B60DEC8>, <pydub.audio_segment.AudioSegment object at 0x0000017F1B613288>, <pydub.audio_segment.AudioSegment object at 0x0000017F1B613388>, <pydub.audio_segment.AudioSegment object at 0x0000017F1B6137C8>, <pydub.audio_segment.AudioSegment object at 0x0000017F1B613988>, <pydub.audio_segment.AudioSegment object at 0x0000017F1B613D08>, <pydub.audio_segment.AudioSegment object at 0x0000017F1B613E88>, <pydub.audio_segment.AudioSegment object at 0x0000017F1B617088>, <pydub.audio_segment.AudioSegment object at 0x0000017F1B617408>, <pydub.audio_segment.AudioSegment object at 0x0000017F1B617508>, <pydub.audio_segment.AudioSegment object at 0x0000017F1B617808>, <pydub.audio_segment.AudioSegment object at 0x0000017F1B617BC8>, <pydub.audio_segment.AudioSegment object at 0x0000017F1B617D08>, <pydub.audio_segment.AudioSegment object at 0x0000017F1B617F48>, <pydub.audio_segment.AudioSegment object at 0x0000017F1B61C3C8>, <pydub.audio_segment.AudioSegment object at 0x0000017F1B61C448>, <pydub.audio_segment.AudioSegment object at 0x0000017F1B61C7C8>, <pydub.audio_segment.AudioSegment object at 0x0000017F1B61CB48>, <pydub.audio_segment.AudioSegment object at 0x0000017F1B61CD88>, <pydub.audio_segment.AudioSegment object at 0x0000017F1B61CE88>, <pydub.audio_segment.AudioSegment object at 0x0000017F1B621288>, <pydub.audio_segment.AudioSegment object at 0x0000017F1B621588>, <pydub.audio_segment.AudioSegment object at 0x0000017F1B621688>, <pydub.audio_segment.AudioSegment object at 0x0000017F1B621988>, <pydub.audio_segment.AudioSegment object at 0x0000017F1B621BC8>, <pydub.audio_segment.AudioSegment object at 0x0000017F1B621F88>, <pydub.audio_segment.AudioSegment object at 0x0000017F1B627148>, <pydub.audio_segment.AudioSegment object at 0x0000017F1B627308>, <pydub.audio_segment.AudioSegment object at 0x0000017F1B6276C8>, <pydub.audio_segment.AudioSegment object at 0x0000017F1B6277C8>, <pydub.audio_segment.AudioSegment object at 0x0000017F1B627B88>, <pydub.audio_segment.AudioSegment object at 0x0000017F1B627E88>, <pydub.audio_segment.AudioSegment object at 0x0000017F1B62B088>, <pydub.audio_segment.AudioSegment object at 0x0000017F1B62B388>, <pydub.audio_segment.AudioSegment object at 0x0000017F1B62B508>, <pydub.audio_segment.AudioSegment object at 0x0000017F1B62B708>, <pydub.audio_segment.AudioSegment object at 0x0000017F1B62BAC8>, <pydub.audio_segment.AudioSegment object at 0x0000017F1B62BC48>, <pydub.audio_segment.AudioSegment object at 0x0000017F1B630088>, <pydub.audio_segment.AudioSegment object at 0x0000017F1B630148>, <pydub.audio_segment.AudioSegment object at 0x0000017F1B6305C8>, <pydub.audio_segment.AudioSegment object at 0x0000017F1B630688>, <pydub.audio_segment.AudioSegment object at 0x0000017F1B630948>, <pydub.audio_segment.AudioSegment object at 0x0000017F1B630D88>, <pydub.audio_segment.AudioSegment object at 0x0000017F1B630048>, <pydub.audio_segment.AudioSegment object at 0x0000017F1B636148>, <pydub.audio_segment.AudioSegment object at 0x0000017F1B6363C8>, <pydub.audio_segment.AudioSegment object at 0x0000017F1B6367C8>, <pydub.audio_segment.AudioSegment object at 0x0000017F1B636908>, <pydub.audio_segment.AudioSegment object at 0x0000017F1B636C08>, <pydub.audio_segment.AudioSegment object at 0x0000017F1B636E88>, <pydub.audio_segment.AudioSegment object at 0x0000017F1B636048>, <pydub.audio_segment.AudioSegment object at 0x0000017F1B63B288>, <pydub.audio_segment.AudioSegment object at 0x0000017F1B63B548>, <pydub.audio_segment.AudioSegment object at 0x0000017F1B63B788>, <pydub.audio_segment.AudioSegment object at 0x0000017F1B63BC08>, <pydub.audio_segment.AudioSegment object at 0x0000017F1B63BE48>, <pydub.audio_segment.AudioSegment object at 0x0000017F1B63F088>, <pydub.audio_segment.AudioSegment object at 0x0000017F1B63F308>, <pydub.audio_segment.AudioSegment object at 0x0000017F1B63F5C8>, <pydub.audio_segment.AudioSegment object at 0x0000017F1B63F7C8>, <pydub.audio_segment.AudioSegment object at 0x0000017F1B63F9C8>, <pydub.audio_segment.AudioSegment object at 0x0000017F1B63FC48>, <pydub.audio_segment.AudioSegment object at 0x0000017F1B63FFC8>, <pydub.audio_segment.AudioSegment object at 0x0000017F1B644208>, <pydub.audio_segment.AudioSegment object at 0x0000017F1B644308>, <pydub.audio_segment.AudioSegment object at 0x0000017F1B644708>, <pydub.audio_segment.AudioSegment object at 0x0000017F1B644808>, <pydub.audio_segment.AudioSegment object at 0x0000017F1B644C08>, <pydub.audio_segment.AudioSegment object at 0x0000017F1B644D48>, <pydub.audio_segment.AudioSegment object at 0x0000017F1B644F88>, <pydub.audio_segment.AudioSegment object at 0x0000017F1B5BAAC8>, <pydub.audio_segment.AudioSegment object at 0x0000017F1B5BACC8>, <pydub.audio_segment.AudioSegment object at 0x0000017F1B5BAE88>, <pydub.audio_segment.AudioSegment object at 0x0000017F1B600248>, <pydub.audio_segment.AudioSegment object at 0x0000017F1B6004C8>, <pydub.audio_segment.AudioSegment object at 0x0000017F1B600688>, <pydub.audio_segment.AudioSegment object at 0x0000017F1B600948>, <pydub.audio_segment.AudioSegment object at 0x0000017F1B600BC8>, <pydub.audio_segment.AudioSegment object at 0x0000017F1B600CC8>, <pydub.audio_segment.AudioSegment object at 0x0000017F1B603088>, <pydub.audio_segment.AudioSegment object at 0x0000017F1B6032C8>, <pydub.audio_segment.AudioSegment object at 0x0000017F1B603648>, <pydub.audio_segment.AudioSegment object at 0x0000017F1B603708>, <pydub.audio_segment.AudioSegment object at 0x0000017F1B603988>, <pydub.audio_segment.AudioSegment object at 0x0000017F1B603E08>, <pydub.audio_segment.AudioSegment object at 0x0000017F1B603E88>, <pydub.audio_segment.AudioSegment object at 0x0000017F1B597B48>, <pydub.audio_segment.AudioSegment object at 0x0000017F1B608188>, <pydub.audio_segment.AudioSegment object at 0x0000017F1B608348>, <pydub.audio_segment.AudioSegment object at 0x0000017F1B608588>, <pydub.audio_segment.AudioSegment object at 0x0000017F1B608748>, <pydub.audio_segment.AudioSegment object at 0x0000017F1B608B88>, <pydub.audio_segment.AudioSegment object at 0x0000017F1B608D08>, <pydub.audio_segment.AudioSegment object at 0x0000017F1B608F08>, <pydub.audio_segment.AudioSegment object at 0x0000017F1B60D3C8>, <pydub.audio_segment.AudioSegment object at 0x0000017F1B60D588>, <pydub.audio_segment.AudioSegment object at 0x0000017F1B60D8C8>, <pydub.audio_segment.AudioSegment object at 0x0000017F1B60DA88>, <pydub.audio_segment.AudioSegment object at 0x0000017F1B60DCC8>, <pydub.audio_segment.AudioSegment object at 0x0000017F1B60DF88>, <pydub.audio_segment.AudioSegment object at 0x0000017F1B613248>, <pydub.audio_segment.AudioSegment object at 0x0000017F1B6134C8>, <pydub.audio_segment.AudioSegment object at 0x0000017F1B613608>, <pydub.audio_segment.AudioSegment object at 0x0000017F1B6138C8>, <pydub.audio_segment.AudioSegment object at 0x0000017F1B613B88>, <pydub.audio_segment.AudioSegment object at 0x0000017F1B613F88>, <pydub.audio_segment.AudioSegment object at 0x0000017F1B617108>, <pydub.audio_segment.AudioSegment object at 0x0000017F1B617388>, <pydub.audio_segment.AudioSegment object at 0x0000017F1B617648>, <pydub.audio_segment.AudioSegment object at 0x0000017F1B617948>, <pydub.audio_segment.AudioSegment object at 0x0000017F1B617A48>, <pydub.audio_segment.AudioSegment object at 0x0000017F1B617DC8>, <pydub.audio_segment.AudioSegment object at 0x0000017F1B61C088>, <pydub.audio_segment.AudioSegment object at 0x0000017F1B61C2C8>, <pydub.audio_segment.AudioSegment object at 0x0000017F1B61C508>, <pydub.audio_segment.AudioSegment object at 0x0000017F1B61C6C8>, <pydub.audio_segment.AudioSegment object at 0x0000017F1B61C988>, <pydub.audio_segment.AudioSegment object at 0x0000017F1B61CDC8>, <pydub.audio_segment.AudioSegment object at 0x0000017F1B61CEC8>, <pydub.audio_segment.AudioSegment object at 0x0000017F1B621248>, <pydub.audio_segment.AudioSegment object at 0x0000017F1B621548>, <pydub.audio_segment.AudioSegment object at 0x0000017F1B621748>, <pydub.audio_segment.AudioSegment object at 0x0000017F1B6219C8>, <pydub.audio_segment.AudioSegment object at 0x0000017F1B621D08>, <pydub.audio_segment.AudioSegment object at 0x0000017F1B621E88>, <pydub.audio_segment.AudioSegment object at 0x0000017F1B627088>, <pydub.audio_segment.AudioSegment object at 0x0000017F1B627508>, <pydub.audio_segment.AudioSegment object at 0x0000017F1B627608>, <pydub.audio_segment.AudioSegment object at 0x0000017F1B627A08>, <pydub.audio_segment.AudioSegment object at 0x0000017F1B627AC8>, <pydub.audio_segment.AudioSegment object at 0x0000017F1B627CC8>, <pydub.audio_segment.AudioSegment object at 0x0000017F1B627F48>, <pydub.audio_segment.AudioSegment object at 0x0000017F1B62B3C8>, <pydub.audio_segment.AudioSegment object at 0x0000017F1B62B648>, <pydub.audio_segment.AudioSegment object at 0x0000017F1B62B948>, <pydub.audio_segment.AudioSegment object at 0x0000017F1B62BB88>, <pydub.audio_segment.AudioSegment object at 0x0000017F1B62BD88>, <pydub.audio_segment.AudioSegment object at 0x0000017F1B62BF88>, <pydub.audio_segment.AudioSegment object at 0x0000017F1B6302C8>, <pydub.audio_segment.AudioSegment object at 0x0000017F1B630448>, <pydub.audio_segment.AudioSegment object at 0x0000017F1B630648>, <pydub.audio_segment.AudioSegment object at 0x0000017F1B6309C8>, <pydub.audio_segment.AudioSegment object at 0x0000017F1B630B88>, <pydub.audio_segment.AudioSegment object at 0x0000017F1B630F48>, <pydub.audio_segment.AudioSegment object at 0x0000017F1B636288>, <pydub.audio_segment.AudioSegment object at 0x0000017F1B636488>, <pydub.audio_segment.AudioSegment object at 0x0000017F1B636748>, <pydub.audio_segment.AudioSegment object at 0x0000017F1B636808>, <pydub.audio_segment.AudioSegment object at 0x0000017F1B636B48>, <pydub.audio_segment.AudioSegment object at 0x0000017F1B636F48>, <pydub.audio_segment.AudioSegment object at 0x0000017F1B63B108>, <pydub.audio_segment.AudioSegment object at 0x0000017F1B63B488>, <pydub.audio_segment.AudioSegment object at 0x0000017F1B63B648>, <pydub.audio_segment.AudioSegment object at 0x0000017F1B63B908>, <pydub.audio_segment.AudioSegment object at 0x0000017F1B63B9C8>, <pydub.audio_segment.AudioSegment object at 0x0000017F1B63BCC8>, <pydub.audio_segment.AudioSegment object at 0x0000017F1B63F148>, <pydub.audio_segment.AudioSegment object at 0x0000017F1B63F208>, <pydub.audio_segment.AudioSegment object at 0x0000017F1B63F408>, <pydub.audio_segment.AudioSegment object at 0x0000017F1B63F048>, <pydub.audio_segment.AudioSegment object at 0x0000017F1B63F908>, <pydub.audio_segment.AudioSegment object at 0x0000017F1B63FBC8>, <pydub.audio_segment.AudioSegment object at 0x0000017F1B63FF88>, <pydub.audio_segment.AudioSegment object at 0x0000017F1B644248>, <pydub.audio_segment.AudioSegment object at 0x0000017F1B644408>, <pydub.audio_segment.AudioSegment object at 0x0000017F1B6446C8>, <pydub.audio_segment.AudioSegment object at 0x0000017F1B644908>, <pydub.audio_segment.AudioSegment object at 0x0000017F1B644AC8>, <pydub.audio_segment.AudioSegment object at 0x0000017F1B644E88>, <pydub.audio_segment.AudioSegment object at 0x0000017F1B64A148>, <pydub.audio_segment.AudioSegment object at 0x0000017F1B5BAA88>, <pydub.audio_segment.AudioSegment object at 0x0000017F1B5BAB48>, <pydub.audio_segment.AudioSegment object at 0x0000017F1B5BAD88>, <pydub.audio_segment.AudioSegment object at 0x0000017F1B600108>, <pydub.audio_segment.AudioSegment object at 0x0000017F1B600348>, <pydub.audio_segment.AudioSegment object at 0x0000017F1B6005C8>, <pydub.audio_segment.AudioSegment object at 0x0000017F1B600788>, <pydub.audio_segment.AudioSegment object at 0x0000017F1B600C48>, <pydub.audio_segment.AudioSegment object at 0x0000017F1B600D08>, <pydub.audio_segment.AudioSegment object at 0x0000017F1B600088>, <pydub.audio_segment.AudioSegment object at 0x0000017F1B6031C8>, <pydub.audio_segment.AudioSegment object at 0x0000017F1B6034C8>, <pydub.audio_segment.AudioSegment object at 0x0000017F1B6036C8>, <pydub.audio_segment.AudioSegment object at 0x0000017F1B603A08>, <pydub.audio_segment.AudioSegment object at 0x0000017F1B603D08>, <pydub.audio_segment.AudioSegment object at 0x0000017F1B58AB88>, <pydub.audio_segment.AudioSegment object at 0x0000017F1B597048>, <pydub.audio_segment.AudioSegment object at 0x0000017F1B608208>, <pydub.audio_segment.AudioSegment object at 0x0000017F1B608288>, <pydub.audio_segment.AudioSegment object at 0x0000017F1B6086C8>, <pydub.audio_segment.AudioSegment object at 0x0000017F1B608808>, <pydub.audio_segment.AudioSegment object at 0x0000017F1B608A08>, <pydub.audio_segment.AudioSegment object at 0x0000017F1B608D88>, <pydub.audio_segment.AudioSegment object at 0x0000017F1B60D148>, <pydub.audio_segment.AudioSegment object at 0x0000017F1B60D388>, <pydub.audio_segment.AudioSegment object at 0x0000017F1B60D508>, <pydub.audio_segment.AudioSegment object at 0x0000017F1B60D688>, <pydub.audio_segment.AudioSegment object at 0x0000017F1B60D9C8>, <pydub.audio_segment.AudioSegment object at 0x0000017F1B60DD88>, <pydub.audio_segment.AudioSegment object at 0x0000017F1B60DFC8>, <pydub.audio_segment.AudioSegment object at 0x0000017F1B613148>, <pydub.audio_segment.AudioSegment object at 0x0000017F1B613448>, <pydub.audio_segment.AudioSegment object at 0x0000017F1B613748>, <pydub.audio_segment.AudioSegment object at 0x0000017F1B613A48>, <pydub.audio_segment.AudioSegment object at 0x0000017F1B613B08>, <pydub.audio_segment.AudioSegment object at 0x0000017F1B613DC8>, <pydub.audio_segment.AudioSegment object at 0x0000017F1B6171C8>, <pydub.audio_segment.AudioSegment object at 0x0000017F1B6174C8>, <pydub.audio_segment.AudioSegment object at 0x0000017F1B6176C8>, <pydub.audio_segment.AudioSegment object at 0x0000017F1B617888>, <pydub.audio_segment.AudioSegment object at 0x0000017F1B617C48>, <pydub.audio_segment.AudioSegment object at 0x0000017F1B617E08>, <pydub.audio_segment.AudioSegment object at 0x0000017F1B617FC8>, <pydub.audio_segment.AudioSegment object at 0x0000017F1B61C208>, <pydub.audio_segment.AudioSegment object at 0x0000017F1B61C588>, <pydub.audio_segment.AudioSegment object at 0x0000017F1B61C708>, <pydub.audio_segment.AudioSegment object at 0x0000017F1B61CA48>, <pydub.audio_segment.AudioSegment object at 0x0000017F1B61CE08>, <pydub.audio_segment.AudioSegment object at 0x0000017F1B61CE48>, <pydub.audio_segment.AudioSegment object at 0x0000017F1B621308>, <pydub.audio_segment.AudioSegment object at 0x0000017F1B6213C8>, <pydub.audio_segment.AudioSegment object at 0x0000017F1B6216C8>, <pydub.audio_segment.AudioSegment object at 0x0000017F1B621908>, <pydub.audio_segment.AudioSegment object at 0x0000017F1B621D48>, <pydub.audio_segment.AudioSegment object at 0x0000017F1B621E48>, <pydub.audio_segment.AudioSegment object at 0x0000017F1B627208>, <pydub.audio_segment.AudioSegment object at 0x0000017F1B627448>, <pydub.audio_segment.AudioSegment object at 0x0000017F1B627688>, <pydub.audio_segment.AudioSegment object at 0x0000017F1B627808>, <pydub.audio_segment.AudioSegment object at 0x0000017F1B627B48>, <pydub.audio_segment.AudioSegment object at 0x0000017F1B627E08>, <pydub.audio_segment.AudioSegment object at 0x0000017F1B627FC8>, <pydub.audio_segment.AudioSegment object at 0x0000017F1B62B348>, <pydub.audio_segment.AudioSegment object at 0x0000017F1B62B6C8>, <pydub.audio_segment.AudioSegment object at 0x0000017F1B62B748>, <pydub.audio_segment.AudioSegment object at 0x0000017F1B62BA88>, <pydub.audio_segment.AudioSegment object at 0x0000017F1B62BD08>, <pydub.audio_segment.AudioSegment object at 0x0000017F1B62BEC8>, <pydub.audio_segment.AudioSegment object at 0x0000017F1B630308>, <pydub.audio_segment.AudioSegment object at 0x0000017F1B630588>, <pydub.audio_segment.AudioSegment object at 0x0000017F1B6306C8>, <pydub.audio_segment.AudioSegment object at 0x0000017F1B630B08>, <pydub.audio_segment.AudioSegment object at 0x0000017F1B630C48>, <pydub.audio_segment.AudioSegment object at 0x0000017F1B630FC8>, <pydub.audio_segment.AudioSegment object at 0x0000017F1B6360C8>, <pydub.audio_segment.AudioSegment object at 0x0000017F1B636408>, <pydub.audio_segment.AudioSegment object at 0x0000017F1B636608>, <pydub.audio_segment.AudioSegment object at 0x0000017F1B636848>, <pydub.audio_segment.AudioSegment object at 0x0000017F1B636A88>, <pydub.audio_segment.AudioSegment object at 0x0000017F1B636DC8>, <pydub.audio_segment.AudioSegment object at 0x0000017F1B636F88>, <pydub.audio_segment.AudioSegment object at 0x0000017F1B63B2C8>, <pydub.audio_segment.AudioSegment object at 0x0000017F1B63B5C8>, <pydub.audio_segment.AudioSegment object at 0x0000017F1B63B848>, <pydub.audio_segment.AudioSegment object at 0x0000017F1B63BBC8>, <pydub.audio_segment.AudioSegment object at 0x0000017F1B63BE88>, <pydub.audio_segment.AudioSegment object at 0x0000017F1B63BF88>, <pydub.audio_segment.AudioSegment object at 0x0000017F1B63F2C8>, <pydub.audio_segment.AudioSegment object at 0x0000017F1B63F488>, <pydub.audio_segment.AudioSegment object at 0x0000017F1B595D08>, <pydub.audio_segment.AudioSegment object at 0x0000017F1B63F948>, <pydub.audio_segment.AudioSegment object at 0x0000017F1B63FD48>, <pydub.audio_segment.AudioSegment object at 0x0000017F1B63FEC8>, <pydub.audio_segment.AudioSegment object at 0x0000017F1B644148>, <pydub.audio_segment.AudioSegment object at 0x0000017F1B644388>, <pydub.audio_segment.AudioSegment object at 0x0000017F1B644608>, <pydub.audio_segment.AudioSegment object at 0x0000017F1B6449C8>, <pydub.audio_segment.AudioSegment object at 0x0000017F1B644B08>, <pydub.audio_segment.AudioSegment object at 0x0000017F1B644D08>, <pydub.audio_segment.AudioSegment object at 0x0000017F1B644FC8>, <pydub.audio_segment.AudioSegment object at 0x0000017F1B5BA508>, <pydub.audio_segment.AudioSegment object at 0x0000017F1B5BAD08>, <pydub.audio_segment.AudioSegment object at 0x0000017F1B5BAE08>, <pydub.audio_segment.AudioSegment object at 0x0000017F1B600208>, <pydub.audio_segment.AudioSegment object at 0x0000017F1B6002C8>, <pydub.audio_segment.AudioSegment object at 0x0000017F1B600748>, <pydub.audio_segment.AudioSegment object at 0x0000017F1B6007C8>, <pydub.audio_segment.AudioSegment object at 0x0000017F1B600A48>, <pydub.audio_segment.AudioSegment object at 0x0000017F1B600D48>, <pydub.audio_segment.AudioSegment object at 0x0000017F1B603188>, <pydub.audio_segment.AudioSegment object at 0x0000017F1B603288>, <pydub.audio_segment.AudioSegment object at 0x0000017F1B6035C8>, <pydub.audio_segment.AudioSegment object at 0x0000017F1B6038C8>, <pydub.audio_segment.AudioSegment object at 0x0000017F1B603A48>, <pydub.audio_segment.AudioSegment object at 0x0000017F1B603BC8>, <pydub.audio_segment.AudioSegment object at 0x0000017F1B58A5C8>, <pydub.audio_segment.AudioSegment object at 0x0000017F1B603F48>, <pydub.audio_segment.AudioSegment object at 0x0000017F1B603FC8>, <pydub.audio_segment.AudioSegment object at 0x0000017F1B608488>, <pydub.audio_segment.AudioSegment object at 0x0000017F1B608648>, <pydub.audio_segment.AudioSegment object at 0x0000017F1B608788>, <pydub.audio_segment.AudioSegment object at 0x0000017F1B6089C8>, <pydub.audio_segment.AudioSegment object at 0x0000017F1B608C48>, <pydub.audio_segment.AudioSegment object at 0x0000017F1B608FC8>, <pydub.audio_segment.AudioSegment object at 0x0000017F1B60D348>, <pydub.audio_segment.AudioSegment object at 0x0000017F1B60D408>, <pydub.audio_segment.AudioSegment object at 0x0000017F1B60D808>, <pydub.audio_segment.AudioSegment object at 0x0000017F1B60D988>, <pydub.audio_segment.AudioSegment object at 0x0000017F1B60DC08>, <pydub.audio_segment.AudioSegment object at 0x0000017F1B613088>, <pydub.audio_segment.AudioSegment object at 0x0000017F1B613188>, <pydub.audio_segment.AudioSegment object at 0x0000017F1B613408>, <pydub.audio_segment.AudioSegment object at 0x0000017F1B613708>, <pydub.audio_segment.AudioSegment object at 0x0000017F1B6139C8>, <pydub.audio_segment.AudioSegment object at 0x0000017F1B613AC8>, <pydub.audio_segment.AudioSegment object at 0x0000017F1B613E08>, <pydub.audio_segment.AudioSegment object at 0x0000017F1B617248>, <pydub.audio_segment.AudioSegment object at 0x0000017F1B617348>, <pydub.audio_segment.AudioSegment object at 0x0000017F1B617688>, <pydub.audio_segment.AudioSegment object at 0x0000017F1B6178C8>, <pydub.audio_segment.AudioSegment object at 0x0000017F1B617B88>, <pydub.audio_segment.AudioSegment object at 0x0000017F1B617EC8>, <pydub.audio_segment.AudioSegment object at 0x0000017F1B617048>, <pydub.audio_segment.AudioSegment object at 0x0000017F1B61C248>, <pydub.audio_segment.AudioSegment object at 0x0000017F1B61C608>, <pydub.audio_segment.AudioSegment object at 0x0000017F1B61C848>, <pydub.audio_segment.AudioSegment object at 0x0000017F1B61C948>, <pydub.audio_segment.AudioSegment object at 0x0000017F1B61CD08>, <pydub.audio_segment.AudioSegment object at 0x0000017F1B61C048>, <pydub.audio_segment.AudioSegment object at 0x0000017F1B621148>, <pydub.audio_segment.AudioSegment object at 0x0000017F1B621408>, <pydub.audio_segment.AudioSegment object at 0x0000017F1B621788>, <pydub.audio_segment.AudioSegment object at 0x0000017F1B621948>, <pydub.audio_segment.AudioSegment object at 0x0000017F1B621CC8>, <pydub.audio_segment.AudioSegment object at 0x0000017F1B621FC8>, <pydub.audio_segment.AudioSegment object at 0x0000017F1B627188>, <pydub.audio_segment.AudioSegment object at 0x0000017F1B627488>, <pydub.audio_segment.AudioSegment object at 0x0000017F1B627708>, <pydub.audio_segment.AudioSegment object at 0x0000017F1B627948>, <pydub.audio_segment.AudioSegment object at 0x0000017F1B627A48>, <pydub.audio_segment.AudioSegment object at 0x0000017F1B627D48>, <pydub.audio_segment.AudioSegment object at 0x0000017F1B627048>, <pydub.audio_segment.AudioSegment object at 0x0000017F1B62B448>, <pydub.audio_segment.AudioSegment object at 0x0000017F1B62B608>, <pydub.audio_segment.AudioSegment object at 0x0000017F1B62B8C8>, <pydub.audio_segment.AudioSegment object at 0x0000017F1B62B9C8>, <pydub.audio_segment.AudioSegment object at 0x0000017F1B62BDC8>, <pydub.audio_segment.AudioSegment object at 0x0000017F1B62BFC8>, <pydub.audio_segment.AudioSegment object at 0x0000017F1B630288>, <pydub.audio_segment.AudioSegment object at 0x0000017F1B630488>, <pydub.audio_segment.AudioSegment object at 0x0000017F1B630808>, <pydub.audio_segment.AudioSegment object at 0x0000017F1B630988>, <pydub.audio_segment.AudioSegment object at 0x0000017F1B630C08>, <pydub.audio_segment.AudioSegment object at 0x0000017F1B630E88>, <pydub.audio_segment.AudioSegment object at 0x0000017F1B636108>, <pydub.audio_segment.AudioSegment object at 0x0000017F1B6364C8>, <pydub.audio_segment.AudioSegment object at 0x0000017F1B636648>, <pydub.audio_segment.AudioSegment object at 0x0000017F1B636A48>, <pydub.audio_segment.AudioSegment object at 0x0000017F1B636B88>, <pydub.audio_segment.AudioSegment object at 0x0000017F1B636D88>, <pydub.audio_segment.AudioSegment object at 0x0000017F1B63B1C8>, <pydub.audio_segment.AudioSegment object at 0x0000017F1B63B448>, <pydub.audio_segment.AudioSegment object at 0x0000017F1B63B688>, <pydub.audio_segment.AudioSegment object at 0x0000017F1B63B988>, <pydub.audio_segment.AudioSegment object at 0x0000017F1B63BB08>, <pydub.audio_segment.AudioSegment object at 0x0000017F1B63BD88>, <pydub.audio_segment.AudioSegment object at 0x0000017F1B63BF08>, <pydub.audio_segment.AudioSegment object at 0x0000017F1B63F388>, <pydub.audio_segment.AudioSegment object at 0x0000017F1B63F508>, <pydub.audio_segment.AudioSegment object at 0x0000017F1B590108>, <pydub.audio_segment.AudioSegment object at 0x0000017F1B63FA08>, <pydub.audio_segment.AudioSegment object at 0x0000017F1B63FB08>, <pydub.audio_segment.AudioSegment object at 0x0000017F1B63FE88>, <pydub.audio_segment.AudioSegment object at 0x0000017F1B644088>, <pydub.audio_segment.AudioSegment object at 0x0000017F1B644448>, <pydub.audio_segment.AudioSegment object at 0x0000017F1B644788>, <pydub.audio_segment.AudioSegment object at 0x0000017F1B644A08>, <pydub.audio_segment.AudioSegment object at 0x0000017F1B644C48>, <pydub.audio_segment.AudioSegment object at 0x0000017F1B644E48>, <pydub.audio_segment.AudioSegment object at 0x0000017F1B64A108>, <pydub.audio_segment.AudioSegment object at 0x0000017F1B5BA888>, <pydub.audio_segment.AudioSegment object at 0x0000017F1B5BAB08>, <pydub.audio_segment.AudioSegment object at 0x0000017F1B5BAF88>, <pydub.audio_segment.AudioSegment object at 0x0000017F1B600148>, <pydub.audio_segment.AudioSegment object at 0x0000017F1B600408>, <pydub.audio_segment.AudioSegment object at 0x0000017F1B600588>, <pydub.audio_segment.AudioSegment object at 0x0000017F1B600848>, <pydub.audio_segment.AudioSegment object at 0x0000017F1B600B48>, <pydub.audio_segment.AudioSegment object at 0x0000017F1B600E08>, <pydub.audio_segment.AudioSegment object at 0x0000017F1B603148>, <pydub.audio_segment.AudioSegment object at 0x0000017F1B603388>, <pydub.audio_segment.AudioSegment object at 0x0000017F1B603508>, <pydub.audio_segment.AudioSegment object at 0x0000017F1B603908>, <pydub.audio_segment.AudioSegment object at 0x0000017F1B603AC8>, <pydub.audio_segment.AudioSegment object at 0x0000017F1B603D88>, <pydub.audio_segment.AudioSegment object at 0x0000017F1B58A608>, <pydub.audio_segment.AudioSegment object at 0x0000017F1B603F08>, <pydub.audio_segment.AudioSegment object at 0x0000017F1B603048>, <pydub.audio_segment.AudioSegment object at 0x0000017F1B608448>, <pydub.audio_segment.AudioSegment object at 0x0000017F1B6085C8>, <pydub.audio_segment.AudioSegment object at 0x0000017F1B6087C8>, <pydub.audio_segment.AudioSegment object at 0x0000017F1B608B08>, <pydub.audio_segment.AudioSegment object at 0x0000017F1B608E88>, <pydub.audio_segment.AudioSegment object at 0x0000017F1B60D048>, <pydub.audio_segment.AudioSegment object at 0x0000017F1B60D1C8>, <pydub.audio_segment.AudioSegment object at 0x0000017F1B60D488>, <pydub.audio_segment.AudioSegment object at 0x0000017F1B60D848>, <pydub.audio_segment.AudioSegment object at 0x0000017F1B60DB08>, <pydub.audio_segment.AudioSegment object at 0x0000017F1B60DC48>, <pydub.audio_segment.AudioSegment object at 0x0000017F1B60DE88>, <pydub.audio_segment.AudioSegment object at 0x0000017F1B6132C8>, <pydub.audio_segment.AudioSegment object at 0x0000017F1B613488>, <pydub.audio_segment.AudioSegment object at 0x0000017F1B613808>, <pydub.audio_segment.AudioSegment object at 0x0000017F1B613A08>, <pydub.audio_segment.AudioSegment object at 0x0000017F1B613B48>, <pydub.audio_segment.AudioSegment object at 0x0000017F1B613D48>, <pydub.audio_segment.AudioSegment object at 0x0000017F1B613048>, <pydub.audio_segment.AudioSegment object at 0x0000017F1B617308>, <pydub.audio_segment.AudioSegment object at 0x0000017F1B617608>, <pydub.audio_segment.AudioSegment object at 0x0000017F1B617848>, <pydub.audio_segment.AudioSegment object at 0x0000017F1B617C08>, <pydub.audio_segment.AudioSegment object at 0x0000017F1B617C88>, <pydub.audio_segment.AudioSegment object at 0x0000017F1B617F88>, <pydub.audio_segment.AudioSegment object at 0x0000017F1B61C388>, <pydub.audio_segment.AudioSegment object at 0x0000017F1B61C648>, <pydub.audio_segment.AudioSegment object at 0x0000017F1B61C908>, <pydub.audio_segment.AudioSegment object at 0x0000017F1B61CB08>, <pydub.audio_segment.AudioSegment object at 0x0000017F1B61CBC8>, <pydub.audio_segment.AudioSegment object at 0x0000017F1B61CF88>, <pydub.audio_segment.AudioSegment object at 0x0000017F1B6211C8>, <pydub.audio_segment.AudioSegment object at 0x0000017F1B621388>, <pydub.audio_segment.AudioSegment object at 0x0000017F1B621848>, <pydub.audio_segment.AudioSegment object at 0x0000017F1B621A08>, <pydub.audio_segment.AudioSegment object at 0x0000017F1B621B48>, <pydub.audio_segment.AudioSegment object at 0x0000017F1B621F08>, <pydub.audio_segment.AudioSegment object at 0x0000017F1B627108>, <pydub.audio_segment.AudioSegment object at 0x0000017F1B627388>, <pydub.audio_segment.AudioSegment object at 0x0000017F1B627748>, <pydub.audio_segment.AudioSegment object at 0x0000017F1B6278C8>, <pydub.audio_segment.AudioSegment object at 0x0000017F1B627B08>, <pydub.audio_segment.AudioSegment object at 0x0000017F1B627DC8>, <pydub.audio_segment.AudioSegment object at 0x0000017F1B627F88>, <pydub.audio_segment.AudioSegment object at 0x0000017F1B62B408>, <pydub.audio_segment.AudioSegment object at 0x0000017F1B62B5C8>, <pydub.audio_segment.AudioSegment object at 0x0000017F1B62B788>, <pydub.audio_segment.AudioSegment object at 0x0000017F1B62B988>, <pydub.audio_segment.AudioSegment object at 0x0000017F1B62BE48>, <pydub.audio_segment.AudioSegment object at 0x0000017F1B630108>, <pydub.audio_segment.AudioSegment object at 0x0000017F1B630348>, <pydub.audio_segment.AudioSegment object at 0x0000017F1B6303C8>, <pydub.audio_segment.AudioSegment object at 0x0000017F1B630708>, <pydub.audio_segment.AudioSegment object at 0x0000017F1B630A08>, <pydub.audio_segment.AudioSegment object at 0x0000017F1B630CC8>, <pydub.audio_segment.AudioSegment object at 0x0000017F1B630F88>, <pydub.audio_segment.AudioSegment object at 0x0000017F1B6361C8>, <pydub.audio_segment.AudioSegment object at 0x0000017F1B636388>, <pydub.audio_segment.AudioSegment object at 0x0000017F1B636688>, <pydub.audio_segment.AudioSegment object at 0x0000017F1B6368C8>, <pydub.audio_segment.AudioSegment object at 0x0000017F1B636BC8>, <pydub.audio_segment.AudioSegment object at 0x0000017F1B636E08>, <pydub.audio_segment.AudioSegment object at 0x0000017F1B63B208>, <pydub.audio_segment.AudioSegment object at 0x0000017F1B63B248>, <pydub.audio_segment.AudioSegment object at 0x0000017F1B63B508>, <pydub.audio_segment.AudioSegment object at 0x0000017F1B63B748>, <pydub.audio_segment.AudioSegment object at 0x0000017F1B63BAC8>, <pydub.audio_segment.AudioSegment object at 0x0000017F1B63BDC8>, <pydub.audio_segment.AudioSegment object at 0x0000017F1B63BF48>, <pydub.audio_segment.AudioSegment object at 0x0000017F1B63F288>, <pydub.audio_segment.AudioSegment object at 0x0000017F1B63F548>, <pydub.audio_segment.AudioSegment object at 0x0000017F1B63F748>, <pydub.audio_segment.AudioSegment object at 0x0000017F1B63FA88>, <pydub.audio_segment.AudioSegment object at 0x0000017F1B63FB88>, <pydub.audio_segment.AudioSegment object at 0x0000017F1B63FF48>, <pydub.audio_segment.AudioSegment object at 0x0000017F1B6440C8>, <pydub.audio_segment.AudioSegment object at 0x0000017F1B6442C8>, <pydub.audio_segment.AudioSegment object at 0x0000017F1B644548>, <pydub.audio_segment.AudioSegment object at 0x0000017F1B644848>, <pydub.audio_segment.AudioSegment object at 0x0000017F1B644B88>, <pydub.audio_segment.AudioSegment object at 0x0000017F1B644CC8>, <pydub.audio_segment.AudioSegment object at 0x0000017F1B64A188>, <pydub.audio_segment.AudioSegment object at 0x0000017F1B5BA608>, <pydub.audio_segment.AudioSegment object at 0x0000017F1B5BAC08>, <pydub.audio_segment.AudioSegment object at 0x0000017F1B5BAEC8>, <pydub.audio_segment.AudioSegment object at 0x0000017F1B6000C8>, <pydub.audio_segment.AudioSegment object at 0x0000017F1B600288>, <pydub.audio_segment.AudioSegment object at 0x0000017F1B600608>, <pydub.audio_segment.AudioSegment object at 0x0000017F1B600988>, <pydub.audio_segment.AudioSegment object at 0x0000017F1B600A08>, <pydub.audio_segment.AudioSegment object at 0x0000017F1B600D88>, <pydub.audio_segment.AudioSegment object at 0x0000017F1B600F88>, <pydub.audio_segment.AudioSegment object at 0x0000017F1B6033C8>, <pydub.audio_segment.AudioSegment object at 0x0000017F1B603608>, <pydub.audio_segment.AudioSegment object at 0x0000017F1B603888>, <pydub.audio_segment.AudioSegment object at 0x0000017F1B603B48>, <pydub.audio_segment.AudioSegment object at 0x0000017F1B603C08>, <pydub.audio_segment.AudioSegment object at 0x0000017F1B603E48>, <pydub.audio_segment.AudioSegment object at 0x0000017F1B5283C8>, <pydub.audio_segment.AudioSegment object at 0x0000017F1B608108>, <pydub.audio_segment.AudioSegment object at 0x0000017F1B608408>, <pydub.audio_segment.AudioSegment object at 0x0000017F1B608708>, <pydub.audio_segment.AudioSegment object at 0x0000017F1B608848>, <pydub.audio_segment.AudioSegment object at 0x0000017F1B608B48>, <pydub.audio_segment.AudioSegment object at 0x0000017F1B608DC8>, <pydub.audio_segment.AudioSegment object at 0x0000017F1B608F48>, <pydub.audio_segment.AudioSegment object at 0x0000017F1B60D208>, <pydub.audio_segment.AudioSegment object at 0x0000017F1B60D5C8>, <pydub.audio_segment.AudioSegment object at 0x0000017F1B60D888>, <pydub.audio_segment.AudioSegment object at 0x0000017F1B60D908>, <pydub.audio_segment.AudioSegment object at 0x0000017F1B60DB88>, <pydub.audio_segment.AudioSegment object at 0x0000017F1B60DF48>, <pydub.audio_segment.AudioSegment object at 0x0000017F1B613208>, <pydub.audio_segment.AudioSegment object at 0x0000017F1B613588>, <pydub.audio_segment.AudioSegment object at 0x0000017F1B6135C8>, <pydub.audio_segment.AudioSegment object at 0x0000017F1B613848>, <pydub.audio_segment.AudioSegment object at 0x0000017F1B613C88>, <pydub.audio_segment.AudioSegment object at 0x0000017F1B613F08>, <pydub.audio_segment.AudioSegment object at 0x0000017F1B613FC8>, <pydub.audio_segment.AudioSegment object at 0x0000017F1B617288>, <pydub.audio_segment.AudioSegment object at 0x0000017F1B617708>, <pydub.audio_segment.AudioSegment object at 0x0000017F1B6179C8>, <pydub.audio_segment.AudioSegment object at 0x0000017F1B617A88>, <pydub.audio_segment.AudioSegment object at 0x0000017F1B617CC8>, <pydub.audio_segment.AudioSegment object at 0x0000017F1B61C188>, <pydub.audio_segment.AudioSegment object at 0x0000017F1B61C348>, <pydub.audio_segment.AudioSegment object at 0x0000017F1B61C548>, <pydub.audio_segment.AudioSegment object at 0x0000017F1B61C888>, <pydub.audio_segment.AudioSegment object at 0x0000017F1B61CA08>, <pydub.audio_segment.AudioSegment object at 0x0000017F1B61CC08>, <pydub.audio_segment.AudioSegment object at 0x0000017F1B6210C8>, <pydub.audio_segment.AudioSegment object at 0x0000017F1B621348>, <pydub.audio_segment.AudioSegment object at 0x0000017F1B621508>, <pydub.audio_segment.AudioSegment object at 0x0000017F1B621808>, <pydub.audio_segment.AudioSegment object at 0x0000017F1B621A88>, <pydub.audio_segment.AudioSegment object at 0x0000017F1B621C88>, <pydub.audio_segment.AudioSegment object at 0x0000017F1B621E08>, <pydub.audio_segment.AudioSegment object at 0x0000017F1B621088>, <pydub.audio_segment.AudioSegment object at 0x0000017F1B627348>, <pydub.audio_segment.AudioSegment object at 0x0000017F1B627548>, <pydub.audio_segment.AudioSegment object at 0x0000017F1B627908>, <pydub.audio_segment.AudioSegment object at 0x0000017F1B627C88>, <pydub.audio_segment.AudioSegment object at 0x0000017F1B627EC8>, <pydub.audio_segment.AudioSegment object at 0x0000017F1B62B0C8>, <pydub.audio_segment.AudioSegment object at 0x0000017F1B62B288>, <pydub.audio_segment.AudioSegment object at 0x0000017F1B62B488>, <pydub.audio_segment.AudioSegment object at 0x0000017F1B62B808>, <pydub.audio_segment.AudioSegment object at 0x0000017F1B62BA48>, <pydub.audio_segment.AudioSegment object at 0x0000017F1B62BE08>, <pydub.audio_segment.AudioSegment object at 0x0000017F1B62BF08>, <pydub.audio_segment.AudioSegment object at 0x0000017F1B630248>, <pydub.audio_segment.AudioSegment object at 0x0000017F1B630408>, <pydub.audio_segment.AudioSegment object at 0x0000017F1B630888>, <pydub.audio_segment.AudioSegment object at 0x0000017F1B6308C8>, <pydub.audio_segment.AudioSegment object at 0x0000017F1B630BC8>, <pydub.audio_segment.AudioSegment object at 0x0000017F1B630F08>, <pydub.audio_segment.AudioSegment object at 0x0000017F1B636208>, <pydub.audio_segment.AudioSegment object at 0x0000017F1B636448>, <pydub.audio_segment.AudioSegment object at 0x0000017F1B636588>, <pydub.audio_segment.AudioSegment object at 0x0000017F1B6369C8>, <pydub.audio_segment.AudioSegment object at 0x0000017F1B636C48>, <pydub.audio_segment.AudioSegment object at 0x0000017F1B636F08>, <pydub.audio_segment.AudioSegment object at 0x0000017F1B636FC8>, <pydub.audio_segment.AudioSegment object at 0x0000017F1B63B3C8>, <pydub.audio_segment.AudioSegment object at 0x0000017F1B63B588>, <pydub.audio_segment.AudioSegment object at 0x0000017F1B63B888>, <pydub.audio_segment.AudioSegment object at 0x0000017F1B63BB88>, <pydub.audio_segment.AudioSegment object at 0x0000017F1B63BD48>, <pydub.audio_segment.AudioSegment object at 0x0000017F1B63BFC8>, <pydub.audio_segment.AudioSegment object at 0x0000017F1B63F248>, <pydub.audio_segment.AudioSegment object at 0x0000017F1B63F648>, <pydub.audio_segment.AudioSegment object at 0x0000017F1B63F688>, <pydub.audio_segment.AudioSegment object at 0x0000017F1B63FAC8>, <pydub.audio_segment.AudioSegment object at 0x0000017F1B63FB48>, <pydub.audio_segment.AudioSegment object at 0x0000017F1B63FDC8>, <pydub.audio_segment.AudioSegment object at 0x0000017F1B63F788>, <pydub.audio_segment.AudioSegment object at 0x0000017F1B644348>, <pydub.audio_segment.AudioSegment object at 0x0000017F1B644748>, <pydub.audio_segment.AudioSegment object at 0x0000017F1B6448C8>, <pydub.audio_segment.AudioSegment object at 0x0000017F1B644A48>, <pydub.audio_segment.AudioSegment object at 0x0000017F1B644DC8>, <pydub.audio_segment.AudioSegment object at 0x0000017F1B64A088>]\n"
     ]
    }
   ],
   "source": [
    "print(wav_slice_obt)"
   ]
  },
  {
   "cell_type": "code",
   "execution_count": 11,
   "metadata": {},
   "outputs": [],
   "source": [
    "file_1 = 'data/wavs60_obt/'\n",
    "for iiiii in range(1000):\n",
    "    wav_slice_obt[iiiii].export(file_1+'wav60_'+str(iiiii)+'.wav', format='wav')"
   ]
  },
  {
   "cell_type": "code",
   "execution_count": 3,
   "metadata": {},
   "outputs": [],
   "source": [
    "import librosa"
   ]
  },
  {
   "cell_type": "code",
   "execution_count": 4,
   "metadata": {},
   "outputs": [],
   "source": [
    "file_1 = 'data/wavs60_obt/'\n",
    "mfccs = []\n",
    "for j in range(1000):\n",
    "    file_j = file_1+'wav60_'+str(j)+'.wav'\n",
    "    y, sr = librosa.load(file_j)\n",
    "    mfccs.append(librosa.feature.mfcc(y=y, sr=sr))"
   ]
  },
  {
   "cell_type": "code",
   "execution_count": 5,
   "metadata": {},
   "outputs": [],
   "source": [
    "file_1 = 'data/wavs60_obt/'\n",
    "melspectrogram = []\n",
    "for j in range(1000):\n",
    "    file_j = file_1+'wav60_'+str(j)+'.wav'\n",
    "    y, sr = librosa.load(file_j)\n",
    "    melspectrogram.append(librosa.feature.melspectrogram(y=y, sr=sr))"
   ]
  },
  {
   "cell_type": "code",
   "execution_count": 6,
   "metadata": {},
   "outputs": [],
   "source": [
    "from matplotlib import pyplot as plt\n",
    "%matplotlib inline "
   ]
  },
  {
   "cell_type": "code",
   "execution_count": 8,
   "metadata": {
    "scrolled": true
   },
   "outputs": [
    {
     "data": {
      "image/png": "[encoded data removed]",
      "text/plain": [
       "<Figure size 432x288 with 1 Axes>"
      ]
     },
     "metadata": {
      "needs_background": "light"
     },
     "output_type": "display_data"
    },
    {
     "name": "stdout",
     "output_type": "stream",
     "text": [
      "[[2.25983083e-01 3.97204697e-01 6.59051776e-01]\n",
      " [2.53416926e-01 2.40316570e-01 5.92585564e-01]\n",
      " [1.57817900e-01 7.38909394e-02 2.28043139e-01]\n",
      " [2.67057836e-01 8.49258825e-02 1.75676659e-01]\n",
      " [2.25187331e-01 7.06153810e-02 1.47553444e-01]\n",
      " [2.51054317e-01 7.34716505e-02 1.09233603e-01]\n",
      " [3.60700190e-01 9.91915464e-02 1.75313890e-01]\n",
      " [7.68014193e-01 3.56510460e-01 5.96065998e-01]\n",
      " [2.63051480e-01 1.19072899e-01 3.68325055e-01]\n",
      " [1.81779057e-01 2.57696182e-01 1.93818092e-01]\n",
      " [4.93215062e-02 8.06693211e-02 3.34228873e-01]\n",
      " [1.17166359e-02 4.68798056e-02 2.35670358e-01]\n",
      " [8.01342651e-02 1.22819871e-01 5.96020781e-02]\n",
      " [1.55834407e-01 2.22453669e-01 1.12775177e-01]\n",
      " [1.18262917e-01 1.30524457e-01 6.43411636e-01]\n",
      " [2.49409735e-01 1.35021865e-01 7.44287312e-01]\n",
      " [6.35698140e-01 2.50914097e-01 8.19187284e-01]\n",
      " [5.77598453e-01 4.62520301e-01 9.54544067e-01]\n",
      " [8.39636445e-01 8.41225445e-01 3.76560569e-01]\n",
      " [2.24048644e-01 3.02266866e-01 3.72307420e-01]\n",
      " [4.95136648e-01 6.45697534e-01 3.66635710e-01]\n",
      " [1.88115215e+00 1.05065405e+00 9.37939882e-01]\n",
      " [1.43773401e+00 1.14858758e+00 6.47460938e+00]\n",
      " [6.62038624e-01 2.07709122e+00 1.27533255e+01]\n",
      " [1.12820220e+00 2.15908885e+00 7.63080740e+00]\n",
      " [3.19785786e+00 8.09308529e+00 1.77910233e+01]\n",
      " [2.31944397e+02 2.60082794e+02 1.50843719e+02]\n",
      " [1.12080200e+02 1.43985748e+02 2.65046265e+02]\n",
      " [1.04616034e+00 7.25270081e+00 4.37659378e+01]\n",
      " [1.43659854e+00 1.94627881e+00 3.74349070e+00]\n",
      " [3.12374783e+00 2.40249443e+00 4.26536798e+00]\n",
      " [2.85974932e+00 1.86563408e+00 3.97852707e+00]\n",
      " [6.90398097e-01 4.21418518e-01 2.32108191e-01]\n",
      " [2.12743521e+00 6.71769381e-01 1.47671878e-01]\n",
      " [9.83361185e-01 3.67077768e-01 4.84733954e-02]\n",
      " [2.95381308e-01 1.56518713e-01 1.28454706e-02]\n",
      " [1.98789179e-01 1.79957688e-01 3.14549625e-01]\n",
      " [3.04545730e-01 1.90435156e-01 6.77213907e-01]\n",
      " [2.05717564e-01 1.02920160e-01 2.33098596e-01]\n",
      " [8.52006823e-02 6.57879338e-02 2.43944049e-01]\n",
      " [4.13551331e-01 5.17436206e-01 1.30407405e+00]\n",
      " [5.59396446e-01 7.10893393e-01 6.91643655e-01]\n",
      " [1.88973676e-02 3.20040546e-02 2.17462748e-01]\n",
      " [2.88721099e-02 3.12232543e-02 9.17754322e-02]\n",
      " [1.08963832e-01 3.50324921e-02 8.36116076e-03]\n",
      " [9.21223760e-02 5.60740605e-02 1.27848849e-01]\n",
      " [4.96421829e-02 3.34709659e-02 1.93053365e-01]\n",
      " [3.25020403e-02 2.11765636e-02 1.00019179e-01]\n",
      " [1.55161005e-02 5.11444500e-03 9.38981213e-03]\n",
      " [1.42250368e-02 5.13025094e-03 6.67963643e-03]\n",
      " [3.93260941e-02 1.42775038e-02 3.11855003e-02]\n",
      " [3.02550681e-02 9.72100534e-03 1.40225450e-02]\n",
      " [2.37137098e-02 6.49952097e-03 5.25615457e-03]\n",
      " [2.02302001e-02 7.05675595e-03 1.77253056e-02]\n",
      " [1.56980287e-02 4.99431184e-03 1.14316996e-02]\n",
      " [1.29066231e-02 3.86330066e-03 5.24734939e-03]\n",
      " [9.95067693e-03 3.14015849e-03 4.57979366e-03]\n",
      " [8.78511183e-03 2.71668099e-03 4.15415922e-03]\n",
      " [8.56536813e-03 2.36935727e-03 2.14491761e-03]\n",
      " [7.35480152e-03 2.09189625e-03 1.95537740e-03]\n",
      " [7.50537030e-03 2.13109562e-03 1.46567333e-03]\n",
      " [3.54186725e-03 1.02468615e-03 1.36005878e-03]\n",
      " [3.30399000e-03 1.07615523e-03 2.14832672e-03]\n",
      " [5.04131801e-03 1.46943540e-03 1.82663428e-03]\n",
      " [2.65691034e-03 8.31392710e-04 4.28197847e-04]\n",
      " [5.13877207e-03 1.63378334e-03 6.91029942e-04]\n",
      " [4.59660590e-03 1.58396305e-03 1.58604910e-03]\n",
      " [3.16338497e-03 9.30567970e-04 5.63095673e-04]\n",
      " [1.56318466e-03 5.75462647e-04 8.68007657e-04]\n",
      " [3.03505454e-03 9.02444590e-04 2.48043769e-04]\n",
      " [1.80117728e-03 4.86764504e-04 1.54512876e-04]\n",
      " [2.28582229e-03 6.35881966e-04 7.72013154e-05]\n",
      " [1.87255302e-03 5.97438309e-04 6.40814978e-05]\n",
      " [1.41614710e-03 4.13059286e-04 5.55258557e-05]\n",
      " [8.51510558e-04 2.47142685e-04 7.80354021e-05]\n",
      " [7.01520941e-04 1.93710061e-04 5.40684341e-05]\n",
      " [7.74821732e-04 2.10076862e-04 3.54274525e-05]\n",
      " [6.15816796e-04 1.73354754e-04 3.55817465e-05]\n",
      " [1.11339428e-03 3.25099390e-04 7.53249988e-05]\n",
      " [8.16453947e-04 2.37892760e-04 1.07579952e-04]\n",
      " [8.31936311e-04 2.28964025e-04 7.48381281e-05]\n",
      " [8.75742058e-04 2.68746866e-04 1.64950936e-04]\n",
      " [6.21685351e-04 2.00309398e-04 1.62610697e-04]\n",
      " [3.90695990e-04 1.38820760e-04 1.68643819e-04]\n",
      " [9.04737855e-04 2.83696805e-04 2.19104055e-04]\n",
      " [4.35356866e-04 2.61651934e-04 2.89294461e-04]\n",
      " [2.95190956e-04 1.08607506e-04 2.07781384e-04]\n",
      " [3.09931784e-04 1.23970953e-04 1.63341581e-04]\n",
      " [3.13789234e-04 1.10536421e-04 1.94868539e-04]\n",
      " [2.69233715e-04 1.03298968e-04 1.67902908e-04]\n",
      " [2.50981713e-04 9.47851804e-05 1.88770820e-04]\n",
      " [4.48352715e-04 1.44816324e-04 1.72205298e-04]\n",
      " [1.77668277e-04 8.52691664e-05 2.60036963e-04]\n",
      " [2.12649364e-04 9.47583321e-05 1.92077743e-04]\n",
      " [1.84776494e-04 7.95863452e-05 2.59368157e-04]\n",
      " [2.60439672e-04 9.91043780e-05 2.20905233e-04]\n",
      " [3.12374847e-04 1.05620900e-04 1.51507469e-04]\n",
      " [2.00138602e-04 8.42364607e-05 2.76710838e-04]\n",
      " [1.53883855e-04 7.73967331e-05 2.85405113e-04]\n",
      " [1.38346353e-04 8.46512121e-05 4.69185528e-04]\n",
      " [1.47675964e-04 8.08482655e-05 3.64124135e-04]\n",
      " [1.62973112e-04 8.27642070e-05 3.21339961e-04]\n",
      " [2.16876870e-04 8.76992854e-05 2.54217477e-04]\n",
      " [1.30072935e-04 7.15124188e-05 3.54140706e-04]\n",
      " [1.36453789e-04 7.16387731e-05 3.21286614e-04]\n",
      " [1.12163485e-04 5.85485432e-05 2.60684348e-04]\n",
      " [1.99668022e-04 9.76049269e-05 4.25231119e-04]\n",
      " [1.41763652e-04 8.70628428e-05 4.53658693e-04]\n",
      " [1.26330429e-04 8.37845437e-05 4.78701026e-04]\n",
      " [1.14338094e-04 8.27689000e-05 5.23459283e-04]\n",
      " [1.13266156e-04 7.77277019e-05 4.77171387e-04]\n",
      " [1.07557498e-04 8.46543408e-05 5.14865154e-04]\n",
      " [8.08534533e-05 7.58752285e-05 4.90333769e-04]\n",
      " [1.12208232e-04 8.78087594e-05 5.43100818e-04]\n",
      " [1.13714406e-04 8.50332726e-05 5.13652572e-04]\n",
      " [1.07071319e-04 8.76256527e-05 5.62491594e-04]\n",
      " [1.17361531e-04 8.48370910e-05 5.25608542e-04]\n",
      " [1.11216257e-04 8.48096824e-05 5.75857703e-04]\n",
      " [1.11179950e-04 8.03567236e-05 5.23881463e-04]\n",
      " [1.19372286e-04 8.66924165e-05 5.59145468e-04]\n",
      " [8.15209496e-05 7.53342247e-05 5.58078056e-04]\n",
      " [1.01818376e-04 9.58107848e-05 7.34356407e-04]\n",
      " [1.16483789e-04 1.00634534e-04 7.50957057e-04]\n",
      " [1.02934478e-04 1.10014458e-04 8.77287472e-04]\n",
      " [1.42712946e-04 1.16357041e-04 8.56703788e-04]\n",
      " [2.70036224e-04 1.69857885e-04 1.10356673e-03]\n",
      " [4.99007525e-04 2.66137882e-04 1.55332405e-03]\n",
      " [7.56039750e-04 3.39964870e-04 1.66531815e-03]]\n"
     ]
    }
   ],
   "source": [
    "melspectrogram_np = np.array(melspectrogram)\n",
    "plt.imshow(melspectrogram_np[81], interpolation='nearest')\n",
    "plt.show()\n",
    "print(melspectrogram_np[81])\n"
   ]
  },
  {
   "cell_type": "code",
   "execution_count": 37,
   "metadata": {},
   "outputs": [],
   "source": [
    "for k in range(1000):\n",
    "    for kk in range(128):\n",
    "        for kkk in range(3):\n",
    "            melspectrogram_np[k][kk][kkk] = round(melspectrogram_np[k][kk][kkk], 2)"
   ]
  },
  {
   "cell_type": "code",
   "execution_count": 43,
   "metadata": {},
   "outputs": [
    {
     "data": {
      "image/png": "[encoded data removed]",
      "text/plain": [
       "<Figure size 432x288 with 1 Axes>"
      ]
     },
     "metadata": {
      "needs_background": "light"
     },
     "output_type": "display_data"
    },
    {
     "name": "stdout",
     "output_type": "stream",
     "text": [
      "[[3.3000e-01 2.2000e-01 1.8000e-01]\n",
      " [2.3000e-01 9.0000e-02 3.0000e-02]\n",
      " [2.0000e-02 3.0000e-02 1.5000e-01]\n",
      " [1.0000e-02 2.0000e-02 1.8000e-01]\n",
      " [1.0000e-02 4.0000e-02 1.7000e-01]\n",
      " [1.0000e-02 2.0000e-02 7.0000e-02]\n",
      " [5.0000e-02 3.0000e-02 1.2000e-01]\n",
      " [3.0000e-02 9.0000e-02 2.1000e-01]\n",
      " [1.4000e-01 8.0000e-02 3.0000e-02]\n",
      " [6.2000e-01 3.3000e-01 1.2000e-01]\n",
      " [1.4000e-01 1.1000e-01 1.8000e-01]\n",
      " [7.6000e-01 2.7000e-01 1.5000e-01]\n",
      " [6.7000e-01 2.7000e-01 2.1000e-01]\n",
      " [9.0000e-02 1.1000e-01 4.0000e-02]\n",
      " [3.0000e-02 2.0000e-02 1.0000e-02]\n",
      " [1.0000e-02 0.0000e+00 0.0000e+00]\n",
      " [1.0000e-02 2.0000e-02 1.0000e-02]\n",
      " [3.7000e-01 1.6000e-01 1.2000e-01]\n",
      " [9.2000e-01 3.7000e-01 1.4000e-01]\n",
      " [2.7000e-01 2.2000e-01 2.0000e-01]\n",
      " [1.0000e+00 6.8000e-01 4.1000e-01]\n",
      " [1.6900e+00 6.0000e-01 2.9000e-01]\n",
      " [7.2000e+00 2.0500e+00 1.8000e-01]\n",
      " [5.9600e+00 2.4300e+00 3.1000e-01]\n",
      " [1.1700e+00 1.7100e+00 4.2200e+00]\n",
      " [1.9300e+00 8.4600e+00 2.2970e+01]\n",
      " [1.4697e+02 2.3388e+02 2.0190e+02]\n",
      " [1.2504e+02 1.4518e+02 2.0148e+02]\n",
      " [8.0700e+00 4.9900e+00 1.8350e+01]\n",
      " [9.4100e+00 3.8000e+00 1.1610e+01]\n",
      " [1.5150e+01 5.8700e+00 3.8300e+00]\n",
      " [5.2300e+00 3.3400e+00 4.7000e+00]\n",
      " [1.6900e+00 1.1200e+00 1.7800e+00]\n",
      " [4.7000e-01 5.2000e-01 1.0600e+00]\n",
      " [2.3000e-01 2.7000e-01 5.3000e-01]\n",
      " [5.5000e-01 4.9000e-01 1.9000e-01]\n",
      " [4.6000e-01 3.2000e-01 1.5000e-01]\n",
      " [4.1000e-01 1.5000e-01 2.0000e-02]\n",
      " [3.5000e-01 9.0000e-02 1.0000e-02]\n",
      " [3.1000e-01 9.0000e-02 6.0000e-02]\n",
      " [1.1000e-01 1.8000e-01 1.9000e-01]\n",
      " [1.4000e-01 2.0000e-01 1.4000e-01]\n",
      " [8.0000e-02 5.0000e-02 2.0000e-02]\n",
      " [3.0000e-02 3.0000e-02 3.0000e-02]\n",
      " [7.0000e-02 4.0000e-02 2.0000e-02]\n",
      " [2.2000e-01 1.1000e-01 3.0000e-02]\n",
      " [2.0000e-02 1.0000e-02 2.0000e-02]\n",
      " [0.0000e+00 0.0000e+00 0.0000e+00]\n",
      " [2.0000e-02 1.0000e-02 0.0000e+00]\n",
      " [4.0000e-02 1.0000e-02 0.0000e+00]\n",
      " [1.0000e-02 0.0000e+00 0.0000e+00]\n",
      " [1.0000e-02 0.0000e+00 1.0000e-02]\n",
      " [0.0000e+00 0.0000e+00 1.0000e-02]\n",
      " [0.0000e+00 0.0000e+00 0.0000e+00]\n",
      " [0.0000e+00 0.0000e+00 0.0000e+00]\n",
      " [0.0000e+00 0.0000e+00 0.0000e+00]\n",
      " [0.0000e+00 0.0000e+00 0.0000e+00]\n",
      " [0.0000e+00 0.0000e+00 0.0000e+00]\n",
      " [0.0000e+00 0.0000e+00 0.0000e+00]\n",
      " [0.0000e+00 0.0000e+00 0.0000e+00]\n",
      " [0.0000e+00 0.0000e+00 0.0000e+00]\n",
      " [0.0000e+00 0.0000e+00 0.0000e+00]\n",
      " [0.0000e+00 0.0000e+00 0.0000e+00]\n",
      " [0.0000e+00 0.0000e+00 0.0000e+00]\n",
      " [0.0000e+00 0.0000e+00 0.0000e+00]\n",
      " [0.0000e+00 0.0000e+00 0.0000e+00]\n",
      " [0.0000e+00 0.0000e+00 0.0000e+00]\n",
      " [0.0000e+00 0.0000e+00 0.0000e+00]\n",
      " [0.0000e+00 0.0000e+00 0.0000e+00]\n",
      " [0.0000e+00 0.0000e+00 0.0000e+00]\n",
      " [0.0000e+00 0.0000e+00 0.0000e+00]\n",
      " [0.0000e+00 0.0000e+00 0.0000e+00]\n",
      " [0.0000e+00 0.0000e+00 0.0000e+00]\n",
      " [0.0000e+00 0.0000e+00 0.0000e+00]\n",
      " [0.0000e+00 0.0000e+00 0.0000e+00]\n",
      " [0.0000e+00 0.0000e+00 0.0000e+00]\n",
      " [0.0000e+00 0.0000e+00 0.0000e+00]\n",
      " [0.0000e+00 0.0000e+00 0.0000e+00]\n",
      " [0.0000e+00 0.0000e+00 0.0000e+00]\n",
      " [0.0000e+00 0.0000e+00 0.0000e+00]\n",
      " [0.0000e+00 0.0000e+00 0.0000e+00]\n",
      " [0.0000e+00 0.0000e+00 0.0000e+00]\n",
      " [0.0000e+00 0.0000e+00 0.0000e+00]\n",
      " [0.0000e+00 0.0000e+00 0.0000e+00]\n",
      " [0.0000e+00 0.0000e+00 0.0000e+00]\n",
      " [0.0000e+00 0.0000e+00 0.0000e+00]\n",
      " [0.0000e+00 0.0000e+00 0.0000e+00]\n",
      " [0.0000e+00 0.0000e+00 0.0000e+00]\n",
      " [0.0000e+00 0.0000e+00 0.0000e+00]\n",
      " [0.0000e+00 0.0000e+00 0.0000e+00]\n",
      " [0.0000e+00 0.0000e+00 0.0000e+00]\n",
      " [0.0000e+00 0.0000e+00 0.0000e+00]\n",
      " [0.0000e+00 0.0000e+00 0.0000e+00]\n",
      " [0.0000e+00 0.0000e+00 0.0000e+00]\n",
      " [0.0000e+00 0.0000e+00 0.0000e+00]\n",
      " [0.0000e+00 0.0000e+00 0.0000e+00]\n",
      " [0.0000e+00 0.0000e+00 0.0000e+00]\n",
      " [0.0000e+00 0.0000e+00 0.0000e+00]\n",
      " [0.0000e+00 0.0000e+00 0.0000e+00]\n",
      " [0.0000e+00 0.0000e+00 0.0000e+00]\n",
      " [0.0000e+00 0.0000e+00 0.0000e+00]\n",
      " [0.0000e+00 0.0000e+00 0.0000e+00]\n",
      " [0.0000e+00 0.0000e+00 0.0000e+00]\n",
      " [0.0000e+00 0.0000e+00 0.0000e+00]\n",
      " [0.0000e+00 0.0000e+00 0.0000e+00]\n",
      " [0.0000e+00 0.0000e+00 0.0000e+00]\n",
      " [0.0000e+00 0.0000e+00 0.0000e+00]\n",
      " [0.0000e+00 0.0000e+00 0.0000e+00]\n",
      " [0.0000e+00 0.0000e+00 0.0000e+00]\n",
      " [0.0000e+00 0.0000e+00 0.0000e+00]\n",
      " [0.0000e+00 0.0000e+00 0.0000e+00]\n",
      " [0.0000e+00 0.0000e+00 0.0000e+00]\n",
      " [0.0000e+00 0.0000e+00 0.0000e+00]\n",
      " [0.0000e+00 0.0000e+00 0.0000e+00]\n",
      " [0.0000e+00 0.0000e+00 0.0000e+00]\n",
      " [0.0000e+00 0.0000e+00 0.0000e+00]\n",
      " [0.0000e+00 0.0000e+00 0.0000e+00]\n",
      " [0.0000e+00 0.0000e+00 0.0000e+00]\n",
      " [0.0000e+00 0.0000e+00 0.0000e+00]\n",
      " [0.0000e+00 0.0000e+00 0.0000e+00]\n",
      " [0.0000e+00 0.0000e+00 0.0000e+00]\n",
      " [0.0000e+00 0.0000e+00 0.0000e+00]\n",
      " [0.0000e+00 0.0000e+00 1.0000e-02]\n",
      " [0.0000e+00 0.0000e+00 1.0000e-02]\n",
      " [0.0000e+00 0.0000e+00 1.0000e-02]\n",
      " [0.0000e+00 0.0000e+00 1.0000e-02]\n",
      " [0.0000e+00 0.0000e+00 1.0000e-02]\n",
      " [0.0000e+00 0.0000e+00 1.0000e-02]]\n"
     ]
    },
    {
     "data": {
      "text/plain": [
       "dtype('float32')"
      ]
     },
     "execution_count": 43,
     "metadata": {},
     "output_type": "execute_result"
    }
   ],
   "source": [
    "plt.imshow(melspectrogram_np[200], interpolation='nearest')\n",
    "plt.show()\n",
    "print(melspectrogram_np[0])\n",
    "melspectrogram_np.dtype"
   ]
  },
  {
   "cell_type": "code",
   "execution_count": 45,
   "metadata": {},
   "outputs": [],
   "source": [
    "melspectrogram_np_100 = melspectrogram_np*100\n",
    "melspectrogram_np_int = melspectrogram_np_100.astype(int)"
   ]
  },
  {
   "cell_type": "code",
   "execution_count": 46,
   "metadata": {
    "scrolled": true
   },
   "outputs": [
    {
     "data": {
      "image/png": "[encoded data removed]",
      "text/plain": [
       "<Figure size 432x288 with 1 Axes>"
      ]
     },
     "metadata": {
      "needs_background": "light"
     },
     "output_type": "display_data"
    }
   ],
   "source": [
    "plt.imshow(melspectrogram_np_int[200], interpolation='nearest')\n",
    "plt.show()"
   ]
  },
  {
   "cell_type": "code",
   "execution_count": 47,
   "metadata": {},
   "outputs": [],
   "source": [
    "np.save('data/mel60_int.npy', melspectrogram_np_int)"
   ]
  },
  {
   "cell_type": "code",
   "execution_count": 29,
   "metadata": {
    "scrolled": true
   },
   "outputs": [
    {
     "name": "stdout",
     "output_type": "stream",
     "text": [
      "[[-3.23846558e+02 -2.69363495e+02 -2.11374283e+02]\n",
      " [ 2.05353531e+02  1.36133118e+02  8.47792358e+01]\n",
      " [ 2.16421089e+01  5.15211411e+01  5.08497849e+01]\n",
      " [-3.86639023e+01 -3.73607712e+01 -2.13991833e+01]\n",
      " [-6.23699799e+01 -5.63623810e+01 -4.85046158e+01]\n",
      " [-3.69488602e+01 -3.83651695e+01 -3.83499641e+01]\n",
      " [-1.20684776e+01 -4.28029490e+00 -2.22818255e+00]\n",
      " [ 8.54292870e+00  8.66471100e+00  1.67233734e+01]\n",
      " [ 1.08067238e+00  1.16399336e+01  2.34913788e+01]\n",
      " [ 3.53813314e+00  4.31490946e+00  1.45892715e+01]\n",
      " [-1.30117238e-01  8.41425133e+00  1.21389332e+01]\n",
      " [ 1.15371284e+01  9.82742786e+00  7.30625057e+00]\n",
      " [ 2.16780210e+00  3.55355167e+00  2.08884335e+00]\n",
      " [-1.68135796e+01 -1.47481537e+01 -1.16221771e+01]\n",
      " [-2.18767929e+01 -1.56587677e+01 -1.43901920e+01]\n",
      " [ 1.41690111e+00 -6.87438297e+00 -1.15664034e+01]\n",
      " [ 4.08142471e+00 -2.00280833e+00 -5.80411530e+00]\n",
      " [-4.45842552e+00 -2.80334091e+00 -5.03926635e-01]\n",
      " [ 5.86326885e+00  7.02596474e+00  1.20147934e+01]\n",
      " [ 1.31882305e+01  1.07540512e+01  1.25588827e+01]]\n"
     ]
    }
   ],
   "source": [
    "print(mfccs[1])"
   ]
  },
  {
   "cell_type": "code",
   "execution_count": 30,
   "metadata": {},
   "outputs": [],
   "source": [
    "from matplotlib import pyplot as plt\n",
    "%matplotlib inline "
   ]
  },
  {
   "cell_type": "code",
   "execution_count": 31,
   "metadata": {
    "scrolled": true
   },
   "outputs": [
    {
     "data": {
      "image/png": "[encoded data removed]",
      "text/plain": [
       "<Figure size 432x288 with 1 Axes>"
      ]
     },
     "metadata": {
      "needs_background": "light"
     },
     "output_type": "display_data"
    },
    {
     "name": "stdout",
     "output_type": "stream",
     "text": [
      "60\n"
     ]
    }
   ],
   "source": [
    "mfccs_np = np.array(mfccs)\n",
    "plt.imshow(mfccs_np[200], interpolation='nearest')\n",
    "plt.show()\n",
    "print(np.size(mfccs_np[0]))"
   ]
  },
  {
   "cell_type": "code",
   "execution_count": 33,
   "metadata": {},
   "outputs": [
    {
     "ename": "NameError",
     "evalue": "name 'melspectrogram_np' is not defined",
     "output_type": "error",
     "traceback": [
      "\u001b[1;31m---------------------------------------------------------------------------\u001b[0m",
      "\u001b[1;31mNameError\u001b[0m                                 Traceback (most recent call last)",
      "\u001b[1;32m<ipython-input-33-7083b48bf96c>\u001b[0m in \u001b[0;36m<module>\u001b[1;34m\u001b[0m\n\u001b[1;32m----> 1\u001b[1;33m \u001b[0mnp\u001b[0m\u001b[1;33m.\u001b[0m\u001b[0msave\u001b[0m\u001b[1;33m(\u001b[0m\u001b[1;34m'data/mel60.npy'\u001b[0m\u001b[1;33m,\u001b[0m \u001b[0mmelspectrogram_np\u001b[0m\u001b[1;33m)\u001b[0m\u001b[1;33m\u001b[0m\u001b[1;33m\u001b[0m\u001b[0m\n\u001b[0m",
      "\u001b[1;31mNameError\u001b[0m: name 'melspectrogram_np' is not defined"
     ]
    }
   ],
   "source": [
    "np.save('data/mel60.npy', melspectrogram_np)"
   ]
  },
  {
   "cell_type": "code",
   "execution_count": 38,
   "metadata": {},
   "outputs": [
    {
     "name": "stdout",
     "output_type": "stream",
     "text": [
      "[[4.63276580e-02 8.20715725e-02 1.38463080e-01]\n",
      " [6.79655969e-02 9.78960246e-02 1.22139305e-01]\n",
      " [1.93851776e-02 2.92165484e-02 1.38685793e-01]\n",
      " [1.61371212e-02 2.29923017e-02 3.87989655e-02]\n",
      " [4.75613587e-03 1.51298754e-02 1.02013722e-01]\n",
      " [1.02262862e-03 1.35113522e-02 1.26299620e-01]\n",
      " [2.84754764e-02 3.08909826e-02 1.58222437e-01]\n",
      " [2.61222105e-02 7.52530023e-02 2.31881291e-01]\n",
      " [1.45065770e-01 7.78900832e-02 7.85810873e-02]\n",
      " [9.14467812e-01 4.72860813e-01 1.25987858e-01]\n",
      " [1.61960408e-01 1.03943519e-01 5.40692061e-02]\n",
      " [6.02724671e-01 1.93889916e-01 4.61391285e-02]\n",
      " [8.48761201e-01 3.51609081e-01 1.21279322e-01]\n",
      " [2.18757167e-01 2.21532583e-01 6.24586344e-02]\n",
      " [1.52794778e-01 4.36701737e-02 2.62328964e-02]\n",
      " [5.04185036e-02 2.05766559e-02 1.29803382e-02]\n",
      " [6.61978945e-02 2.82741860e-02 2.81847306e-02]\n",
      " [3.61625612e-01 3.07935715e-01 2.74955869e-01]\n",
      " [1.78120744e+00 8.73153925e-01 2.07015902e-01]\n",
      " [3.90899062e-01 2.68919379e-01 2.03528538e-01]\n",
      " [3.41714382e-01 4.30111587e-01 3.92452478e-01]\n",
      " [1.35689783e+00 5.31508923e-01 2.92455375e-01]\n",
      " [6.83137751e+00 1.92908645e+00 1.20998196e-01]\n",
      " [6.22096634e+00 2.49659300e+00 2.59761333e-01]\n",
      " [1.35839093e+00 1.73332942e+00 4.04344177e+00]\n",
      " [2.96063328e+00 8.02754402e+00 1.80302544e+01]\n",
      " [1.40267059e+02 2.33124908e+02 2.15069244e+02]\n",
      " [1.32093033e+02 1.46327026e+02 1.99372528e+02]\n",
      " [5.87759304e+00 4.51311493e+00 1.69605751e+01]\n",
      " [7.98362446e+00 3.28887224e+00 1.01010647e+01]\n",
      " [1.45571518e+01 5.57494354e+00 3.55244994e+00]\n",
      " [5.97973347e+00 3.51792479e+00 4.28801060e+00]\n",
      " [1.55043304e+00 1.05482149e+00 1.37218857e+00]\n",
      " [4.62535799e-01 4.85681713e-01 8.38561177e-01]\n",
      " [2.68988758e-01 2.71964669e-01 4.40071404e-01]\n",
      " [3.12756032e-01 2.72257388e-01 1.96387827e-01]\n",
      " [4.26216811e-01 2.56836057e-01 3.82717289e-02]\n",
      " [2.34427825e-01 1.14726044e-01 2.73949672e-02]\n",
      " [1.92136884e-01 5.74834049e-02 8.35906714e-02]\n",
      " [1.69235125e-01 7.91019648e-02 2.87783623e-01]\n",
      " [1.43316746e-01 5.61617076e-01 1.19129837e+00]\n",
      " [3.08098972e-01 3.99477690e-01 2.73647547e-01]\n",
      " [4.34937477e-02 3.52840945e-02 1.64588541e-02]\n",
      " [6.68573454e-02 4.44022715e-02 3.03229447e-02]\n",
      " [3.90514918e-02 2.14876588e-02 2.25800611e-02]\n",
      " [4.41751964e-02 2.76206583e-02 5.20575047e-02]\n",
      " [2.62755882e-02 1.08183976e-02 1.49050811e-02]\n",
      " [2.20018346e-03 2.02975865e-03 1.96231366e-03]\n",
      " [1.11432951e-02 3.86663945e-03 2.22787698e-04]\n",
      " [3.90247814e-02 1.24438303e-02 4.20929340e-04]\n",
      " [8.17727391e-03 3.09168547e-03 2.49059289e-03]\n",
      " [8.50084424e-03 2.85333302e-03 3.99690587e-03]\n",
      " [2.38736859e-03 1.27709250e-03 5.62796742e-03]\n",
      " [1.69199498e-04 6.33462681e-04 5.35056693e-03]\n",
      " [2.84135109e-04 5.54540893e-04 3.15725803e-03]\n",
      " [1.81291121e-04 2.53183127e-04 5.72211226e-04]\n",
      " [2.21772771e-05 6.64223116e-05 1.05558465e-04]\n",
      " [2.50723097e-04 2.44174269e-04 8.74283141e-04]\n",
      " [3.40899802e-04 2.48909753e-04 1.21018616e-03]\n",
      " [8.97568389e-05 1.63455261e-04 1.02427392e-03]\n",
      " [9.31062241e-05 2.36862194e-04 1.05692330e-03]\n",
      " [4.01031924e-04 2.09204911e-04 3.75872478e-04]\n",
      " [8.20182249e-05 1.31856446e-04 9.77677992e-04]\n",
      " [2.07939680e-04 2.45462870e-04 1.06510532e-03]\n",
      " [4.10880777e-04 4.35491791e-04 2.40372960e-03]\n",
      " [1.09535316e-03 7.88653153e-04 2.19180714e-03]\n",
      " [5.07006596e-04 1.02635624e-03 3.50244017e-03]\n",
      " [2.33111467e-04 4.14929294e-04 2.49811960e-03]\n",
      " [5.27605182e-04 5.12187253e-04 2.31147907e-03]\n",
      " [4.61164018e-04 4.33004054e-04 1.95668079e-03]\n",
      " [3.66952503e-04 3.02184781e-04 1.48105319e-03]\n",
      " [1.52927270e-04 2.16692308e-04 1.54291012e-03]\n",
      " [3.36321937e-05 2.28349425e-04 1.78794330e-03]\n",
      " [6.19972052e-05 2.26833246e-04 1.61262602e-03]\n",
      " [6.08131886e-05 2.29991434e-04 1.91878271e-03]\n",
      " [1.60988220e-05 1.69616804e-04 1.68985524e-03]\n",
      " [7.16415798e-06 1.72513304e-04 1.81885064e-03]\n",
      " [9.04299377e-05 2.07849502e-04 1.90507667e-03]\n",
      " [8.35299434e-05 1.73141714e-04 1.50039128e-03]\n",
      " [1.47233630e-04 1.88904203e-04 1.60500815e-03]\n",
      " [7.67750171e-05 2.16543092e-04 1.89517462e-03]\n",
      " [9.39909660e-05 3.36278754e-04 2.91330740e-03]\n",
      " [4.63526267e-05 3.05831141e-04 3.05501907e-03]\n",
      " [1.35360082e-04 3.55601689e-04 3.36407404e-03]\n",
      " [7.15652859e-05 3.38455284e-04 3.14300531e-03]\n",
      " [1.75400812e-04 4.06822772e-04 2.45954189e-03]\n",
      " [4.73802284e-05 2.65493814e-04 2.60586664e-03]\n",
      " [3.61902021e-05 2.81846646e-04 2.88602617e-03]\n",
      " [1.57143422e-05 2.73803016e-04 2.84322654e-03]\n",
      " [4.45819678e-05 2.82140390e-04 2.66189966e-03]\n",
      " [6.50052389e-05 2.33988103e-04 2.11494369e-03]\n",
      " [2.51124966e-05 2.74805672e-04 2.83147278e-03]\n",
      " [1.02644390e-05 2.65100243e-04 2.73876777e-03]\n",
      " [1.15605817e-05 2.82758148e-04 3.00623663e-03]\n",
      " [3.70663329e-05 2.60739587e-04 2.65053939e-03]\n",
      " [2.19682697e-05 3.02916800e-04 3.09500284e-03]\n",
      " [3.88183289e-05 3.54680029e-04 3.58026149e-03]\n",
      " [2.59664848e-05 3.27496440e-04 3.33946571e-03]\n",
      " [3.64853622e-05 2.89881660e-04 2.90727429e-03]\n",
      " [2.23876523e-05 3.08750779e-04 3.13633541e-03]\n",
      " [1.10168094e-05 3.12403310e-04 3.28391558e-03]\n",
      " [1.65852762e-05 3.08169634e-04 3.14798253e-03]\n",
      " [1.90660794e-05 3.12788412e-04 3.23249470e-03]\n",
      " [1.46399334e-05 3.20675725e-04 3.40250507e-03]\n",
      " [2.45660576e-05 3.21238069e-04 3.40963062e-03]\n",
      " [1.30421995e-05 3.13762313e-04 3.33274668e-03]\n",
      " [1.72940781e-05 3.17528204e-04 3.25746182e-03]\n",
      " [1.08314907e-05 3.37211241e-04 3.61963455e-03]\n",
      " [2.39155870e-05 3.56710749e-04 3.78614897e-03]\n",
      " [7.92032370e-06 3.14412522e-04 3.40300752e-03]\n",
      " [2.30303594e-05 3.33590200e-04 3.53641668e-03]\n",
      " [2.45770825e-05 3.37897625e-04 3.57159576e-03]\n",
      " [1.43701072e-05 3.37515143e-04 3.61378584e-03]\n",
      " [1.51159338e-05 3.29933100e-04 3.53144575e-03]\n",
      " [1.44812720e-05 3.53139942e-04 3.79164726e-03]\n",
      " [1.80822426e-05 3.66287946e-04 3.93867213e-03]\n",
      " [1.46870079e-05 3.67751461e-04 3.94695438e-03]\n",
      " [1.11655190e-05 3.74095602e-04 4.05300874e-03]\n",
      " [1.18050139e-05 3.92275659e-04 4.25798632e-03]\n",
      " [9.44440762e-06 3.70890077e-04 4.01913002e-03]\n",
      " [7.48696630e-06 4.05773957e-04 4.37220931e-03]\n",
      " [7.13639611e-06 4.14971844e-04 4.53205872e-03]\n",
      " [7.31149703e-06 4.30058426e-04 4.67631407e-03]\n",
      " [6.90930119e-06 4.66826430e-04 5.07051777e-03]\n",
      " [7.60444118e-06 5.11464081e-04 5.57308597e-03]\n",
      " [6.18154991e-06 6.28562877e-04 6.88677514e-03]\n",
      " [3.40938504e-06 7.88293895e-04 8.69452395e-03]\n",
      " [1.85733563e-06 8.83876230e-04 9.77093633e-03]]\n"
     ]
    }
   ],
   "source": [
    "melspectrogram_np_load=np.load('data/mel60.npy')\n",
    "print(melspectrogram_np_load[1])"
   ]
  },
  {
   "cell_type": "code",
   "execution_count": 3,
   "metadata": {},
   "outputs": [],
   "source": [
    "from sklearn import preprocessing"
   ]
  },
  {
   "cell_type": "code",
   "execution_count": 40,
   "metadata": {},
   "outputs": [],
   "source": [
    "binarizer = preprocessing.Binarizer(threshold=0.5)"
   ]
  },
  {
   "cell_type": "code",
   "execution_count": 39,
   "metadata": {},
   "outputs": [],
   "source": [
    "for i in range(1000):\n",
    "    amax, amin = melspectrogram_np_load[i].max(), melspectrogram_np_load[i].min()\n",
    "    melspectrogram_np_load[i] = (melspectrogram_np_load[i]-amin)/(amax-amin)"
   ]
  },
  {
   "cell_type": "code",
   "execution_count": 41,
   "metadata": {},
   "outputs": [],
   "source": [
    "for i in range(1000):\n",
    "    melspectrogram_np_load[i]=binarizer.transform(melspectrogram_np_load[i])"
   ]
  },
  {
   "cell_type": "code",
   "execution_count": 42,
   "metadata": {
    "scrolled": true
   },
   "outputs": [
    {
     "name": "stdout",
     "output_type": "stream",
     "text": [
      "[[0. 0. 0.]\n",
      " [0. 0. 0.]\n",
      " [0. 0. 0.]\n",
      " [0. 0. 0.]\n",
      " [0. 0. 0.]\n",
      " [0. 0. 0.]\n",
      " [0. 0. 0.]\n",
      " [0. 0. 0.]\n",
      " [0. 0. 0.]\n",
      " [0. 0. 0.]\n",
      " [0. 0. 0.]\n",
      " [0. 0. 0.]\n",
      " [0. 0. 0.]\n",
      " [0. 0. 0.]\n",
      " [0. 0. 0.]\n",
      " [0. 0. 0.]\n",
      " [0. 0. 0.]\n",
      " [0. 0. 0.]\n",
      " [0. 0. 0.]\n",
      " [0. 0. 0.]\n",
      " [0. 0. 0.]\n",
      " [0. 0. 0.]\n",
      " [0. 0. 0.]\n",
      " [0. 0. 0.]\n",
      " [0. 0. 0.]\n",
      " [0. 0. 0.]\n",
      " [1. 1. 1.]\n",
      " [1. 1. 1.]\n",
      " [0. 0. 0.]\n",
      " [0. 0. 0.]\n",
      " [0. 0. 0.]\n",
      " [0. 0. 0.]\n",
      " [0. 0. 0.]\n",
      " [0. 0. 0.]\n",
      " [0. 0. 0.]\n",
      " [0. 0. 0.]\n",
      " [0. 0. 0.]\n",
      " [0. 0. 0.]\n",
      " [0. 0. 0.]\n",
      " [0. 0. 0.]\n",
      " [0. 0. 0.]\n",
      " [0. 0. 0.]\n",
      " [0. 0. 0.]\n",
      " [0. 0. 0.]\n",
      " [0. 0. 0.]\n",
      " [0. 0. 0.]\n",
      " [0. 0. 0.]\n",
      " [0. 0. 0.]\n",
      " [0. 0. 0.]\n",
      " [0. 0. 0.]\n",
      " [0. 0. 0.]\n",
      " [0. 0. 0.]\n",
      " [0. 0. 0.]\n",
      " [0. 0. 0.]\n",
      " [0. 0. 0.]\n",
      " [0. 0. 0.]\n",
      " [0. 0. 0.]\n",
      " [0. 0. 0.]\n",
      " [0. 0. 0.]\n",
      " [0. 0. 0.]\n",
      " [0. 0. 0.]\n",
      " [0. 0. 0.]\n",
      " [0. 0. 0.]\n",
      " [0. 0. 0.]\n",
      " [0. 0. 0.]\n",
      " [0. 0. 0.]\n",
      " [0. 0. 0.]\n",
      " [0. 0. 0.]\n",
      " [0. 0. 0.]\n",
      " [0. 0. 0.]\n",
      " [0. 0. 0.]\n",
      " [0. 0. 0.]\n",
      " [0. 0. 0.]\n",
      " [0. 0. 0.]\n",
      " [0. 0. 0.]\n",
      " [0. 0. 0.]\n",
      " [0. 0. 0.]\n",
      " [0. 0. 0.]\n",
      " [0. 0. 0.]\n",
      " [0. 0. 0.]\n",
      " [0. 0. 0.]\n",
      " [0. 0. 0.]\n",
      " [0. 0. 0.]\n",
      " [0. 0. 0.]\n",
      " [0. 0. 0.]\n",
      " [0. 0. 0.]\n",
      " [0. 0. 0.]\n",
      " [0. 0. 0.]\n",
      " [0. 0. 0.]\n",
      " [0. 0. 0.]\n",
      " [0. 0. 0.]\n",
      " [0. 0. 0.]\n",
      " [0. 0. 0.]\n",
      " [0. 0. 0.]\n",
      " [0. 0. 0.]\n",
      " [0. 0. 0.]\n",
      " [0. 0. 0.]\n",
      " [0. 0. 0.]\n",
      " [0. 0. 0.]\n",
      " [0. 0. 0.]\n",
      " [0. 0. 0.]\n",
      " [0. 0. 0.]\n",
      " [0. 0. 0.]\n",
      " [0. 0. 0.]\n",
      " [0. 0. 0.]\n",
      " [0. 0. 0.]\n",
      " [0. 0. 0.]\n",
      " [0. 0. 0.]\n",
      " [0. 0. 0.]\n",
      " [0. 0. 0.]\n",
      " [0. 0. 0.]\n",
      " [0. 0. 0.]\n",
      " [0. 0. 0.]\n",
      " [0. 0. 0.]\n",
      " [0. 0. 0.]\n",
      " [0. 0. 0.]\n",
      " [0. 0. 0.]\n",
      " [0. 0. 0.]\n",
      " [0. 0. 0.]\n",
      " [0. 0. 0.]\n",
      " [0. 0. 0.]\n",
      " [0. 0. 0.]\n",
      " [0. 0. 0.]\n",
      " [0. 0. 0.]\n",
      " [0. 0. 0.]\n",
      " [0. 0. 0.]\n",
      " [0. 0. 0.]\n",
      " [0. 0. 0.]]\n"
     ]
    }
   ],
   "source": [
    "print(melspectrogram_np_load[1])"
   ]
  },
  {
   "cell_type": "code",
   "execution_count": 10,
   "metadata": {},
   "outputs": [],
   "source": [
    "from matplotlib import pyplot as plt\n",
    "%matplotlib inline "
   ]
  },
  {
   "cell_type": "code",
   "execution_count": 43,
   "metadata": {},
   "outputs": [
    {
     "data": {
      "image/png": "[encoded data removed]",
      "text/plain": [
       "<Figure size 432x288 with 1 Axes>"
      ]
     },
     "metadata": {
      "needs_background": "light"
     },
     "output_type": "display_data"
    }
   ],
   "source": [
    "plt.imshow(melspectrogram_np_load[200], interpolation='nearest')\n",
    "plt.show()"
   ]
  },
  {
   "cell_type": "code",
   "execution_count": 44,
   "metadata": {},
   "outputs": [],
   "source": [
    "melspectrogram_np_bi = melspectrogram_np_load.astype(int)"
   ]
  },
  {
   "cell_type": "code",
   "execution_count": 46,
   "metadata": {},
   "outputs": [],
   "source": [
    "np.save('data/mel60_bi.npy', melspectrogram_np_load)"
   ]
  }
 ],
 "metadata": {
  "kernelspec": {
   "display_name": "Python 3",
   "language": "python",
   "name": "python3"
  },
  "language_info": {
   "codemirror_mode": {
    "name": "ipython",
    "version": 3
   },
   "file_extension": ".py",
   "mimetype": "text/x-python",
   "name": "python",
   "nbconvert_exporter": "python",
   "pygments_lexer": "ipython3",
   "version": "3.7.6"
  }
 },
 "nbformat": 4,
 "nbformat_minor": 4
}
